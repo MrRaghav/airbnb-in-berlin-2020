{
 "cells": [
  {
   "cell_type": "code",
   "execution_count": null,
   "metadata": {},
   "outputs": [],
   "source": []
  },
  {
   "cell_type": "code",
   "execution_count": 1,
   "metadata": {},
   "outputs": [],
   "source": [
    "import pandas as pd\n",
    "#references - see ../referencesUsed.txt file"
   ]
  },
  {
   "cell_type": "code",
   "execution_count": 2,
   "metadata": {},
   "outputs": [
    {
     "name": "stderr",
     "output_type": "stream",
     "text": [
      "C:\\Users\\Raghvendra\\Anaconda3\\lib\\site-packages\\IPython\\core\\interactiveshell.py:3058: DtypeWarning: Columns (43,61,62) have mixed types. Specify dtype option on import or set low_memory=False.\n",
      "  interactivity=interactivity, compiler=compiler, result=result)\n"
     ]
    }
   ],
   "source": [
    "listingsSummary = pd.read_csv(\"D:/Raghvendra/Masters/Irish Applications/DCU/DCU subjects study/Sem2_CA683 data analytics and data mining/Main Assignment/berlin airbnb 2020/listings_summary.csv\")\n",
    "neighbourhoods = pd.read_csv(\"D:/Raghvendra/Masters/Irish Applications/DCU/DCU subjects study/Sem2_CA683 data analytics and data mining/Main Assignment/berlin airbnb 2020/neighbourhoods.csv\")"
   ]
  },
  {
   "cell_type": "code",
   "execution_count": 3,
   "metadata": {},
   "outputs": [
    {
     "data": {
      "text/html": [
       "<div>\n",
       "<style scoped>\n",
       "    .dataframe tbody tr th:only-of-type {\n",
       "        vertical-align: middle;\n",
       "    }\n",
       "\n",
       "    .dataframe tbody tr th {\n",
       "        vertical-align: top;\n",
       "    }\n",
       "\n",
       "    .dataframe thead th {\n",
       "        text-align: right;\n",
       "    }\n",
       "</style>\n",
       "<table border=\"1\" class=\"dataframe\">\n",
       "  <thead>\n",
       "    <tr style=\"text-align: right;\">\n",
       "      <th></th>\n",
       "      <th>id</th>\n",
       "      <th>listing_url</th>\n",
       "      <th>scrape_id</th>\n",
       "      <th>last_scraped</th>\n",
       "      <th>name</th>\n",
       "      <th>summary</th>\n",
       "      <th>space</th>\n",
       "      <th>description</th>\n",
       "      <th>experiences_offered</th>\n",
       "      <th>neighborhood_overview</th>\n",
       "      <th>...</th>\n",
       "      <th>instant_bookable</th>\n",
       "      <th>is_business_travel_ready</th>\n",
       "      <th>cancellation_policy</th>\n",
       "      <th>require_guest_profile_picture</th>\n",
       "      <th>require_guest_phone_verification</th>\n",
       "      <th>calculated_host_listings_count</th>\n",
       "      <th>calculated_host_listings_count_entire_homes</th>\n",
       "      <th>calculated_host_listings_count_private_rooms</th>\n",
       "      <th>calculated_host_listings_count_shared_rooms</th>\n",
       "      <th>reviews_per_month</th>\n",
       "    </tr>\n",
       "  </thead>\n",
       "  <tbody>\n",
       "    <tr>\n",
       "      <td>0</td>\n",
       "      <td>3176</td>\n",
       "      <td>https://www.airbnb.com/rooms/3176</td>\n",
       "      <td>20200218053611</td>\n",
       "      <td>2020-02-18</td>\n",
       "      <td>Fabulous Flat in great Location</td>\n",
       "      <td>This beautiful first floor apartment  is situa...</td>\n",
       "      <td>1st floor (68m2) apartment on Kollwitzplatz/ P...</td>\n",
       "      <td>This beautiful first floor apartment  is situa...</td>\n",
       "      <td>none</td>\n",
       "      <td>The neighbourhood is famous for its variety of...</td>\n",
       "      <td>...</td>\n",
       "      <td>f</td>\n",
       "      <td>f</td>\n",
       "      <td>strict_14_with_grace_period</td>\n",
       "      <td>f</td>\n",
       "      <td>f</td>\n",
       "      <td>1</td>\n",
       "      <td>1</td>\n",
       "      <td>0</td>\n",
       "      <td>0</td>\n",
       "      <td>1.12</td>\n",
       "    </tr>\n",
       "    <tr>\n",
       "      <td>1</td>\n",
       "      <td>3309</td>\n",
       "      <td>https://www.airbnb.com/rooms/3309</td>\n",
       "      <td>20200218053611</td>\n",
       "      <td>2020-02-19</td>\n",
       "      <td>BerlinSpot Schöneberg near KaDeWe</td>\n",
       "      <td>First of all: I prefer short-notice bookings. ...</td>\n",
       "      <td>Your room is really big and has 26 sqm, is ver...</td>\n",
       "      <td>First of all: I prefer short-notice bookings. ...</td>\n",
       "      <td>none</td>\n",
       "      <td>My flat is in the middle of West-Berlin, direc...</td>\n",
       "      <td>...</td>\n",
       "      <td>f</td>\n",
       "      <td>f</td>\n",
       "      <td>strict_14_with_grace_period</td>\n",
       "      <td>f</td>\n",
       "      <td>f</td>\n",
       "      <td>1</td>\n",
       "      <td>0</td>\n",
       "      <td>1</td>\n",
       "      <td>0</td>\n",
       "      <td>0.34</td>\n",
       "    </tr>\n",
       "    <tr>\n",
       "      <td>2</td>\n",
       "      <td>6883</td>\n",
       "      <td>https://www.airbnb.com/rooms/6883</td>\n",
       "      <td>20200218053611</td>\n",
       "      <td>2020-02-19</td>\n",
       "      <td>Stylish East Side Loft in Center with AC &amp; 2 b...</td>\n",
       "      <td>NaN</td>\n",
       "      <td>Stay in a stylish loft on the second floor and...</td>\n",
       "      <td>Stay in a stylish loft on the second floor and...</td>\n",
       "      <td>none</td>\n",
       "      <td>The emerging and upcoming East of the new hip ...</td>\n",
       "      <td>...</td>\n",
       "      <td>f</td>\n",
       "      <td>f</td>\n",
       "      <td>moderate</td>\n",
       "      <td>f</td>\n",
       "      <td>t</td>\n",
       "      <td>1</td>\n",
       "      <td>1</td>\n",
       "      <td>0</td>\n",
       "      <td>0</td>\n",
       "      <td>1.08</td>\n",
       "    </tr>\n",
       "  </tbody>\n",
       "</table>\n",
       "<p>3 rows × 106 columns</p>\n",
       "</div>"
      ],
      "text/plain": [
       "     id                        listing_url       scrape_id last_scraped  \\\n",
       "0  3176  https://www.airbnb.com/rooms/3176  20200218053611   2020-02-18   \n",
       "1  3309  https://www.airbnb.com/rooms/3309  20200218053611   2020-02-19   \n",
       "2  6883  https://www.airbnb.com/rooms/6883  20200218053611   2020-02-19   \n",
       "\n",
       "                                                name  \\\n",
       "0                    Fabulous Flat in great Location   \n",
       "1                  BerlinSpot Schöneberg near KaDeWe   \n",
       "2  Stylish East Side Loft in Center with AC & 2 b...   \n",
       "\n",
       "                                             summary  \\\n",
       "0  This beautiful first floor apartment  is situa...   \n",
       "1  First of all: I prefer short-notice bookings. ...   \n",
       "2                                                NaN   \n",
       "\n",
       "                                               space  \\\n",
       "0  1st floor (68m2) apartment on Kollwitzplatz/ P...   \n",
       "1  Your room is really big and has 26 sqm, is ver...   \n",
       "2  Stay in a stylish loft on the second floor and...   \n",
       "\n",
       "                                         description experiences_offered  \\\n",
       "0  This beautiful first floor apartment  is situa...                none   \n",
       "1  First of all: I prefer short-notice bookings. ...                none   \n",
       "2  Stay in a stylish loft on the second floor and...                none   \n",
       "\n",
       "                               neighborhood_overview  ... instant_bookable  \\\n",
       "0  The neighbourhood is famous for its variety of...  ...                f   \n",
       "1  My flat is in the middle of West-Berlin, direc...  ...                f   \n",
       "2  The emerging and upcoming East of the new hip ...  ...                f   \n",
       "\n",
       "  is_business_travel_ready          cancellation_policy  \\\n",
       "0                        f  strict_14_with_grace_period   \n",
       "1                        f  strict_14_with_grace_period   \n",
       "2                        f                     moderate   \n",
       "\n",
       "  require_guest_profile_picture require_guest_phone_verification  \\\n",
       "0                             f                                f   \n",
       "1                             f                                f   \n",
       "2                             f                                t   \n",
       "\n",
       "   calculated_host_listings_count  \\\n",
       "0                               1   \n",
       "1                               1   \n",
       "2                               1   \n",
       "\n",
       "   calculated_host_listings_count_entire_homes  \\\n",
       "0                                            1   \n",
       "1                                            0   \n",
       "2                                            1   \n",
       "\n",
       "  calculated_host_listings_count_private_rooms  \\\n",
       "0                                            0   \n",
       "1                                            1   \n",
       "2                                            0   \n",
       "\n",
       "   calculated_host_listings_count_shared_rooms  reviews_per_month  \n",
       "0                                            0               1.12  \n",
       "1                                            0               0.34  \n",
       "2                                            0               1.08  \n",
       "\n",
       "[3 rows x 106 columns]"
      ]
     },
     "execution_count": 3,
     "metadata": {},
     "output_type": "execute_result"
    }
   ],
   "source": [
    "listingsSummary.head(3)"
   ]
  },
  {
   "cell_type": "code",
   "execution_count": 4,
   "metadata": {},
   "outputs": [
    {
     "data": {
      "text/html": [
       "<div>\n",
       "<style scoped>\n",
       "    .dataframe tbody tr th:only-of-type {\n",
       "        vertical-align: middle;\n",
       "    }\n",
       "\n",
       "    .dataframe tbody tr th {\n",
       "        vertical-align: top;\n",
       "    }\n",
       "\n",
       "    .dataframe thead th {\n",
       "        text-align: right;\n",
       "    }\n",
       "</style>\n",
       "<table border=\"1\" class=\"dataframe\">\n",
       "  <thead>\n",
       "    <tr style=\"text-align: right;\">\n",
       "      <th></th>\n",
       "      <th>neighbourhood_group</th>\n",
       "      <th>neighbourhood</th>\n",
       "    </tr>\n",
       "  </thead>\n",
       "  <tbody>\n",
       "    <tr>\n",
       "      <td>0</td>\n",
       "      <td>Charlottenburg-Wilm.</td>\n",
       "      <td>Barstraße</td>\n",
       "    </tr>\n",
       "    <tr>\n",
       "      <td>1</td>\n",
       "      <td>Charlottenburg-Wilm.</td>\n",
       "      <td>Charlottenburg Nord</td>\n",
       "    </tr>\n",
       "    <tr>\n",
       "      <td>2</td>\n",
       "      <td>Charlottenburg-Wilm.</td>\n",
       "      <td>Düsseldorfer Straße</td>\n",
       "    </tr>\n",
       "  </tbody>\n",
       "</table>\n",
       "</div>"
      ],
      "text/plain": [
       "    neighbourhood_group        neighbourhood\n",
       "0  Charlottenburg-Wilm.            Barstraße\n",
       "1  Charlottenburg-Wilm.  Charlottenburg Nord\n",
       "2  Charlottenburg-Wilm.  Düsseldorfer Straße"
      ]
     },
     "execution_count": 4,
     "metadata": {},
     "output_type": "execute_result"
    }
   ],
   "source": [
    "neighbourhoods.head(3)"
   ]
  },
  {
   "cell_type": "code",
   "execution_count": 5,
   "metadata": {},
   "outputs": [
    {
     "data": {
      "text/html": [
       "<div>\n",
       "<style scoped>\n",
       "    .dataframe tbody tr th:only-of-type {\n",
       "        vertical-align: middle;\n",
       "    }\n",
       "\n",
       "    .dataframe tbody tr th {\n",
       "        vertical-align: top;\n",
       "    }\n",
       "\n",
       "    .dataframe thead th {\n",
       "        text-align: right;\n",
       "    }\n",
       "</style>\n",
       "<table border=\"1\" class=\"dataframe\">\n",
       "  <thead>\n",
       "    <tr style=\"text-align: right;\">\n",
       "      <th></th>\n",
       "      <th>name</th>\n",
       "      <th>space</th>\n",
       "      <th>experiences_offered</th>\n",
       "      <th>neighbourhood_cleansed</th>\n",
       "      <th>neighbourhood_group_cleansed</th>\n",
       "      <th>price</th>\n",
       "      <th>monthly_price</th>\n",
       "      <th>host_total_listings_count</th>\n",
       "    </tr>\n",
       "  </thead>\n",
       "  <tbody>\n",
       "    <tr>\n",
       "      <td>0</td>\n",
       "      <td>Fabulous Flat in great Location</td>\n",
       "      <td>1st floor (68m2) apartment on Kollwitzplatz/ P...</td>\n",
       "      <td>none</td>\n",
       "      <td>Prenzlauer Berg Südwest</td>\n",
       "      <td>Pankow</td>\n",
       "      <td>$90.00</td>\n",
       "      <td>$1,900.00</td>\n",
       "      <td>1.0</td>\n",
       "    </tr>\n",
       "    <tr>\n",
       "      <td>1</td>\n",
       "      <td>BerlinSpot Schöneberg near KaDeWe</td>\n",
       "      <td>Your room is really big and has 26 sqm, is ver...</td>\n",
       "      <td>none</td>\n",
       "      <td>Schöneberg-Nord</td>\n",
       "      <td>Tempelhof - Schöneberg</td>\n",
       "      <td>$28.00</td>\n",
       "      <td>$599.00</td>\n",
       "      <td>1.0</td>\n",
       "    </tr>\n",
       "    <tr>\n",
       "      <td>2</td>\n",
       "      <td>Stylish East Side Loft in Center with AC &amp; 2 b...</td>\n",
       "      <td>Stay in a stylish loft on the second floor and...</td>\n",
       "      <td>none</td>\n",
       "      <td>Frankfurter Allee Süd FK</td>\n",
       "      <td>Friedrichshain-Kreuzberg</td>\n",
       "      <td>$125.00</td>\n",
       "      <td>$1,399.00</td>\n",
       "      <td>1.0</td>\n",
       "    </tr>\n",
       "    <tr>\n",
       "      <td>3</td>\n",
       "      <td>BrightRoom with sunny greenview!</td>\n",
       "      <td>The BrightRoom is an approx. 20 sqm (215ft²), ...</td>\n",
       "      <td>none</td>\n",
       "      <td>Helmholtzplatz</td>\n",
       "      <td>Pankow</td>\n",
       "      <td>$33.00</td>\n",
       "      <td>NaN</td>\n",
       "      <td>2.0</td>\n",
       "    </tr>\n",
       "    <tr>\n",
       "      <td>4</td>\n",
       "      <td>Geourgeous flat - outstanding views</td>\n",
       "      <td>THE APPARTMENT - 4 bedroom (US, Germany: 5 roo...</td>\n",
       "      <td>none</td>\n",
       "      <td>Prenzlauer Berg Südwest</td>\n",
       "      <td>Pankow</td>\n",
       "      <td>$180.00</td>\n",
       "      <td>NaN</td>\n",
       "      <td>1.0</td>\n",
       "    </tr>\n",
       "  </tbody>\n",
       "</table>\n",
       "</div>"
      ],
      "text/plain": [
       "                                                name  \\\n",
       "0                    Fabulous Flat in great Location   \n",
       "1                  BerlinSpot Schöneberg near KaDeWe   \n",
       "2  Stylish East Side Loft in Center with AC & 2 b...   \n",
       "3                   BrightRoom with sunny greenview!   \n",
       "4                Geourgeous flat - outstanding views   \n",
       "\n",
       "                                               space experiences_offered  \\\n",
       "0  1st floor (68m2) apartment on Kollwitzplatz/ P...                none   \n",
       "1  Your room is really big and has 26 sqm, is ver...                none   \n",
       "2  Stay in a stylish loft on the second floor and...                none   \n",
       "3  The BrightRoom is an approx. 20 sqm (215ft²), ...                none   \n",
       "4  THE APPARTMENT - 4 bedroom (US, Germany: 5 roo...                none   \n",
       "\n",
       "     neighbourhood_cleansed neighbourhood_group_cleansed    price  \\\n",
       "0   Prenzlauer Berg Südwest                       Pankow   $90.00   \n",
       "1           Schöneberg-Nord       Tempelhof - Schöneberg   $28.00   \n",
       "2  Frankfurter Allee Süd FK     Friedrichshain-Kreuzberg  $125.00   \n",
       "3            Helmholtzplatz                       Pankow   $33.00   \n",
       "4   Prenzlauer Berg Südwest                       Pankow  $180.00   \n",
       "\n",
       "  monthly_price  host_total_listings_count  \n",
       "0     $1,900.00                        1.0  \n",
       "1       $599.00                        1.0  \n",
       "2     $1,399.00                        1.0  \n",
       "3           NaN                        2.0  \n",
       "4           NaN                        1.0  "
      ]
     },
     "execution_count": 5,
     "metadata": {},
     "output_type": "execute_result"
    }
   ],
   "source": [
    "listingsSummary[['name', 'space','experiences_offered', 'neighbourhood_cleansed', 'neighbourhood_group_cleansed', 'price', 'monthly_price','host_total_listings_count']].head()"
   ]
  },
  {
   "cell_type": "markdown",
   "metadata": {},
   "source": [
    "Data Preparation"
   ]
  },
  {
   "cell_type": "code",
   "execution_count": 6,
   "metadata": {},
   "outputs": [
    {
     "data": {
      "text/plain": [
       "count    25197.000000\n",
       "mean        73.849863\n",
       "std        225.236453\n",
       "min          0.000000\n",
       "25%         35.000000\n",
       "50%         50.000000\n",
       "75%         79.000000\n",
       "max       9000.000000\n",
       "Name: price, dtype: float64"
      ]
     },
     "execution_count": 6,
     "metadata": {},
     "output_type": "execute_result"
    }
   ],
   "source": [
    "#Cleaning the price column\n",
    "\n",
    "priceUpdated = listingsSummary['price'].map(lambda p: int(p[1:-3].replace(\",\", \"\")))\n",
    "listingsSummary['price'] = priceUpdated\n",
    "listingsSummary['price'].describe()\n",
    "\n",
    "#priceLists = ['price', 'extra_people', 'cleaning_fee']"
   ]
  },
  {
   "cell_type": "code",
   "execution_count": 7,
   "metadata": {},
   "outputs": [
    {
     "data": {
      "text/plain": [
       "count    25197.000000\n",
       "mean         8.387387\n",
       "std         11.733263\n",
       "min          0.000000\n",
       "25%          0.000000\n",
       "50%          5.000000\n",
       "75%         15.000000\n",
       "max        250.000000\n",
       "Name: extra_people, dtype: float64"
      ]
     },
     "execution_count": 7,
     "metadata": {},
     "output_type": "execute_result"
    }
   ],
   "source": [
    "priceUpdated = listingsSummary['extra_people'].map(lambda p: int(p[1:-3].replace(\",\", \"\")))\n",
    "listingsSummary['extra_people'] = priceUpdated\n",
    "listingsSummary['extra_people'].describe()"
   ]
  },
  {
   "cell_type": "code",
   "execution_count": 8,
   "metadata": {},
   "outputs": [
    {
     "data": {
      "text/plain": [
       "7374"
      ]
     },
     "execution_count": 8,
     "metadata": {},
     "output_type": "execute_result"
    }
   ],
   "source": [
    "#Lets check how many values are missing\n",
    "#https://thispointer.com/python-pandas-count-number-of-nan-or-missing-values-in-dataframe-also-row-column-wise/\n",
    "listingsSummary['cleaning_fee'].isnull().sum()"
   ]
  },
  {
   "cell_type": "code",
   "execution_count": null,
   "metadata": {},
   "outputs": [],
   "source": []
  },
  {
   "cell_type": "code",
   "execution_count": 9,
   "metadata": {},
   "outputs": [],
   "source": [
    "#listingsSummary['cleaning_fee'].astype(float)"
   ]
  },
  {
   "cell_type": "code",
   "execution_count": 10,
   "metadata": {},
   "outputs": [
    {
     "data": {
      "text/plain": [
       "17823"
      ]
     },
     "execution_count": 10,
     "metadata": {},
     "output_type": "execute_result"
    }
   ],
   "source": [
    "#listingsSummary['cleaning_fee'].astype(str).sum\n",
    "#https://www.geeksforgeeks.org/working-with-missing-data-in-pandas/\n",
    "listingsSummary['cleaning_fee'].notnull().sum()"
   ]
  },
  {
   "cell_type": "code",
   "execution_count": 11,
   "metadata": {},
   "outputs": [
    {
     "data": {
      "text/plain": [
       "0        $100.00\n",
       "1         $30.00\n",
       "2         $39.00\n",
       "3          $0.00\n",
       "4         $80.00\n",
       "          ...   \n",
       "25192          0\n",
       "25193          0\n",
       "25194      $7.00\n",
       "25195          0\n",
       "25196          0\n",
       "Name: cleaning_fee, Length: 25197, dtype: object"
      ]
     },
     "execution_count": 11,
     "metadata": {},
     "output_type": "execute_result"
    }
   ],
   "source": [
    "listingsSummary['cleaning_fee'].fillna(0)"
   ]
  },
  {
   "cell_type": "code",
   "execution_count": 12,
   "metadata": {},
   "outputs": [],
   "source": [
    "#listingsSummary['cleaning_fee'].mean()"
   ]
  },
  {
   "cell_type": "code",
   "execution_count": 13,
   "metadata": {},
   "outputs": [],
   "source": [
    "#priceUpdated = listingsSummary['cleaning_fee'].map(lambda p: int(p[1:-3].replace(\",\", \"\")))\n",
    "#listingsSummary['cleaning_fee'] = priceUpdated\n",
    "#listingsSummary['cleaning_fee'].describe()"
   ]
  },
  {
   "cell_type": "code",
   "execution_count": 14,
   "metadata": {},
   "outputs": [],
   "source": [
    "listingsSummary['host_response_rate'] = listingsSummary['host_response_rate'].str.replace('%', '')\n",
    "listingsSummary['host_response_rate'] = pd.to_numeric(listingsSummary['host_response_rate'])/100"
   ]
  },
  {
   "cell_type": "markdown",
   "metadata": {},
   "source": [
    "Let's clean the boolean variables"
   ]
  },
  {
   "cell_type": "code",
   "execution_count": 15,
   "metadata": {},
   "outputs": [
    {
     "name": "stderr",
     "output_type": "stream",
     "text": [
      "C:\\Users\\Raghvendra\\Anaconda3\\lib\\site-packages\\pandas\\core\\ops\\__init__.py:1115: FutureWarning: elementwise comparison failed; returning scalar instead, but in the future will perform elementwise comparison\n",
      "  result = method(y)\n"
     ]
    }
   ],
   "source": [
    "def cleanBoolean(df, variable):\n",
    "    df.loc[df[variable] == 'f', variable] = False\n",
    "    df.loc[df[variable] == 't', variable] = True\n",
    "    df[variable] = df[variable].astype('bool')\n",
    "\n",
    "    return df\n",
    "\n",
    "booleanList = ['host_is_superhost', 'host_identity_verified', 'host_has_profile_pic', 'has_availability', \n",
    "                'requires_license', 'calendar_updated', 'is_location_exact', 'instant_bookable', \n",
    "                'is_business_travel_ready', 'require_guest_phone_verification', 'require_guest_profile_picture']\n",
    "\n",
    "for variable in booleanList:\n",
    "    listingsSummary = cleanBoolean(listingsSummary, variable)"
   ]
  },
  {
   "cell_type": "code",
   "execution_count": null,
   "metadata": {},
   "outputs": [],
   "source": []
  },
  {
   "cell_type": "code",
   "execution_count": 16,
   "metadata": {},
   "outputs": [],
   "source": [
    "dfCleaned = listingsSummary.copy()\n",
    "\n",
    "# We drop unneded columns\n",
    "dfCleaned.drop(columns=['id', 'scrape_id', 'host_id',  'latitude', 'longitude', 'host_acceptance_rate', \n",
    "                       'host_thumbnail_url', 'host_picture_url', 'square_feet', 'thumbnail_url', 'medium_url', \n",
    "                       'xl_picture_url', 'host_verifications', 'street', 'jurisdiction_names', 'monthly_price', \n",
    "                       'weekly_price', 'summary', 'space',  'description', 'neighborhood_overview', 'notes', \n",
    "                       'transit', 'access', 'interaction', 'house_rules', 'host_neighbourhood', 'host_location', \n",
    "                       'host_about', 'neighbourhood', 'first_review', 'last_review', 'license', 'security_deposit', \n",
    "                       'state', 'zipcode', 'last_scraped', 'calendar_last_scraped', 'smart_location', \n",
    "                       'listing_url', 'host_url', 'picture_url', 'city', 'country_code', 'city', 'host_since', \n",
    "                       'name', 'amenities', 'host_name'], inplace=True)"
   ]
  },
  {
   "cell_type": "code",
   "execution_count": 17,
   "metadata": {},
   "outputs": [
    {
     "data": {
      "text/html": [
       "<div>\n",
       "<style scoped>\n",
       "    .dataframe tbody tr th:only-of-type {\n",
       "        vertical-align: middle;\n",
       "    }\n",
       "\n",
       "    .dataframe tbody tr th {\n",
       "        vertical-align: top;\n",
       "    }\n",
       "\n",
       "    .dataframe thead th {\n",
       "        text-align: right;\n",
       "    }\n",
       "</style>\n",
       "<table border=\"1\" class=\"dataframe\">\n",
       "  <thead>\n",
       "    <tr style=\"text-align: right;\">\n",
       "      <th></th>\n",
       "      <th>experiences_offered</th>\n",
       "      <th>host_response_time</th>\n",
       "      <th>host_response_rate</th>\n",
       "      <th>host_is_superhost</th>\n",
       "      <th>host_listings_count</th>\n",
       "      <th>host_total_listings_count</th>\n",
       "      <th>host_has_profile_pic</th>\n",
       "      <th>host_identity_verified</th>\n",
       "      <th>neighbourhood_cleansed</th>\n",
       "      <th>neighbourhood_group_cleansed</th>\n",
       "      <th>...</th>\n",
       "      <th>instant_bookable</th>\n",
       "      <th>is_business_travel_ready</th>\n",
       "      <th>cancellation_policy</th>\n",
       "      <th>require_guest_profile_picture</th>\n",
       "      <th>require_guest_phone_verification</th>\n",
       "      <th>calculated_host_listings_count</th>\n",
       "      <th>calculated_host_listings_count_entire_homes</th>\n",
       "      <th>calculated_host_listings_count_private_rooms</th>\n",
       "      <th>calculated_host_listings_count_shared_rooms</th>\n",
       "      <th>reviews_per_month</th>\n",
       "    </tr>\n",
       "  </thead>\n",
       "  <tbody>\n",
       "    <tr>\n",
       "      <td>0</td>\n",
       "      <td>none</td>\n",
       "      <td>within a few hours</td>\n",
       "      <td>1.0</td>\n",
       "      <td>False</td>\n",
       "      <td>1.0</td>\n",
       "      <td>1.0</td>\n",
       "      <td>True</td>\n",
       "      <td>True</td>\n",
       "      <td>Prenzlauer Berg Südwest</td>\n",
       "      <td>Pankow</td>\n",
       "      <td>...</td>\n",
       "      <td>False</td>\n",
       "      <td>False</td>\n",
       "      <td>strict_14_with_grace_period</td>\n",
       "      <td>False</td>\n",
       "      <td>False</td>\n",
       "      <td>1</td>\n",
       "      <td>1</td>\n",
       "      <td>0</td>\n",
       "      <td>0</td>\n",
       "      <td>1.12</td>\n",
       "    </tr>\n",
       "    <tr>\n",
       "      <td>1</td>\n",
       "      <td>none</td>\n",
       "      <td>within a day</td>\n",
       "      <td>1.0</td>\n",
       "      <td>False</td>\n",
       "      <td>1.0</td>\n",
       "      <td>1.0</td>\n",
       "      <td>True</td>\n",
       "      <td>False</td>\n",
       "      <td>Schöneberg-Nord</td>\n",
       "      <td>Tempelhof - Schöneberg</td>\n",
       "      <td>...</td>\n",
       "      <td>False</td>\n",
       "      <td>False</td>\n",
       "      <td>strict_14_with_grace_period</td>\n",
       "      <td>False</td>\n",
       "      <td>False</td>\n",
       "      <td>1</td>\n",
       "      <td>0</td>\n",
       "      <td>1</td>\n",
       "      <td>0</td>\n",
       "      <td>0.34</td>\n",
       "    </tr>\n",
       "    <tr>\n",
       "      <td>2</td>\n",
       "      <td>none</td>\n",
       "      <td>within an hour</td>\n",
       "      <td>1.0</td>\n",
       "      <td>False</td>\n",
       "      <td>1.0</td>\n",
       "      <td>1.0</td>\n",
       "      <td>True</td>\n",
       "      <td>True</td>\n",
       "      <td>Frankfurter Allee Süd FK</td>\n",
       "      <td>Friedrichshain-Kreuzberg</td>\n",
       "      <td>...</td>\n",
       "      <td>False</td>\n",
       "      <td>False</td>\n",
       "      <td>moderate</td>\n",
       "      <td>False</td>\n",
       "      <td>True</td>\n",
       "      <td>1</td>\n",
       "      <td>1</td>\n",
       "      <td>0</td>\n",
       "      <td>0</td>\n",
       "      <td>1.08</td>\n",
       "    </tr>\n",
       "    <tr>\n",
       "      <td>3</td>\n",
       "      <td>none</td>\n",
       "      <td>within an hour</td>\n",
       "      <td>1.0</td>\n",
       "      <td>True</td>\n",
       "      <td>2.0</td>\n",
       "      <td>2.0</td>\n",
       "      <td>True</td>\n",
       "      <td>True</td>\n",
       "      <td>Helmholtzplatz</td>\n",
       "      <td>Pankow</td>\n",
       "      <td>...</td>\n",
       "      <td>False</td>\n",
       "      <td>False</td>\n",
       "      <td>moderate</td>\n",
       "      <td>False</td>\n",
       "      <td>False</td>\n",
       "      <td>2</td>\n",
       "      <td>0</td>\n",
       "      <td>2</td>\n",
       "      <td>0</td>\n",
       "      <td>2.24</td>\n",
       "    </tr>\n",
       "    <tr>\n",
       "      <td>4</td>\n",
       "      <td>none</td>\n",
       "      <td>a few days or more</td>\n",
       "      <td>0.0</td>\n",
       "      <td>False</td>\n",
       "      <td>1.0</td>\n",
       "      <td>1.0</td>\n",
       "      <td>True</td>\n",
       "      <td>True</td>\n",
       "      <td>Prenzlauer Berg Südwest</td>\n",
       "      <td>Pankow</td>\n",
       "      <td>...</td>\n",
       "      <td>False</td>\n",
       "      <td>False</td>\n",
       "      <td>strict_14_with_grace_period</td>\n",
       "      <td>False</td>\n",
       "      <td>False</td>\n",
       "      <td>1</td>\n",
       "      <td>1</td>\n",
       "      <td>0</td>\n",
       "      <td>0</td>\n",
       "      <td>0.15</td>\n",
       "    </tr>\n",
       "  </tbody>\n",
       "</table>\n",
       "<p>5 rows × 58 columns</p>\n",
       "</div>"
      ],
      "text/plain": [
       "  experiences_offered  host_response_time  host_response_rate  \\\n",
       "0                none  within a few hours                 1.0   \n",
       "1                none        within a day                 1.0   \n",
       "2                none      within an hour                 1.0   \n",
       "3                none      within an hour                 1.0   \n",
       "4                none  a few days or more                 0.0   \n",
       "\n",
       "   host_is_superhost  host_listings_count  host_total_listings_count  \\\n",
       "0              False                  1.0                        1.0   \n",
       "1              False                  1.0                        1.0   \n",
       "2              False                  1.0                        1.0   \n",
       "3               True                  2.0                        2.0   \n",
       "4              False                  1.0                        1.0   \n",
       "\n",
       "   host_has_profile_pic  host_identity_verified    neighbourhood_cleansed  \\\n",
       "0                  True                    True   Prenzlauer Berg Südwest   \n",
       "1                  True                   False           Schöneberg-Nord   \n",
       "2                  True                    True  Frankfurter Allee Süd FK   \n",
       "3                  True                    True            Helmholtzplatz   \n",
       "4                  True                    True   Prenzlauer Berg Südwest   \n",
       "\n",
       "  neighbourhood_group_cleansed  ... instant_bookable is_business_travel_ready  \\\n",
       "0                       Pankow  ...            False                    False   \n",
       "1       Tempelhof - Schöneberg  ...            False                    False   \n",
       "2     Friedrichshain-Kreuzberg  ...            False                    False   \n",
       "3                       Pankow  ...            False                    False   \n",
       "4                       Pankow  ...            False                    False   \n",
       "\n",
       "           cancellation_policy require_guest_profile_picture  \\\n",
       "0  strict_14_with_grace_period                         False   \n",
       "1  strict_14_with_grace_period                         False   \n",
       "2                     moderate                         False   \n",
       "3                     moderate                         False   \n",
       "4  strict_14_with_grace_period                         False   \n",
       "\n",
       "  require_guest_phone_verification  calculated_host_listings_count  \\\n",
       "0                            False                               1   \n",
       "1                            False                               1   \n",
       "2                             True                               1   \n",
       "3                            False                               2   \n",
       "4                            False                               1   \n",
       "\n",
       "   calculated_host_listings_count_entire_homes  \\\n",
       "0                                            1   \n",
       "1                                            0   \n",
       "2                                            1   \n",
       "3                                            0   \n",
       "4                                            1   \n",
       "\n",
       "   calculated_host_listings_count_private_rooms  \\\n",
       "0                                             0   \n",
       "1                                             1   \n",
       "2                                             0   \n",
       "3                                             2   \n",
       "4                                             0   \n",
       "\n",
       "   calculated_host_listings_count_shared_rooms reviews_per_month  \n",
       "0                                            0              1.12  \n",
       "1                                            0              0.34  \n",
       "2                                            0              1.08  \n",
       "3                                            0              2.24  \n",
       "4                                            0              0.15  \n",
       "\n",
       "[5 rows x 58 columns]"
      ]
     },
     "execution_count": 17,
     "metadata": {},
     "output_type": "execute_result"
    }
   ],
   "source": [
    "dfCleaned.head()"
   ]
  },
  {
   "cell_type": "code",
   "execution_count": 18,
   "metadata": {},
   "outputs": [
    {
     "data": {
      "text/html": [
       "<div>\n",
       "<style scoped>\n",
       "    .dataframe tbody tr th:only-of-type {\n",
       "        vertical-align: middle;\n",
       "    }\n",
       "\n",
       "    .dataframe tbody tr th {\n",
       "        vertical-align: top;\n",
       "    }\n",
       "\n",
       "    .dataframe thead th {\n",
       "        text-align: right;\n",
       "    }\n",
       "</style>\n",
       "<table border=\"1\" class=\"dataframe\">\n",
       "  <thead>\n",
       "    <tr style=\"text-align: right;\">\n",
       "      <th></th>\n",
       "      <th>experiences_offered</th>\n",
       "      <th>host_response_time</th>\n",
       "      <th>host_response_rate</th>\n",
       "      <th>host_is_superhost</th>\n",
       "      <th>host_listings_count</th>\n",
       "      <th>host_total_listings_count</th>\n",
       "      <th>host_has_profile_pic</th>\n",
       "      <th>host_identity_verified</th>\n",
       "      <th>neighbourhood_cleansed</th>\n",
       "      <th>neighbourhood_group_cleansed</th>\n",
       "      <th>...</th>\n",
       "      <th>instant_bookable</th>\n",
       "      <th>is_business_travel_ready</th>\n",
       "      <th>cancellation_policy</th>\n",
       "      <th>require_guest_profile_picture</th>\n",
       "      <th>require_guest_phone_verification</th>\n",
       "      <th>calculated_host_listings_count</th>\n",
       "      <th>calculated_host_listings_count_entire_homes</th>\n",
       "      <th>calculated_host_listings_count_private_rooms</th>\n",
       "      <th>calculated_host_listings_count_shared_rooms</th>\n",
       "      <th>reviews_per_month</th>\n",
       "    </tr>\n",
       "  </thead>\n",
       "  <tbody>\n",
       "    <tr>\n",
       "      <td>25192</td>\n",
       "      <td>none</td>\n",
       "      <td>NaN</td>\n",
       "      <td>NaN</td>\n",
       "      <td>False</td>\n",
       "      <td>0.0</td>\n",
       "      <td>0.0</td>\n",
       "      <td>True</td>\n",
       "      <td>False</td>\n",
       "      <td>Tiergarten Süd</td>\n",
       "      <td>Mitte</td>\n",
       "      <td>...</td>\n",
       "      <td>True</td>\n",
       "      <td>False</td>\n",
       "      <td>strict_14_with_grace_period</td>\n",
       "      <td>False</td>\n",
       "      <td>False</td>\n",
       "      <td>1</td>\n",
       "      <td>1</td>\n",
       "      <td>0</td>\n",
       "      <td>0</td>\n",
       "      <td>NaN</td>\n",
       "    </tr>\n",
       "    <tr>\n",
       "      <td>25193</td>\n",
       "      <td>none</td>\n",
       "      <td>NaN</td>\n",
       "      <td>NaN</td>\n",
       "      <td>False</td>\n",
       "      <td>1.0</td>\n",
       "      <td>1.0</td>\n",
       "      <td>True</td>\n",
       "      <td>False</td>\n",
       "      <td>Moabit Ost</td>\n",
       "      <td>Mitte</td>\n",
       "      <td>...</td>\n",
       "      <td>False</td>\n",
       "      <td>False</td>\n",
       "      <td>flexible</td>\n",
       "      <td>False</td>\n",
       "      <td>False</td>\n",
       "      <td>1</td>\n",
       "      <td>0</td>\n",
       "      <td>1</td>\n",
       "      <td>0</td>\n",
       "      <td>NaN</td>\n",
       "    </tr>\n",
       "    <tr>\n",
       "      <td>25194</td>\n",
       "      <td>none</td>\n",
       "      <td>NaN</td>\n",
       "      <td>NaN</td>\n",
       "      <td>False</td>\n",
       "      <td>1.0</td>\n",
       "      <td>1.0</td>\n",
       "      <td>True</td>\n",
       "      <td>False</td>\n",
       "      <td>südliche Luisenstadt</td>\n",
       "      <td>Friedrichshain-Kreuzberg</td>\n",
       "      <td>...</td>\n",
       "      <td>False</td>\n",
       "      <td>False</td>\n",
       "      <td>flexible</td>\n",
       "      <td>False</td>\n",
       "      <td>False</td>\n",
       "      <td>1</td>\n",
       "      <td>0</td>\n",
       "      <td>1</td>\n",
       "      <td>0</td>\n",
       "      <td>NaN</td>\n",
       "    </tr>\n",
       "    <tr>\n",
       "      <td>25195</td>\n",
       "      <td>none</td>\n",
       "      <td>NaN</td>\n",
       "      <td>NaN</td>\n",
       "      <td>False</td>\n",
       "      <td>0.0</td>\n",
       "      <td>0.0</td>\n",
       "      <td>True</td>\n",
       "      <td>False</td>\n",
       "      <td>Hellersdorf-Nord</td>\n",
       "      <td>Marzahn - Hellersdorf</td>\n",
       "      <td>...</td>\n",
       "      <td>True</td>\n",
       "      <td>False</td>\n",
       "      <td>flexible</td>\n",
       "      <td>False</td>\n",
       "      <td>False</td>\n",
       "      <td>1</td>\n",
       "      <td>0</td>\n",
       "      <td>1</td>\n",
       "      <td>0</td>\n",
       "      <td>NaN</td>\n",
       "    </tr>\n",
       "    <tr>\n",
       "      <td>25196</td>\n",
       "      <td>none</td>\n",
       "      <td>NaN</td>\n",
       "      <td>NaN</td>\n",
       "      <td>False</td>\n",
       "      <td>1.0</td>\n",
       "      <td>1.0</td>\n",
       "      <td>True</td>\n",
       "      <td>False</td>\n",
       "      <td>Parkviertel</td>\n",
       "      <td>Mitte</td>\n",
       "      <td>...</td>\n",
       "      <td>False</td>\n",
       "      <td>False</td>\n",
       "      <td>flexible</td>\n",
       "      <td>False</td>\n",
       "      <td>False</td>\n",
       "      <td>1</td>\n",
       "      <td>1</td>\n",
       "      <td>0</td>\n",
       "      <td>0</td>\n",
       "      <td>NaN</td>\n",
       "    </tr>\n",
       "  </tbody>\n",
       "</table>\n",
       "<p>5 rows × 58 columns</p>\n",
       "</div>"
      ],
      "text/plain": [
       "      experiences_offered host_response_time  host_response_rate  \\\n",
       "25192                none                NaN                 NaN   \n",
       "25193                none                NaN                 NaN   \n",
       "25194                none                NaN                 NaN   \n",
       "25195                none                NaN                 NaN   \n",
       "25196                none                NaN                 NaN   \n",
       "\n",
       "       host_is_superhost  host_listings_count  host_total_listings_count  \\\n",
       "25192              False                  0.0                        0.0   \n",
       "25193              False                  1.0                        1.0   \n",
       "25194              False                  1.0                        1.0   \n",
       "25195              False                  0.0                        0.0   \n",
       "25196              False                  1.0                        1.0   \n",
       "\n",
       "       host_has_profile_pic  host_identity_verified neighbourhood_cleansed  \\\n",
       "25192                  True                   False         Tiergarten Süd   \n",
       "25193                  True                   False             Moabit Ost   \n",
       "25194                  True                   False   südliche Luisenstadt   \n",
       "25195                  True                   False       Hellersdorf-Nord   \n",
       "25196                  True                   False            Parkviertel   \n",
       "\n",
       "      neighbourhood_group_cleansed  ... instant_bookable  \\\n",
       "25192                        Mitte  ...             True   \n",
       "25193                        Mitte  ...            False   \n",
       "25194     Friedrichshain-Kreuzberg  ...            False   \n",
       "25195        Marzahn - Hellersdorf  ...             True   \n",
       "25196                        Mitte  ...            False   \n",
       "\n",
       "      is_business_travel_ready          cancellation_policy  \\\n",
       "25192                    False  strict_14_with_grace_period   \n",
       "25193                    False                     flexible   \n",
       "25194                    False                     flexible   \n",
       "25195                    False                     flexible   \n",
       "25196                    False                     flexible   \n",
       "\n",
       "      require_guest_profile_picture require_guest_phone_verification  \\\n",
       "25192                         False                            False   \n",
       "25193                         False                            False   \n",
       "25194                         False                            False   \n",
       "25195                         False                            False   \n",
       "25196                         False                            False   \n",
       "\n",
       "       calculated_host_listings_count  \\\n",
       "25192                               1   \n",
       "25193                               1   \n",
       "25194                               1   \n",
       "25195                               1   \n",
       "25196                               1   \n",
       "\n",
       "       calculated_host_listings_count_entire_homes  \\\n",
       "25192                                            1   \n",
       "25193                                            0   \n",
       "25194                                            0   \n",
       "25195                                            0   \n",
       "25196                                            1   \n",
       "\n",
       "       calculated_host_listings_count_private_rooms  \\\n",
       "25192                                             0   \n",
       "25193                                             1   \n",
       "25194                                             1   \n",
       "25195                                             1   \n",
       "25196                                             0   \n",
       "\n",
       "       calculated_host_listings_count_shared_rooms reviews_per_month  \n",
       "25192                                            0               NaN  \n",
       "25193                                            0               NaN  \n",
       "25194                                            0               NaN  \n",
       "25195                                            0               NaN  \n",
       "25196                                            0               NaN  \n",
       "\n",
       "[5 rows x 58 columns]"
      ]
     },
     "execution_count": 18,
     "metadata": {},
     "output_type": "execute_result"
    }
   ],
   "source": [
    "dfCleaned.tail()"
   ]
  },
  {
   "cell_type": "code",
   "execution_count": 19,
   "metadata": {},
   "outputs": [],
   "source": [
    "# Fill numeric columns with the mean\n",
    "numericColumns = dfCleaned.select_dtypes(include=['float', 'int']).columns\n",
    "for col in numericColumns:\n",
    "    dfCleaned[col].fillna((dfCleaned[col].mean()), inplace=True)"
   ]
  },
  {
   "cell_type": "code",
   "execution_count": 20,
   "metadata": {},
   "outputs": [],
   "source": [
    "# Fill categorical columns with the mode\n",
    "categoricalColumns = dfCleaned.select_dtypes(include=['object']).columns\n",
    "for col in categoricalColumns:\n",
    "    dfCleaned[col].fillna((dfCleaned[col].mode()[0]), inplace=True)"
   ]
  },
  {
   "cell_type": "code",
   "execution_count": 21,
   "metadata": {},
   "outputs": [
    {
     "data": {
      "text/html": [
       "<div>\n",
       "<style scoped>\n",
       "    .dataframe tbody tr th:only-of-type {\n",
       "        vertical-align: middle;\n",
       "    }\n",
       "\n",
       "    .dataframe tbody tr th {\n",
       "        vertical-align: top;\n",
       "    }\n",
       "\n",
       "    .dataframe thead th {\n",
       "        text-align: right;\n",
       "    }\n",
       "</style>\n",
       "<table border=\"1\" class=\"dataframe\">\n",
       "  <thead>\n",
       "    <tr style=\"text-align: right;\">\n",
       "      <th></th>\n",
       "      <th>experiences_offered</th>\n",
       "      <th>host_response_time</th>\n",
       "      <th>host_response_rate</th>\n",
       "      <th>host_is_superhost</th>\n",
       "      <th>host_listings_count</th>\n",
       "      <th>host_total_listings_count</th>\n",
       "      <th>host_has_profile_pic</th>\n",
       "      <th>host_identity_verified</th>\n",
       "      <th>neighbourhood_cleansed</th>\n",
       "      <th>neighbourhood_group_cleansed</th>\n",
       "      <th>...</th>\n",
       "      <th>instant_bookable</th>\n",
       "      <th>is_business_travel_ready</th>\n",
       "      <th>cancellation_policy</th>\n",
       "      <th>require_guest_profile_picture</th>\n",
       "      <th>require_guest_phone_verification</th>\n",
       "      <th>calculated_host_listings_count</th>\n",
       "      <th>calculated_host_listings_count_entire_homes</th>\n",
       "      <th>calculated_host_listings_count_private_rooms</th>\n",
       "      <th>calculated_host_listings_count_shared_rooms</th>\n",
       "      <th>reviews_per_month</th>\n",
       "    </tr>\n",
       "  </thead>\n",
       "  <tbody>\n",
       "    <tr>\n",
       "      <td>0</td>\n",
       "      <td>none</td>\n",
       "      <td>within a few hours</td>\n",
       "      <td>1.0</td>\n",
       "      <td>False</td>\n",
       "      <td>1.0</td>\n",
       "      <td>1.0</td>\n",
       "      <td>True</td>\n",
       "      <td>True</td>\n",
       "      <td>Prenzlauer Berg Südwest</td>\n",
       "      <td>Pankow</td>\n",
       "      <td>...</td>\n",
       "      <td>False</td>\n",
       "      <td>False</td>\n",
       "      <td>strict_14_with_grace_period</td>\n",
       "      <td>False</td>\n",
       "      <td>False</td>\n",
       "      <td>1</td>\n",
       "      <td>1</td>\n",
       "      <td>0</td>\n",
       "      <td>0</td>\n",
       "      <td>1.12</td>\n",
       "    </tr>\n",
       "    <tr>\n",
       "      <td>1</td>\n",
       "      <td>none</td>\n",
       "      <td>within a day</td>\n",
       "      <td>1.0</td>\n",
       "      <td>False</td>\n",
       "      <td>1.0</td>\n",
       "      <td>1.0</td>\n",
       "      <td>True</td>\n",
       "      <td>False</td>\n",
       "      <td>Schöneberg-Nord</td>\n",
       "      <td>Tempelhof - Schöneberg</td>\n",
       "      <td>...</td>\n",
       "      <td>False</td>\n",
       "      <td>False</td>\n",
       "      <td>strict_14_with_grace_period</td>\n",
       "      <td>False</td>\n",
       "      <td>False</td>\n",
       "      <td>1</td>\n",
       "      <td>0</td>\n",
       "      <td>1</td>\n",
       "      <td>0</td>\n",
       "      <td>0.34</td>\n",
       "    </tr>\n",
       "    <tr>\n",
       "      <td>2</td>\n",
       "      <td>none</td>\n",
       "      <td>within an hour</td>\n",
       "      <td>1.0</td>\n",
       "      <td>False</td>\n",
       "      <td>1.0</td>\n",
       "      <td>1.0</td>\n",
       "      <td>True</td>\n",
       "      <td>True</td>\n",
       "      <td>Frankfurter Allee Süd FK</td>\n",
       "      <td>Friedrichshain-Kreuzberg</td>\n",
       "      <td>...</td>\n",
       "      <td>False</td>\n",
       "      <td>False</td>\n",
       "      <td>moderate</td>\n",
       "      <td>False</td>\n",
       "      <td>True</td>\n",
       "      <td>1</td>\n",
       "      <td>1</td>\n",
       "      <td>0</td>\n",
       "      <td>0</td>\n",
       "      <td>1.08</td>\n",
       "    </tr>\n",
       "    <tr>\n",
       "      <td>3</td>\n",
       "      <td>none</td>\n",
       "      <td>within an hour</td>\n",
       "      <td>1.0</td>\n",
       "      <td>True</td>\n",
       "      <td>2.0</td>\n",
       "      <td>2.0</td>\n",
       "      <td>True</td>\n",
       "      <td>True</td>\n",
       "      <td>Helmholtzplatz</td>\n",
       "      <td>Pankow</td>\n",
       "      <td>...</td>\n",
       "      <td>False</td>\n",
       "      <td>False</td>\n",
       "      <td>moderate</td>\n",
       "      <td>False</td>\n",
       "      <td>False</td>\n",
       "      <td>2</td>\n",
       "      <td>0</td>\n",
       "      <td>2</td>\n",
       "      <td>0</td>\n",
       "      <td>2.24</td>\n",
       "    </tr>\n",
       "    <tr>\n",
       "      <td>4</td>\n",
       "      <td>none</td>\n",
       "      <td>a few days or more</td>\n",
       "      <td>0.0</td>\n",
       "      <td>False</td>\n",
       "      <td>1.0</td>\n",
       "      <td>1.0</td>\n",
       "      <td>True</td>\n",
       "      <td>True</td>\n",
       "      <td>Prenzlauer Berg Südwest</td>\n",
       "      <td>Pankow</td>\n",
       "      <td>...</td>\n",
       "      <td>False</td>\n",
       "      <td>False</td>\n",
       "      <td>strict_14_with_grace_period</td>\n",
       "      <td>False</td>\n",
       "      <td>False</td>\n",
       "      <td>1</td>\n",
       "      <td>1</td>\n",
       "      <td>0</td>\n",
       "      <td>0</td>\n",
       "      <td>0.15</td>\n",
       "    </tr>\n",
       "  </tbody>\n",
       "</table>\n",
       "<p>5 rows × 58 columns</p>\n",
       "</div>"
      ],
      "text/plain": [
       "  experiences_offered  host_response_time  host_response_rate  \\\n",
       "0                none  within a few hours                 1.0   \n",
       "1                none        within a day                 1.0   \n",
       "2                none      within an hour                 1.0   \n",
       "3                none      within an hour                 1.0   \n",
       "4                none  a few days or more                 0.0   \n",
       "\n",
       "   host_is_superhost  host_listings_count  host_total_listings_count  \\\n",
       "0              False                  1.0                        1.0   \n",
       "1              False                  1.0                        1.0   \n",
       "2              False                  1.0                        1.0   \n",
       "3               True                  2.0                        2.0   \n",
       "4              False                  1.0                        1.0   \n",
       "\n",
       "   host_has_profile_pic  host_identity_verified    neighbourhood_cleansed  \\\n",
       "0                  True                    True   Prenzlauer Berg Südwest   \n",
       "1                  True                   False           Schöneberg-Nord   \n",
       "2                  True                    True  Frankfurter Allee Süd FK   \n",
       "3                  True                    True            Helmholtzplatz   \n",
       "4                  True                    True   Prenzlauer Berg Südwest   \n",
       "\n",
       "  neighbourhood_group_cleansed  ... instant_bookable is_business_travel_ready  \\\n",
       "0                       Pankow  ...            False                    False   \n",
       "1       Tempelhof - Schöneberg  ...            False                    False   \n",
       "2     Friedrichshain-Kreuzberg  ...            False                    False   \n",
       "3                       Pankow  ...            False                    False   \n",
       "4                       Pankow  ...            False                    False   \n",
       "\n",
       "           cancellation_policy require_guest_profile_picture  \\\n",
       "0  strict_14_with_grace_period                         False   \n",
       "1  strict_14_with_grace_period                         False   \n",
       "2                     moderate                         False   \n",
       "3                     moderate                         False   \n",
       "4  strict_14_with_grace_period                         False   \n",
       "\n",
       "  require_guest_phone_verification  calculated_host_listings_count  \\\n",
       "0                            False                               1   \n",
       "1                            False                               1   \n",
       "2                             True                               1   \n",
       "3                            False                               2   \n",
       "4                            False                               1   \n",
       "\n",
       "   calculated_host_listings_count_entire_homes  \\\n",
       "0                                            1   \n",
       "1                                            0   \n",
       "2                                            1   \n",
       "3                                            0   \n",
       "4                                            1   \n",
       "\n",
       "   calculated_host_listings_count_private_rooms  \\\n",
       "0                                             0   \n",
       "1                                             1   \n",
       "2                                             0   \n",
       "3                                             2   \n",
       "4                                             0   \n",
       "\n",
       "   calculated_host_listings_count_shared_rooms reviews_per_month  \n",
       "0                                            0              1.12  \n",
       "1                                            0              0.34  \n",
       "2                                            0              1.08  \n",
       "3                                            0              2.24  \n",
       "4                                            0              0.15  \n",
       "\n",
       "[5 rows x 58 columns]"
      ]
     },
     "execution_count": 21,
     "metadata": {},
     "output_type": "execute_result"
    }
   ],
   "source": [
    "dfCleaned.head()"
   ]
  },
  {
   "cell_type": "code",
   "execution_count": 22,
   "metadata": {},
   "outputs": [
    {
     "name": "stdout",
     "output_type": "stream",
     "text": [
      "<class 'pandas.core.frame.DataFrame'>\n",
      "Int64Index: 25197 entries, 0 to 25196\n",
      "Data columns (total 58 columns):\n",
      "experiences_offered                             25197 non-null object\n",
      "host_response_time                              25197 non-null object\n",
      "host_response_rate                              25197 non-null float64\n",
      "host_is_superhost                               25197 non-null bool\n",
      "host_listings_count                             25197 non-null float64\n",
      "host_total_listings_count                       25197 non-null float64\n",
      "host_has_profile_pic                            25197 non-null bool\n",
      "host_identity_verified                          25197 non-null bool\n",
      "neighbourhood_cleansed                          25197 non-null object\n",
      "neighbourhood_group_cleansed                    25197 non-null object\n",
      "market                                          25197 non-null object\n",
      "country                                         25197 non-null object\n",
      "is_location_exact                               25197 non-null bool\n",
      "property_type                                   25197 non-null object\n",
      "room_type                                       25197 non-null object\n",
      "accommodates                                    25197 non-null int64\n",
      "bathrooms                                       25197 non-null float64\n",
      "bedrooms                                        25197 non-null float64\n",
      "beds                                            25197 non-null float64\n",
      "bed_type                                        25197 non-null object\n",
      "price                                           25197 non-null int64\n",
      "cleaning_fee                                    25197 non-null object\n",
      "guests_included                                 25197 non-null int64\n",
      "extra_people                                    25197 non-null int64\n",
      "minimum_nights                                  25197 non-null int64\n",
      "maximum_nights                                  25197 non-null int64\n",
      "minimum_minimum_nights                          25197 non-null int64\n",
      "maximum_minimum_nights                          25197 non-null int64\n",
      "minimum_maximum_nights                          25197 non-null int64\n",
      "maximum_maximum_nights                          25197 non-null int64\n",
      "minimum_nights_avg_ntm                          25197 non-null float64\n",
      "maximum_nights_avg_ntm                          25197 non-null float64\n",
      "calendar_updated                                25197 non-null bool\n",
      "has_availability                                25197 non-null bool\n",
      "availability_30                                 25197 non-null int64\n",
      "availability_60                                 25197 non-null int64\n",
      "availability_90                                 25197 non-null int64\n",
      "availability_365                                25197 non-null int64\n",
      "number_of_reviews                               25197 non-null int64\n",
      "number_of_reviews_ltm                           25197 non-null int64\n",
      "review_scores_rating                            25197 non-null float64\n",
      "review_scores_accuracy                          25197 non-null float64\n",
      "review_scores_cleanliness                       25197 non-null float64\n",
      "review_scores_checkin                           25197 non-null float64\n",
      "review_scores_communication                     25197 non-null float64\n",
      "review_scores_location                          25197 non-null float64\n",
      "review_scores_value                             25197 non-null float64\n",
      "requires_license                                25197 non-null bool\n",
      "instant_bookable                                25197 non-null bool\n",
      "is_business_travel_ready                        25197 non-null bool\n",
      "cancellation_policy                             25197 non-null object\n",
      "require_guest_profile_picture                   25197 non-null bool\n",
      "require_guest_phone_verification                25197 non-null bool\n",
      "calculated_host_listings_count                  25197 non-null int64\n",
      "calculated_host_listings_count_entire_homes     25197 non-null int64\n",
      "calculated_host_listings_count_private_rooms    25197 non-null int64\n",
      "calculated_host_listings_count_shared_rooms     25197 non-null int64\n",
      "reviews_per_month                               25197 non-null float64\n",
      "dtypes: bool(11), float64(16), int64(20), object(11)\n",
      "memory usage: 9.5+ MB\n"
     ]
    }
   ],
   "source": [
    "# We drop rows with missing values\n",
    "dfCleaned.dropna(axis=0, inplace=True)\n",
    "\n",
    "# We check againg if any column has missing values\n",
    "dfCleaned.info()"
   ]
  },
  {
   "cell_type": "code",
   "execution_count": 24,
   "metadata": {},
   "outputs": [],
   "source": [
    "#dfNumerical.tail()"
   ]
  },
  {
   "cell_type": "code",
   "execution_count": 25,
   "metadata": {},
   "outputs": [],
   "source": [
    "#dfNumerical.describe()"
   ]
  },
  {
   "cell_type": "code",
   "execution_count": 26,
   "metadata": {},
   "outputs": [],
   "source": [
    "dfNumerical = dfCleaned.select_dtypes(include=['int64', 'float64', 'bool'])\n",
    "numericalColumnList = dfNumerical.columns\n",
    "numericalColumnList= numericalColumnList.drop('price')"
   ]
  },
  {
   "cell_type": "code",
   "execution_count": 27,
   "metadata": {},
   "outputs": [],
   "source": [
    "dfNumericalColumn = dfCleaned[numericalColumnList]"
   ]
  },
  {
   "cell_type": "markdown",
   "metadata": {},
   "source": [
    "one hot encoding on Catergorical variables"
   ]
  },
  {
   "cell_type": "code",
   "execution_count": 28,
   "metadata": {},
   "outputs": [
    {
     "data": {
      "text/plain": [
       "Index(['experiences_offered', 'host_response_time', 'neighbourhood_cleansed',\n",
       "       'neighbourhood_group_cleansed', 'market', 'country', 'property_type',\n",
       "       'room_type', 'bed_type', 'cleaning_fee', 'cancellation_policy'],\n",
       "      dtype='object')"
      ]
     },
     "execution_count": 28,
     "metadata": {},
     "output_type": "execute_result"
    }
   ],
   "source": [
    "dfCategorical = dfCleaned.select_dtypes(include=['object'])\n",
    "categoricalColumnList = dfCategorical.columns\n",
    "categoricalColumnList"
   ]
  },
  {
   "cell_type": "code",
   "execution_count": 29,
   "metadata": {},
   "outputs": [],
   "source": [
    "dfCategoricalColumns = dfCleaned[categoricalColumnList]\n",
    "for var in  categoricalColumnList:\n",
    "    # for each cat add dummy var, drop original column\n",
    "    dfCategoricalColumns = pd.concat([dfCategoricalColumns.drop(var, axis=1), pd.get_dummies(dfCategoricalColumns[var], prefix=var, prefix_sep='_', drop_first=True)], axis=1)"
   ]
  },
  {
   "cell_type": "code",
   "execution_count": 30,
   "metadata": {},
   "outputs": [
    {
     "name": "stdout",
     "output_type": "stream",
     "text": [
      "<class 'pandas.core.frame.DataFrame'>\n",
      "Int64Index: 25197 entries, 0 to 25196\n",
      "Columns: 337 entries, host_response_time_within a day to cancellation_policy_super_strict_60\n",
      "dtypes: uint8(337)\n",
      "memory usage: 8.3 MB\n"
     ]
    }
   ],
   "source": [
    "dfCategoricalColumns.info()"
   ]
  },
  {
   "cell_type": "markdown",
   "metadata": {},
   "source": [
    "Final Dataframe"
   ]
  },
  {
   "cell_type": "code",
   "execution_count": 31,
   "metadata": {},
   "outputs": [],
   "source": [
    "dfFinal = pd.concat([dfNumericalColumn, dfCategoricalColumns], axis=1)"
   ]
  },
  {
   "cell_type": "code",
   "execution_count": 32,
   "metadata": {},
   "outputs": [
    {
     "data": {
      "text/html": [
       "<div>\n",
       "<style scoped>\n",
       "    .dataframe tbody tr th:only-of-type {\n",
       "        vertical-align: middle;\n",
       "    }\n",
       "\n",
       "    .dataframe tbody tr th {\n",
       "        vertical-align: top;\n",
       "    }\n",
       "\n",
       "    .dataframe thead th {\n",
       "        text-align: right;\n",
       "    }\n",
       "</style>\n",
       "<table border=\"1\" class=\"dataframe\">\n",
       "  <thead>\n",
       "    <tr style=\"text-align: right;\">\n",
       "      <th></th>\n",
       "      <th>host_response_rate</th>\n",
       "      <th>host_is_superhost</th>\n",
       "      <th>host_listings_count</th>\n",
       "      <th>host_total_listings_count</th>\n",
       "      <th>host_has_profile_pic</th>\n",
       "      <th>host_identity_verified</th>\n",
       "      <th>is_location_exact</th>\n",
       "      <th>accommodates</th>\n",
       "      <th>bathrooms</th>\n",
       "      <th>bedrooms</th>\n",
       "      <th>...</th>\n",
       "      <th>cleaning_fee_$95.00</th>\n",
       "      <th>cleaning_fee_$96.00</th>\n",
       "      <th>cleaning_fee_$97.00</th>\n",
       "      <th>cleaning_fee_$98.00</th>\n",
       "      <th>cleaning_fee_$99.00</th>\n",
       "      <th>cancellation_policy_moderate</th>\n",
       "      <th>cancellation_policy_strict</th>\n",
       "      <th>cancellation_policy_strict_14_with_grace_period</th>\n",
       "      <th>cancellation_policy_super_strict_30</th>\n",
       "      <th>cancellation_policy_super_strict_60</th>\n",
       "    </tr>\n",
       "  </thead>\n",
       "  <tbody>\n",
       "    <tr>\n",
       "      <td>0</td>\n",
       "      <td>1.0</td>\n",
       "      <td>False</td>\n",
       "      <td>1.0</td>\n",
       "      <td>1.0</td>\n",
       "      <td>True</td>\n",
       "      <td>True</td>\n",
       "      <td>True</td>\n",
       "      <td>4</td>\n",
       "      <td>1.0</td>\n",
       "      <td>1.0</td>\n",
       "      <td>...</td>\n",
       "      <td>0</td>\n",
       "      <td>0</td>\n",
       "      <td>0</td>\n",
       "      <td>0</td>\n",
       "      <td>0</td>\n",
       "      <td>0</td>\n",
       "      <td>0</td>\n",
       "      <td>1</td>\n",
       "      <td>0</td>\n",
       "      <td>0</td>\n",
       "    </tr>\n",
       "    <tr>\n",
       "      <td>1</td>\n",
       "      <td>1.0</td>\n",
       "      <td>False</td>\n",
       "      <td>1.0</td>\n",
       "      <td>1.0</td>\n",
       "      <td>True</td>\n",
       "      <td>False</td>\n",
       "      <td>True</td>\n",
       "      <td>1</td>\n",
       "      <td>1.0</td>\n",
       "      <td>1.0</td>\n",
       "      <td>...</td>\n",
       "      <td>0</td>\n",
       "      <td>0</td>\n",
       "      <td>0</td>\n",
       "      <td>0</td>\n",
       "      <td>0</td>\n",
       "      <td>0</td>\n",
       "      <td>0</td>\n",
       "      <td>1</td>\n",
       "      <td>0</td>\n",
       "      <td>0</td>\n",
       "    </tr>\n",
       "    <tr>\n",
       "      <td>2</td>\n",
       "      <td>1.0</td>\n",
       "      <td>False</td>\n",
       "      <td>1.0</td>\n",
       "      <td>1.0</td>\n",
       "      <td>True</td>\n",
       "      <td>True</td>\n",
       "      <td>True</td>\n",
       "      <td>2</td>\n",
       "      <td>1.0</td>\n",
       "      <td>1.0</td>\n",
       "      <td>...</td>\n",
       "      <td>0</td>\n",
       "      <td>0</td>\n",
       "      <td>0</td>\n",
       "      <td>0</td>\n",
       "      <td>0</td>\n",
       "      <td>1</td>\n",
       "      <td>0</td>\n",
       "      <td>0</td>\n",
       "      <td>0</td>\n",
       "      <td>0</td>\n",
       "    </tr>\n",
       "  </tbody>\n",
       "</table>\n",
       "<p>3 rows × 383 columns</p>\n",
       "</div>"
      ],
      "text/plain": [
       "   host_response_rate  host_is_superhost  host_listings_count  \\\n",
       "0                 1.0              False                  1.0   \n",
       "1                 1.0              False                  1.0   \n",
       "2                 1.0              False                  1.0   \n",
       "\n",
       "   host_total_listings_count  host_has_profile_pic  host_identity_verified  \\\n",
       "0                        1.0                  True                    True   \n",
       "1                        1.0                  True                   False   \n",
       "2                        1.0                  True                    True   \n",
       "\n",
       "   is_location_exact  accommodates  bathrooms  bedrooms  ...  \\\n",
       "0               True             4        1.0       1.0  ...   \n",
       "1               True             1        1.0       1.0  ...   \n",
       "2               True             2        1.0       1.0  ...   \n",
       "\n",
       "   cleaning_fee_$95.00  cleaning_fee_$96.00  cleaning_fee_$97.00  \\\n",
       "0                    0                    0                    0   \n",
       "1                    0                    0                    0   \n",
       "2                    0                    0                    0   \n",
       "\n",
       "   cleaning_fee_$98.00  cleaning_fee_$99.00  cancellation_policy_moderate  \\\n",
       "0                    0                    0                             0   \n",
       "1                    0                    0                             0   \n",
       "2                    0                    0                             1   \n",
       "\n",
       "   cancellation_policy_strict  \\\n",
       "0                           0   \n",
       "1                           0   \n",
       "2                           0   \n",
       "\n",
       "   cancellation_policy_strict_14_with_grace_period  \\\n",
       "0                                                1   \n",
       "1                                                1   \n",
       "2                                                0   \n",
       "\n",
       "   cancellation_policy_super_strict_30  cancellation_policy_super_strict_60  \n",
       "0                                    0                                    0  \n",
       "1                                    0                                    0  \n",
       "2                                    0                                    0  \n",
       "\n",
       "[3 rows x 383 columns]"
      ]
     },
     "execution_count": 32,
     "metadata": {},
     "output_type": "execute_result"
    }
   ],
   "source": [
    "dfFinal.head(3)"
   ]
  },
  {
   "cell_type": "code",
   "execution_count": null,
   "metadata": {},
   "outputs": [],
   "source": []
  },
  {
   "cell_type": "code",
   "execution_count": null,
   "metadata": {},
   "outputs": [],
   "source": []
  },
  {
   "cell_type": "code",
   "execution_count": null,
   "metadata": {},
   "outputs": [],
   "source": []
  },
  {
   "cell_type": "markdown",
   "metadata": {},
   "source": [
    "Models"
   ]
  },
  {
   "cell_type": "code",
   "execution_count": 33,
   "metadata": {},
   "outputs": [],
   "source": [
    "X = dfFinal\n",
    "y = dfCleaned['price']"
   ]
  },
  {
   "cell_type": "code",
   "execution_count": null,
   "metadata": {},
   "outputs": [],
   "source": []
  },
  {
   "cell_type": "code",
   "execution_count": 34,
   "metadata": {},
   "outputs": [],
   "source": [
    "from sklearn.ensemble import RandomForestRegressor\n",
    "from sklearn.model_selection import train_test_split\n",
    "from sklearn.metrics import r2_score, mean_squared_error\n",
    "from sklearn.neighbors import KNeighborsRegressor "
   ]
  },
  {
   "cell_type": "code",
   "execution_count": 38,
   "metadata": {},
   "outputs": [],
   "source": [
    "from sklearn.metrics import mean_squared_error\n",
    "from sklearn.metrics import r2_score\n",
    "from sklearn.metrics import mean_absolute_error\n",
    "import sklearn.metrics as metrics"
   ]
  },
  {
   "cell_type": "code",
   "execution_count": 39,
   "metadata": {},
   "outputs": [],
   "source": [
    "X_train, X_test, y_train, y_test = train_test_split(X, y, test_size=0.20, random_state=42)"
   ]
  },
  {
   "cell_type": "code",
   "execution_count": 41,
   "metadata": {},
   "outputs": [],
   "source": [
    "import numpy as np"
   ]
  },
  {
   "cell_type": "code",
   "execution_count": 42,
   "metadata": {},
   "outputs": [
    {
     "name": "stdout",
     "output_type": "stream",
     "text": [
      "Starting for value of k = 2\n",
      "KNN: median absolute error  10.0\n",
      "KNN: mean absolute error  25.74642857142857\n",
      "KNN: RMSE 149.3533521870996\n",
      "KNN: R2 score 0.628763513840223\n",
      "Starting for value of k = 3\n",
      "KNN: median absolute error  10.0\n",
      "KNN: mean absolute error  25.74642857142857\n",
      "KNN: RMSE 149.3533521870996\n",
      "KNN: R2 score 0.628763513840223\n",
      "Starting for value of k = 4\n",
      "KNN: median absolute error  10.0\n",
      "KNN: mean absolute error  25.74642857142857\n",
      "KNN: RMSE 149.3533521870996\n",
      "KNN: R2 score 0.628763513840223\n",
      "Starting for value of k = 5\n",
      "KNN: median absolute error  10.0\n",
      "KNN: mean absolute error  25.74642857142857\n",
      "KNN: RMSE 149.3533521870996\n",
      "KNN: R2 score 0.628763513840223\n",
      "Starting for value of k = 6\n",
      "KNN: median absolute error  10.0\n",
      "KNN: mean absolute error  25.74642857142857\n",
      "KNN: RMSE 149.3533521870996\n",
      "KNN: R2 score 0.628763513840223\n"
     ]
    }
   ],
   "source": [
    "for k in range(2, 7):\n",
    "    print(\"Starting for value of k = \" + str(k))\n",
    "    knn = KNeighborsRegressor(n_neighbors = 2)\n",
    "    knn.fit(X_test, y_test)\n",
    "    knn_medianAbsoluteError = metrics.median_absolute_error(y_test, knn.predict(X_test))\n",
    "    print (\"KNN: median absolute error  \" + str(knn_medianAbsoluteError))\n",
    "    knn_meanAbsoluteError = metrics.mean_absolute_error(y_test, knn.predict(X_test))\n",
    "    print (\"KNN: mean absolute error  \" + str(knn_meanAbsoluteError))\n",
    "    knn_RMSE = np.sqrt(metrics.mean_squared_error(y_test, knn.predict(X_test)))\n",
    "    print (\"KNN: RMSE \" + str(knn_RMSE))\n",
    "    knn_R2score = metrics.r2_score(y_test, knn.predict(X_test))\n",
    "    print (\"KNN: R2 score \" + str(knn_R2score))"
   ]
  },
  {
   "cell_type": "code",
   "execution_count": 43,
   "metadata": {},
   "outputs": [],
   "source": [
    "regressor = RandomForestRegressor(n_estimators = 337)\n",
    "regressor.fit(X_train, y_train)\n",
    "\n",
    "y_pred = regressor.predict(X_test)"
   ]
  },
  {
   "cell_type": "code",
   "execution_count": 44,
   "metadata": {},
   "outputs": [
    {
     "data": {
      "text/html": [
       "<div>\n",
       "<style scoped>\n",
       "    .dataframe tbody tr th:only-of-type {\n",
       "        vertical-align: middle;\n",
       "    }\n",
       "\n",
       "    .dataframe tbody tr th {\n",
       "        vertical-align: top;\n",
       "    }\n",
       "\n",
       "    .dataframe thead th {\n",
       "        text-align: right;\n",
       "    }\n",
       "</style>\n",
       "<table border=\"1\" class=\"dataframe\">\n",
       "  <thead>\n",
       "    <tr style=\"text-align: right;\">\n",
       "      <th></th>\n",
       "      <th>feature</th>\n",
       "      <th>importance</th>\n",
       "    </tr>\n",
       "  </thead>\n",
       "  <tbody>\n",
       "    <tr>\n",
       "      <td>220</td>\n",
       "      <td>property_type_Hotel</td>\n",
       "      <td>0.133244</td>\n",
       "    </tr>\n",
       "    <tr>\n",
       "      <td>41</td>\n",
       "      <td>calculated_host_listings_count</td>\n",
       "      <td>0.126884</td>\n",
       "    </tr>\n",
       "    <tr>\n",
       "      <td>3</td>\n",
       "      <td>host_total_listings_count</td>\n",
       "      <td>0.117422</td>\n",
       "    </tr>\n",
       "    <tr>\n",
       "      <td>2</td>\n",
       "      <td>host_listings_count</td>\n",
       "      <td>0.089880</td>\n",
       "    </tr>\n",
       "    <tr>\n",
       "      <td>286</td>\n",
       "      <td>cleaning_fee_$2,000.00</td>\n",
       "      <td>0.076533</td>\n",
       "    </tr>\n",
       "    <tr>\n",
       "      <td>...</td>\n",
       "      <td>...</td>\n",
       "      <td>...</td>\n",
       "    </tr>\n",
       "    <tr>\n",
       "      <td>38</td>\n",
       "      <td>is_business_travel_ready</td>\n",
       "      <td>0.000000</td>\n",
       "    </tr>\n",
       "    <tr>\n",
       "      <td>300</td>\n",
       "      <td>cleaning_fee_$280.00</td>\n",
       "      <td>0.000000</td>\n",
       "    </tr>\n",
       "    <tr>\n",
       "      <td>291</td>\n",
       "      <td>cleaning_fee_$218.00</td>\n",
       "      <td>0.000000</td>\n",
       "    </tr>\n",
       "    <tr>\n",
       "      <td>196</td>\n",
       "      <td>market_East Brandenburg</td>\n",
       "      <td>0.000000</td>\n",
       "    </tr>\n",
       "    <tr>\n",
       "      <td>272</td>\n",
       "      <td>cleaning_fee_$153.00</td>\n",
       "      <td>0.000000</td>\n",
       "    </tr>\n",
       "  </tbody>\n",
       "</table>\n",
       "<p>383 rows × 2 columns</p>\n",
       "</div>"
      ],
      "text/plain": [
       "                            feature  importance\n",
       "220             property_type_Hotel    0.133244\n",
       "41   calculated_host_listings_count    0.126884\n",
       "3         host_total_listings_count    0.117422\n",
       "2               host_listings_count    0.089880\n",
       "286          cleaning_fee_$2,000.00    0.076533\n",
       "..                              ...         ...\n",
       "38         is_business_travel_ready    0.000000\n",
       "300            cleaning_fee_$280.00    0.000000\n",
       "291            cleaning_fee_$218.00    0.000000\n",
       "196         market_East Brandenburg    0.000000\n",
       "272            cleaning_fee_$153.00    0.000000\n",
       "\n",
       "[383 rows x 2 columns]"
      ]
     },
     "execution_count": 44,
     "metadata": {},
     "output_type": "execute_result"
    }
   ],
   "source": [
    "#feature importance \n",
    "\n",
    "impFeature = zip(X_train.columns,regressor.feature_importances_)\n",
    "\n",
    "importantFeatures = pd.DataFrame(list(impFeature), columns =['feature','importance'])\n",
    "\n",
    "importantFeatures.sort_values(by=['importance'],ascending= False)"
   ]
  },
  {
   "cell_type": "code",
   "execution_count": 45,
   "metadata": {},
   "outputs": [],
   "source": [
    "#visualize_pred(y_pred, y_test,'Random Forest')"
   ]
  },
  {
   "cell_type": "code",
   "execution_count": 46,
   "metadata": {},
   "outputs": [
    {
     "data": {
      "text/plain": [
       "'The r-squared score for the model is 0.6880095915395688 on 5040 values.'"
      ]
     },
     "execution_count": 46,
     "metadata": {},
     "output_type": "execute_result"
    }
   ],
   "source": [
    "#Predict and score the model with linear Random Forest\n",
    "\n",
    "y_test_preds = regressor.predict(X_test) \n",
    "\"The r-squared score for the model is {} on {} values.\".format(r2_score(y_test, y_test_preds), len(y_test))"
   ]
  },
  {
   "cell_type": "code",
   "execution_count": 47,
   "metadata": {},
   "outputs": [],
   "source": [
    "import sklearn.metrics as metrics\n",
    "from sklearn.tree import DecisionTreeRegressor\n",
    "from sklearn.neighbors import KNeighborsClassifier \n",
    "\n",
    "from sklearn.metrics import mean_squared_error\n",
    "from sklearn.metrics import r2_score\n",
    "from sklearn.metrics import mean_absolute_error"
   ]
  },
  {
   "cell_type": "code",
   "execution_count": 48,
   "metadata": {},
   "outputs": [
    {
     "name": "stdout",
     "output_type": "stream",
     "text": [
      "Random forest: mean absolute error 25.606547573021405\n"
     ]
    }
   ],
   "source": [
    "randomForest_meanAbsoluteError = metrics.mean_absolute_error(y_test, regressor.predict(X_test))\n",
    "print (\"Random forest: mean absolute error \" + str(randomForest_meanAbsoluteError))"
   ]
  },
  {
   "cell_type": "code",
   "execution_count": 49,
   "metadata": {},
   "outputs": [],
   "source": [
    "import numpy as np"
   ]
  },
  {
   "cell_type": "code",
   "execution_count": null,
   "metadata": {},
   "outputs": [],
   "source": []
  },
  {
   "cell_type": "code",
   "execution_count": 50,
   "metadata": {},
   "outputs": [
    {
     "name": "stdout",
     "output_type": "stream",
     "text": [
      "Random forest: RMSE 136.9179125701721\n",
      "Random forest: R2 score 0.6880095915395688\n",
      "Model accuracy on train set: 0.94\n",
      "Model accuracy on test set: 0.69\n"
     ]
    }
   ],
   "source": [
    "RF_RMSE = np.sqrt(metrics.mean_squared_error(y_test, regressor.predict(X_test)))\n",
    "print (\"Random forest: RMSE \" + str(RF_RMSE))\n",
    "RF_R2score = metrics.r2_score(y_test, regressor.predict(X_test))\n",
    "print (\"Random forest: R2 score \" + str(RF_R2score))\n",
    "print('Model accuracy on train set: {:.2f}'.format(regressor.score(X_train, y_train)))\n",
    "print('Model accuracy on test set: {:.2f}'.format(regressor.score(X_test, y_test)))"
   ]
  },
  {
   "cell_type": "code",
   "execution_count": null,
   "metadata": {},
   "outputs": [],
   "source": []
  },
  {
   "cell_type": "code",
   "execution_count": 51,
   "metadata": {},
   "outputs": [],
   "source": [
    "regressor = DecisionTreeRegressor(random_state=0)\n",
    "regressor.fit(X_train, y_train)\n",
    "\n",
    "y_pred = regressor.predict(X_test)"
   ]
  },
  {
   "cell_type": "code",
   "execution_count": 52,
   "metadata": {},
   "outputs": [
    {
     "data": {
      "text/plain": [
       "'The r-squared score for the model is 0.807416574776276 on 5040 values.'"
      ]
     },
     "execution_count": 52,
     "metadata": {},
     "output_type": "execute_result"
    }
   ],
   "source": [
    "#Predict and score the model with decision tree\n",
    "\n",
    "y_test_preds = regressor.predict(X_test) \n",
    "\"The r-squared score for the model is {} on {} values.\".format(r2_score(y_test, y_test_preds), len(y_test))"
   ]
  },
  {
   "cell_type": "code",
   "execution_count": 54,
   "metadata": {},
   "outputs": [],
   "source": [
    "import matplotlib.pyplot as plt"
   ]
  },
  {
   "cell_type": "code",
   "execution_count": 56,
   "metadata": {},
   "outputs": [],
   "source": [
    "#plt.scatter(X_test, y_test, color = 'red')\n",
    "#plt.plot(X_test, regressor.predict(X_test), color = 'blue')\n",
    "#plt.title('Decision tree regression model)')\n",
    "#plt.xlabel('independent variables')\n",
    "#plt.ylabel('price')\n",
    "#plt.show()"
   ]
  },
  {
   "cell_type": "code",
   "execution_count": 57,
   "metadata": {},
   "outputs": [],
   "source": [
    "from sklearn import linear_model"
   ]
  },
  {
   "cell_type": "code",
   "execution_count": 58,
   "metadata": {},
   "outputs": [],
   "source": [
    "regressor = linear_model.LinearRegression()\n",
    "regressor.fit(X_train, y_train)\n",
    "\n",
    "y_pred = regressor.predict(X_test)"
   ]
  },
  {
   "cell_type": "code",
   "execution_count": 59,
   "metadata": {},
   "outputs": [
    {
     "data": {
      "text/plain": [
       "'The r-squared score for the model is 0.18605288534869968 on 5040 values.'"
      ]
     },
     "execution_count": 59,
     "metadata": {},
     "output_type": "execute_result"
    }
   ],
   "source": [
    "#Predict and score the model with linear regression\n",
    "\n",
    "y_test_preds = regressor.predict(X_test) \n",
    "\"The r-squared score for the model is {} on {} values.\".format(r2_score(y_test, y_test_preds), len(y_test))"
   ]
  },
  {
   "cell_type": "code",
   "execution_count": 60,
   "metadata": {},
   "outputs": [],
   "source": [
    "regressor = KNeighborsClassifier(n_neighbors = 2)\n",
    "regressor.fit(X_train, y_train)\n",
    "\n",
    "y_pred = regressor.predict(X_test)"
   ]
  },
  {
   "cell_type": "code",
   "execution_count": 61,
   "metadata": {},
   "outputs": [
    {
     "data": {
      "text/plain": [
       "'The r-squared score for the model is -0.2878784703308477 on 5040 values.'"
      ]
     },
     "execution_count": 61,
     "metadata": {},
     "output_type": "execute_result"
    }
   ],
   "source": [
    "#Predict and score the model with KNN\n",
    "\n",
    "y_test_preds = regressor.predict(X_test) \n",
    "\"The r-squared score for the model is {} on {} values.\".format(r2_score(y_test, y_test_preds), len(y_test))"
   ]
  },
  {
   "cell_type": "code",
   "execution_count": null,
   "metadata": {},
   "outputs": [],
   "source": []
  },
  {
   "cell_type": "code",
   "execution_count": null,
   "metadata": {},
   "outputs": [],
   "source": []
  },
  {
   "cell_type": "code",
   "execution_count": null,
   "metadata": {},
   "outputs": [],
   "source": []
  },
  {
   "cell_type": "code",
   "execution_count": 62,
   "metadata": {},
   "outputs": [
    {
     "name": "stdout",
     "output_type": "stream",
     "text": [
      "Decision tree: median absolute error  15.0\n",
      "Decision tree: mean absolute error 30.61765873015873\n",
      "Decision tree: RMSE 107.57196485821383\n",
      "Decision tree: R2 score 0.807416574776276\n",
      "Model accuracy on train set: 1.00\n",
      "Model accuracy on test set: 0.81\n"
     ]
    }
   ],
   "source": [
    "decisionTree = DecisionTreeRegressor(random_state=0)\n",
    "decisionTree.fit(X_train, y_train)\n",
    "decisionTree_medianAbsoluteError = metrics.median_absolute_error(y_test, decisionTree.predict(X_test))\n",
    "print (\"Decision tree: median absolute error  \" + str(decisionTree_medianAbsoluteError))\n",
    "decisionTree_meanAbsoluteError = metrics.mean_absolute_error(y_test, decisionTree.predict(X_test))\n",
    "print (\"Decision tree: mean absolute error \" + str(decisionTree_meanAbsoluteError))\n",
    "DT_RMSE = np.sqrt(metrics.mean_squared_error(y_test, decisionTree.predict(X_test)))\n",
    "print (\"Decision tree: RMSE \" + str(DT_RMSE))\n",
    "DT_R2score = metrics.r2_score(y_test, decisionTree.predict(X_test))\n",
    "print (\"Decision tree: R2 score \" + str(DT_R2score))\n",
    "print('Model accuracy on train set: {:.2f}'.format(decisionTree.score(X_train, y_train)))\n",
    "print('Model accuracy on test set: {:.2f}'.format(decisionTree.score(X_test, y_test)))"
   ]
  },
  {
   "cell_type": "code",
   "execution_count": null,
   "metadata": {},
   "outputs": [],
   "source": []
  },
  {
   "cell_type": "code",
   "execution_count": 63,
   "metadata": {},
   "outputs": [],
   "source": [
    "from sklearn import linear_model"
   ]
  },
  {
   "cell_type": "code",
   "execution_count": 64,
   "metadata": {},
   "outputs": [
    {
     "name": "stdout",
     "output_type": "stream",
     "text": [
      "Linear Regression: median absolute error 23.499178169307157\n",
      "Linear Regression: mean absolute error 46.36368155134813\n",
      "Linear Regression: RMSE 221.1504064942823\n",
      "Linear Regression: R2 score 0.18605288534869968\n",
      "Model accuracy on train set: 0.33\n",
      "Model accuracy on test set: 0.19\n"
     ]
    }
   ],
   "source": [
    "# linear regression testing\n",
    "linear_reg = linear_model.LinearRegression()\n",
    "linear_reg.fit(X_train, y_train)\n",
    "LR_medianAbsoluteError = metrics.median_absolute_error(y_test, linear_reg.predict(X_test))\n",
    "print(\"Linear Regression: median absolute error \" + str(LR_medianAbsoluteError))\n",
    "LR_meanAbsoluteError = metrics.mean_absolute_error(y_test, linear_reg.predict(X_test))\n",
    "print(\"Linear Regression: mean absolute error \" + str(LR_meanAbsoluteError))\n",
    "LR_RMSE = np.sqrt(metrics.mean_squared_error(y_test, linear_reg.predict(X_test)))\n",
    "print(\"Linear Regression: RMSE \" + str(LR_RMSE))\n",
    "LR_R2score = metrics.r2_score(y_test, linear_reg.predict(X_test))\n",
    "print (\"Linear Regression: R2 score \" + str(LR_R2score))\n",
    "print('Model accuracy on train set: {:.2f}'.format(linear_reg.score(X_train, y_train)))\n",
    "print('Model accuracy on test set: {:.2f}'.format(linear_reg.score(X_test, y_test)))"
   ]
  },
  {
   "cell_type": "code",
   "execution_count": null,
   "metadata": {},
   "outputs": [],
   "source": []
  },
  {
   "cell_type": "code",
   "execution_count": 65,
   "metadata": {},
   "outputs": [
    {
     "name": "stdout",
     "output_type": "stream",
     "text": [
      "Starting for value of k = 2\n",
      "KNN: median absolute error  1.0\n",
      "KNN: mean absolute error  26.207738095238096\n",
      "KNN: RMSE 160.636482666585\n",
      "KNN: R2 score 0.5705534913378568\n",
      "Starting for value of k = 3\n",
      "KNN: median absolute error  1.0\n",
      "KNN: mean absolute error  26.207738095238096\n",
      "KNN: RMSE 160.636482666585\n",
      "KNN: R2 score 0.5705534913378568\n",
      "Starting for value of k = 4\n",
      "KNN: median absolute error  1.0\n",
      "KNN: mean absolute error  26.207738095238096\n",
      "KNN: RMSE 160.636482666585\n",
      "KNN: R2 score 0.5705534913378568\n",
      "Starting for value of k = 5\n",
      "KNN: median absolute error  1.0\n",
      "KNN: mean absolute error  26.207738095238096\n",
      "KNN: RMSE 160.636482666585\n",
      "KNN: R2 score 0.5705534913378568\n",
      "Starting for value of k = 6\n",
      "KNN: median absolute error  1.0\n",
      "KNN: mean absolute error  26.207738095238096\n",
      "KNN: RMSE 160.636482666585\n",
      "KNN: R2 score 0.5705534913378568\n"
     ]
    }
   ],
   "source": [
    "for k in range(2, 7):\n",
    "    print(\"Starting for value of k = \" + str(k))\n",
    "    knn = KNeighborsClassifier(n_neighbors = 2)\n",
    "    knn.fit(X_test, y_test)\n",
    "    knn_medianAbsoluteError = metrics.median_absolute_error(y_test, knn.predict(X_test))\n",
    "    print (\"KNN: median absolute error  \" + str(knn_medianAbsoluteError))\n",
    "    knn_meanAbsoluteError = metrics.mean_absolute_error(y_test, knn.predict(X_test))\n",
    "    print (\"KNN: mean absolute error  \" + str(knn_meanAbsoluteError))\n",
    "    knn_RMSE = np.sqrt(metrics.mean_squared_error(y_test, knn.predict(X_test)))\n",
    "    print (\"KNN: RMSE \" + str(knn_RMSE))\n",
    "    knn_R2score = metrics.r2_score(y_test, knn.predict(X_test))\n",
    "    print (\"KNN: R2 score \" + str(knn_R2score))"
   ]
  },
  {
   "cell_type": "code",
   "execution_count": null,
   "metadata": {},
   "outputs": [],
   "source": []
  },
  {
   "cell_type": "code",
   "execution_count": 66,
   "metadata": {},
   "outputs": [],
   "source": [
    "from sklearn.model_selection import cross_val_score, GridSearchCV\n",
    "from sklearn import ensemble\n",
    "from sklearn.metrics import fbeta_score, make_scorer"
   ]
  },
  {
   "cell_type": "code",
   "execution_count": 67,
   "metadata": {},
   "outputs": [],
   "source": [
    "meanAbsoluteError = make_scorer(mean_absolute_error)\n",
    "meanSquaredError = make_scorer(mean_squared_error)\n",
    "r2Score = make_scorer(r2_score)"
   ]
  },
  {
   "cell_type": "code",
   "execution_count": null,
   "metadata": {},
   "outputs": [],
   "source": []
  },
  {
   "cell_type": "code",
   "execution_count": null,
   "metadata": {},
   "outputs": [],
   "source": []
  },
  {
   "cell_type": "code",
   "execution_count": null,
   "metadata": {},
   "outputs": [],
   "source": []
  },
  {
   "cell_type": "code",
   "execution_count": null,
   "metadata": {},
   "outputs": [],
   "source": []
  }
 ],
 "metadata": {
  "kernelspec": {
   "display_name": "Python 3",
   "language": "python",
   "name": "python3"
  },
  "language_info": {
   "codemirror_mode": {
    "name": "ipython",
    "version": 3
   },
   "file_extension": ".py",
   "mimetype": "text/x-python",
   "name": "python",
   "nbconvert_exporter": "python",
   "pygments_lexer": "ipython3",
   "version": "3.6.9"
  }
 },
 "nbformat": 4,
 "nbformat_minor": 2
}
