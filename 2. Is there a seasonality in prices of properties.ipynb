{
 "cells": [
  {
   "cell_type": "markdown",
   "metadata": {},
   "source": [
    "# Is there a seasonality in the prices of properties llisted in AirBnb-Berlin?"
   ]
  },
  {
   "cell_type": "code",
   "execution_count": 1,
   "metadata": {},
   "outputs": [],
   "source": [
    "#Special highlight\n",
    "#pip install holidays"
   ]
  },
  {
   "cell_type": "code",
   "execution_count": 2,
   "metadata": {},
   "outputs": [],
   "source": [
    "#import initial libraries\n",
    "\n",
    "import pandas as pd\n",
    "import numpy as np\n",
    "import re"
   ]
  },
  {
   "cell_type": "code",
   "execution_count": 3,
   "metadata": {},
   "outputs": [],
   "source": [
    "#import file\n",
    "dataFrameCalendar=pd.read_csv(\"D:/Raghvendra/Masters/Irish Applications/DCU/DCU subjects study/Sem2_CA683 data analytics and data mining\\Main Assignment/berlin airbnb 2020/calendar_summary.csv\")"
   ]
  },
  {
   "cell_type": "code",
   "execution_count": 4,
   "metadata": {},
   "outputs": [
    {
     "data": {
      "text/html": [
       "<div>\n",
       "<style scoped>\n",
       "    .dataframe tbody tr th:only-of-type {\n",
       "        vertical-align: middle;\n",
       "    }\n",
       "\n",
       "    .dataframe tbody tr th {\n",
       "        vertical-align: top;\n",
       "    }\n",
       "\n",
       "    .dataframe thead th {\n",
       "        text-align: right;\n",
       "    }\n",
       "</style>\n",
       "<table border=\"1\" class=\"dataframe\">\n",
       "  <thead>\n",
       "    <tr style=\"text-align: right;\">\n",
       "      <th></th>\n",
       "      <th>listing_id</th>\n",
       "      <th>date</th>\n",
       "      <th>available</th>\n",
       "      <th>price</th>\n",
       "      <th>adjusted_price</th>\n",
       "      <th>minimum_nights</th>\n",
       "      <th>maximum_nights</th>\n",
       "    </tr>\n",
       "  </thead>\n",
       "  <tbody>\n",
       "    <tr>\n",
       "      <td>0</td>\n",
       "      <td>355227</td>\n",
       "      <td>2020-02-19</td>\n",
       "      <td>f</td>\n",
       "      <td>$60.00</td>\n",
       "      <td>$60.00</td>\n",
       "      <td>45.0</td>\n",
       "      <td>400.0</td>\n",
       "    </tr>\n",
       "    <tr>\n",
       "      <td>1</td>\n",
       "      <td>267951</td>\n",
       "      <td>2020-02-18</td>\n",
       "      <td>f</td>\n",
       "      <td>$60.00</td>\n",
       "      <td>$60.00</td>\n",
       "      <td>2.0</td>\n",
       "      <td>300.0</td>\n",
       "    </tr>\n",
       "    <tr>\n",
       "      <td>2</td>\n",
       "      <td>267951</td>\n",
       "      <td>2020-02-19</td>\n",
       "      <td>f</td>\n",
       "      <td>$60.00</td>\n",
       "      <td>$60.00</td>\n",
       "      <td>2.0</td>\n",
       "      <td>300.0</td>\n",
       "    </tr>\n",
       "    <tr>\n",
       "      <td>3</td>\n",
       "      <td>267951</td>\n",
       "      <td>2020-02-20</td>\n",
       "      <td>f</td>\n",
       "      <td>$65.00</td>\n",
       "      <td>$65.00</td>\n",
       "      <td>2.0</td>\n",
       "      <td>300.0</td>\n",
       "    </tr>\n",
       "    <tr>\n",
       "      <td>4</td>\n",
       "      <td>267951</td>\n",
       "      <td>2020-02-21</td>\n",
       "      <td>f</td>\n",
       "      <td>$65.00</td>\n",
       "      <td>$65.00</td>\n",
       "      <td>2.0</td>\n",
       "      <td>300.0</td>\n",
       "    </tr>\n",
       "  </tbody>\n",
       "</table>\n",
       "</div>"
      ],
      "text/plain": [
       "   listing_id        date available   price adjusted_price  minimum_nights  \\\n",
       "0      355227  2020-02-19         f  $60.00         $60.00            45.0   \n",
       "1      267951  2020-02-18         f  $60.00         $60.00             2.0   \n",
       "2      267951  2020-02-19         f  $60.00         $60.00             2.0   \n",
       "3      267951  2020-02-20         f  $65.00         $65.00             2.0   \n",
       "4      267951  2020-02-21         f  $65.00         $65.00             2.0   \n",
       "\n",
       "   maximum_nights  \n",
       "0           400.0  \n",
       "1           300.0  \n",
       "2           300.0  \n",
       "3           300.0  \n",
       "4           300.0  "
      ]
     },
     "execution_count": 4,
     "metadata": {},
     "output_type": "execute_result"
    }
   ],
   "source": [
    "dataFrameCalendar.head()"
   ]
  },
  {
   "cell_type": "code",
   "execution_count": 5,
   "metadata": {},
   "outputs": [
    {
     "data": {
      "text/html": [
       "<div>\n",
       "<style scoped>\n",
       "    .dataframe tbody tr th:only-of-type {\n",
       "        vertical-align: middle;\n",
       "    }\n",
       "\n",
       "    .dataframe tbody tr th {\n",
       "        vertical-align: top;\n",
       "    }\n",
       "\n",
       "    .dataframe thead th {\n",
       "        text-align: right;\n",
       "    }\n",
       "</style>\n",
       "<table border=\"1\" class=\"dataframe\">\n",
       "  <thead>\n",
       "    <tr style=\"text-align: right;\">\n",
       "      <th></th>\n",
       "      <th>listing_id</th>\n",
       "      <th>date</th>\n",
       "      <th>available</th>\n",
       "      <th>price</th>\n",
       "      <th>adjusted_price</th>\n",
       "      <th>minimum_nights</th>\n",
       "      <th>maximum_nights</th>\n",
       "    </tr>\n",
       "  </thead>\n",
       "  <tbody>\n",
       "    <tr>\n",
       "      <td>9197063</td>\n",
       "      <td>42361801</td>\n",
       "      <td>2021-02-12</td>\n",
       "      <td>t</td>\n",
       "      <td>$46.00</td>\n",
       "      <td>$46.00</td>\n",
       "      <td>3.0</td>\n",
       "      <td>1125.0</td>\n",
       "    </tr>\n",
       "    <tr>\n",
       "      <td>9197064</td>\n",
       "      <td>42361801</td>\n",
       "      <td>2021-02-13</td>\n",
       "      <td>t</td>\n",
       "      <td>$46.00</td>\n",
       "      <td>$46.00</td>\n",
       "      <td>3.0</td>\n",
       "      <td>1125.0</td>\n",
       "    </tr>\n",
       "    <tr>\n",
       "      <td>9197065</td>\n",
       "      <td>42361801</td>\n",
       "      <td>2021-02-14</td>\n",
       "      <td>t</td>\n",
       "      <td>$46.00</td>\n",
       "      <td>$46.00</td>\n",
       "      <td>3.0</td>\n",
       "      <td>1125.0</td>\n",
       "    </tr>\n",
       "    <tr>\n",
       "      <td>9197066</td>\n",
       "      <td>42361801</td>\n",
       "      <td>2021-02-15</td>\n",
       "      <td>t</td>\n",
       "      <td>$46.00</td>\n",
       "      <td>$46.00</td>\n",
       "      <td>3.0</td>\n",
       "      <td>1125.0</td>\n",
       "    </tr>\n",
       "    <tr>\n",
       "      <td>9197067</td>\n",
       "      <td>42361801</td>\n",
       "      <td>2021-02-16</td>\n",
       "      <td>t</td>\n",
       "      <td>$46.00</td>\n",
       "      <td>$46.00</td>\n",
       "      <td>3.0</td>\n",
       "      <td>1125.0</td>\n",
       "    </tr>\n",
       "  </tbody>\n",
       "</table>\n",
       "</div>"
      ],
      "text/plain": [
       "         listing_id        date available   price adjusted_price  \\\n",
       "9197063    42361801  2021-02-12         t  $46.00         $46.00   \n",
       "9197064    42361801  2021-02-13         t  $46.00         $46.00   \n",
       "9197065    42361801  2021-02-14         t  $46.00         $46.00   \n",
       "9197066    42361801  2021-02-15         t  $46.00         $46.00   \n",
       "9197067    42361801  2021-02-16         t  $46.00         $46.00   \n",
       "\n",
       "         minimum_nights  maximum_nights  \n",
       "9197063             3.0          1125.0  \n",
       "9197064             3.0          1125.0  \n",
       "9197065             3.0          1125.0  \n",
       "9197066             3.0          1125.0  \n",
       "9197067             3.0          1125.0  "
      ]
     },
     "execution_count": 5,
     "metadata": {},
     "output_type": "execute_result"
    }
   ],
   "source": [
    "dataFrameCalendar.tail()"
   ]
  },
  {
   "cell_type": "code",
   "execution_count": 6,
   "metadata": {},
   "outputs": [
    {
     "data": {
      "text/plain": [
       "(9197068, 7)"
      ]
     },
     "execution_count": 6,
     "metadata": {},
     "output_type": "execute_result"
    }
   ],
   "source": [
    "dataFrameCalendar.shape"
   ]
  },
  {
   "cell_type": "code",
   "execution_count": 7,
   "metadata": {},
   "outputs": [
    {
     "data": {
      "text/plain": [
       "listing_id        0\n",
       "date              0\n",
       "available         0\n",
       "price             0\n",
       "adjusted_price    0\n",
       "minimum_nights    3\n",
       "maximum_nights    3\n",
       "dtype: int64"
      ]
     },
     "execution_count": 7,
     "metadata": {},
     "output_type": "execute_result"
    }
   ],
   "source": [
    "dataFrameCalendar.isnull().sum()"
   ]
  },
  {
   "cell_type": "code",
   "execution_count": 8,
   "metadata": {},
   "outputs": [
    {
     "data": {
      "text/plain": [
       "listing_id        9197068\n",
       "date              9197068\n",
       "available         9197068\n",
       "price             9197068\n",
       "adjusted_price    9197068\n",
       "minimum_nights    9197065\n",
       "maximum_nights    9197065\n",
       "dtype: int64"
      ]
     },
     "execution_count": 8,
     "metadata": {},
     "output_type": "execute_result"
    }
   ],
   "source": [
    "dataFrameCalendar.notnull().sum()"
   ]
  },
  {
   "cell_type": "code",
   "execution_count": 9,
   "metadata": {},
   "outputs": [],
   "source": [
    "#dataFrameCalendar['price'].mean()\n",
    "\n",
    "#######calculated as $79.79"
   ]
  },
  {
   "cell_type": "code",
   "execution_count": 10,
   "metadata": {},
   "outputs": [],
   "source": [
    "#dataFrameCalendar['price'].median()\n",
    "\n",
    "### calculated as $50.00"
   ]
  },
  {
   "cell_type": "code",
   "execution_count": 11,
   "metadata": {},
   "outputs": [],
   "source": [
    "#replacing NaN values with 0/mean/mode - check with all three\n",
    "dataFrameCalendar.fillna('$80.00', inplace=True)\n",
    "dataFrameCalendar = dataFrameCalendar[dataFrameCalendar.price != 0]"
   ]
  },
  {
   "cell_type": "code",
   "execution_count": 12,
   "metadata": {},
   "outputs": [],
   "source": [
    "#Extracting prices from the table\n",
    "price = dataFrameCalendar['price']\n",
    "prices=[]\n",
    "\n",
    "for p in price:\n",
    "    p = re.sub('[^0-9.]+','', p)\n",
    "    prices.append(float(p))\n",
    "    \n",
    "#replace the price column with the new column\n",
    "dataFrameCalendar['price']=prices\n",
    "\n",
    "dataFrameCalendar = dataFrameCalendar[dataFrameCalendar.price >= 0]"
   ]
  },
  {
   "cell_type": "code",
   "execution_count": 13,
   "metadata": {},
   "outputs": [
    {
     "data": {
      "text/html": [
       "<div>\n",
       "<style scoped>\n",
       "    .dataframe tbody tr th:only-of-type {\n",
       "        vertical-align: middle;\n",
       "    }\n",
       "\n",
       "    .dataframe tbody tr th {\n",
       "        vertical-align: top;\n",
       "    }\n",
       "\n",
       "    .dataframe thead th {\n",
       "        text-align: right;\n",
       "    }\n",
       "</style>\n",
       "<table border=\"1\" class=\"dataframe\">\n",
       "  <thead>\n",
       "    <tr style=\"text-align: right;\">\n",
       "      <th></th>\n",
       "      <th>listing_id</th>\n",
       "      <th>date</th>\n",
       "      <th>available</th>\n",
       "      <th>price</th>\n",
       "      <th>adjusted_price</th>\n",
       "      <th>minimum_nights</th>\n",
       "      <th>maximum_nights</th>\n",
       "    </tr>\n",
       "  </thead>\n",
       "  <tbody>\n",
       "    <tr>\n",
       "      <td>0</td>\n",
       "      <td>355227</td>\n",
       "      <td>2020-02-19</td>\n",
       "      <td>f</td>\n",
       "      <td>60.0</td>\n",
       "      <td>$60.00</td>\n",
       "      <td>45</td>\n",
       "      <td>400</td>\n",
       "    </tr>\n",
       "    <tr>\n",
       "      <td>1</td>\n",
       "      <td>267951</td>\n",
       "      <td>2020-02-18</td>\n",
       "      <td>f</td>\n",
       "      <td>60.0</td>\n",
       "      <td>$60.00</td>\n",
       "      <td>2</td>\n",
       "      <td>300</td>\n",
       "    </tr>\n",
       "    <tr>\n",
       "      <td>2</td>\n",
       "      <td>267951</td>\n",
       "      <td>2020-02-19</td>\n",
       "      <td>f</td>\n",
       "      <td>60.0</td>\n",
       "      <td>$60.00</td>\n",
       "      <td>2</td>\n",
       "      <td>300</td>\n",
       "    </tr>\n",
       "    <tr>\n",
       "      <td>3</td>\n",
       "      <td>267951</td>\n",
       "      <td>2020-02-20</td>\n",
       "      <td>f</td>\n",
       "      <td>65.0</td>\n",
       "      <td>$65.00</td>\n",
       "      <td>2</td>\n",
       "      <td>300</td>\n",
       "    </tr>\n",
       "    <tr>\n",
       "      <td>4</td>\n",
       "      <td>267951</td>\n",
       "      <td>2020-02-21</td>\n",
       "      <td>f</td>\n",
       "      <td>65.0</td>\n",
       "      <td>$65.00</td>\n",
       "      <td>2</td>\n",
       "      <td>300</td>\n",
       "    </tr>\n",
       "  </tbody>\n",
       "</table>\n",
       "</div>"
      ],
      "text/plain": [
       "   listing_id        date available  price adjusted_price minimum_nights  \\\n",
       "0      355227  2020-02-19         f   60.0         $60.00             45   \n",
       "1      267951  2020-02-18         f   60.0         $60.00              2   \n",
       "2      267951  2020-02-19         f   60.0         $60.00              2   \n",
       "3      267951  2020-02-20         f   65.0         $65.00              2   \n",
       "4      267951  2020-02-21         f   65.0         $65.00              2   \n",
       "\n",
       "  maximum_nights  \n",
       "0            400  \n",
       "1            300  \n",
       "2            300  \n",
       "3            300  \n",
       "4            300  "
      ]
     },
     "execution_count": 13,
     "metadata": {},
     "output_type": "execute_result"
    }
   ],
   "source": [
    "dataFrameCalendar.head()"
   ]
  },
  {
   "cell_type": "code",
   "execution_count": 14,
   "metadata": {},
   "outputs": [
    {
     "data": {
      "text/html": [
       "<div>\n",
       "<style scoped>\n",
       "    .dataframe tbody tr th:only-of-type {\n",
       "        vertical-align: middle;\n",
       "    }\n",
       "\n",
       "    .dataframe tbody tr th {\n",
       "        vertical-align: top;\n",
       "    }\n",
       "\n",
       "    .dataframe thead th {\n",
       "        text-align: right;\n",
       "    }\n",
       "</style>\n",
       "<table border=\"1\" class=\"dataframe\">\n",
       "  <thead>\n",
       "    <tr style=\"text-align: right;\">\n",
       "      <th></th>\n",
       "      <th>listing_id</th>\n",
       "      <th>date</th>\n",
       "      <th>available</th>\n",
       "      <th>price</th>\n",
       "      <th>adjusted_price</th>\n",
       "      <th>minimum_nights</th>\n",
       "      <th>maximum_nights</th>\n",
       "      <th>Year</th>\n",
       "      <th>Month</th>\n",
       "      <th>Day</th>\n",
       "    </tr>\n",
       "  </thead>\n",
       "  <tbody>\n",
       "    <tr>\n",
       "      <td>0</td>\n",
       "      <td>355227</td>\n",
       "      <td>2020-02-19</td>\n",
       "      <td>f</td>\n",
       "      <td>60.0</td>\n",
       "      <td>$60.00</td>\n",
       "      <td>45</td>\n",
       "      <td>400</td>\n",
       "      <td>2020</td>\n",
       "      <td>02</td>\n",
       "      <td>19</td>\n",
       "    </tr>\n",
       "    <tr>\n",
       "      <td>1</td>\n",
       "      <td>267951</td>\n",
       "      <td>2020-02-18</td>\n",
       "      <td>f</td>\n",
       "      <td>60.0</td>\n",
       "      <td>$60.00</td>\n",
       "      <td>2</td>\n",
       "      <td>300</td>\n",
       "      <td>2020</td>\n",
       "      <td>02</td>\n",
       "      <td>18</td>\n",
       "    </tr>\n",
       "    <tr>\n",
       "      <td>2</td>\n",
       "      <td>267951</td>\n",
       "      <td>2020-02-19</td>\n",
       "      <td>f</td>\n",
       "      <td>60.0</td>\n",
       "      <td>$60.00</td>\n",
       "      <td>2</td>\n",
       "      <td>300</td>\n",
       "      <td>2020</td>\n",
       "      <td>02</td>\n",
       "      <td>19</td>\n",
       "    </tr>\n",
       "    <tr>\n",
       "      <td>3</td>\n",
       "      <td>267951</td>\n",
       "      <td>2020-02-20</td>\n",
       "      <td>f</td>\n",
       "      <td>65.0</td>\n",
       "      <td>$65.00</td>\n",
       "      <td>2</td>\n",
       "      <td>300</td>\n",
       "      <td>2020</td>\n",
       "      <td>02</td>\n",
       "      <td>20</td>\n",
       "    </tr>\n",
       "    <tr>\n",
       "      <td>4</td>\n",
       "      <td>267951</td>\n",
       "      <td>2020-02-21</td>\n",
       "      <td>f</td>\n",
       "      <td>65.0</td>\n",
       "      <td>$65.00</td>\n",
       "      <td>2</td>\n",
       "      <td>300</td>\n",
       "      <td>2020</td>\n",
       "      <td>02</td>\n",
       "      <td>21</td>\n",
       "    </tr>\n",
       "  </tbody>\n",
       "</table>\n",
       "</div>"
      ],
      "text/plain": [
       "   listing_id        date available  price adjusted_price minimum_nights  \\\n",
       "0      355227  2020-02-19         f   60.0         $60.00             45   \n",
       "1      267951  2020-02-18         f   60.0         $60.00              2   \n",
       "2      267951  2020-02-19         f   60.0         $60.00              2   \n",
       "3      267951  2020-02-20         f   65.0         $65.00              2   \n",
       "4      267951  2020-02-21         f   65.0         $65.00              2   \n",
       "\n",
       "  maximum_nights  Year Month Day  \n",
       "0            400  2020    02  19  \n",
       "1            300  2020    02  18  \n",
       "2            300  2020    02  19  \n",
       "3            300  2020    02  20  \n",
       "4            300  2020    02  21  "
      ]
     },
     "execution_count": 14,
     "metadata": {},
     "output_type": "execute_result"
    }
   ],
   "source": [
    "#separating date column into day month and year\n",
    "dataFrameCalendar['Year'],dataFrameCalendar['Month'],dataFrameCalendar['Day']=dataFrameCalendar['date'].str.split('-',2).str\n",
    "dataFrameCalendar.head()"
   ]
  },
  {
   "cell_type": "code",
   "execution_count": 15,
   "metadata": {},
   "outputs": [
    {
     "data": {
      "text/html": [
       "<div>\n",
       "<style scoped>\n",
       "    .dataframe tbody tr th:only-of-type {\n",
       "        vertical-align: middle;\n",
       "    }\n",
       "\n",
       "    .dataframe tbody tr th {\n",
       "        vertical-align: top;\n",
       "    }\n",
       "\n",
       "    .dataframe thead th {\n",
       "        text-align: right;\n",
       "    }\n",
       "</style>\n",
       "<table border=\"1\" class=\"dataframe\">\n",
       "  <thead>\n",
       "    <tr style=\"text-align: right;\">\n",
       "      <th></th>\n",
       "      <th>Year</th>\n",
       "      <th>Month</th>\n",
       "      <th>average_Price</th>\n",
       "      <th>year-Month</th>\n",
       "    </tr>\n",
       "  </thead>\n",
       "  <tbody>\n",
       "    <tr>\n",
       "      <td>0</td>\n",
       "      <td>2020</td>\n",
       "      <td>02</td>\n",
       "      <td>78.065477</td>\n",
       "      <td>2020-02</td>\n",
       "    </tr>\n",
       "    <tr>\n",
       "      <td>1</td>\n",
       "      <td>2020</td>\n",
       "      <td>03</td>\n",
       "      <td>75.953871</td>\n",
       "      <td>2020-03</td>\n",
       "    </tr>\n",
       "  </tbody>\n",
       "</table>\n",
       "</div>"
      ],
      "text/plain": [
       "   Year Month  average_Price year-Month\n",
       "0  2020    02      78.065477    2020-02\n",
       "1  2020    03      75.953871    2020-03"
      ]
     },
     "execution_count": 15,
     "metadata": {},
     "output_type": "execute_result"
    }
   ],
   "source": [
    "dataFrameYear=dataFrameCalendar.groupby(['Year','Month']).price.mean()\n",
    "dataFrameYear=dataFrameYear.reset_index()\n",
    "dataFrameYear=dataFrameYear.rename(columns={'price':'average_Price'})\n",
    "dataFrameYear['year-Month']=dataFrameYear['Year'].map(str) + \"-\" + dataFrameYear['Month'].map(str)\n",
    "dataFrameYear.to_csv('year_month_data.csv')\n",
    "dataFrameYear.head(2)"
   ]
  },
  {
   "cell_type": "code",
   "execution_count": 16,
   "metadata": {},
   "outputs": [
    {
     "data": {
      "text/plain": [
       "Text(0, 0.5, 'Average of Price')"
      ]
     },
     "execution_count": 16,
     "metadata": {},
     "output_type": "execute_result"
    },
    {
     "data": {
      "image/png": "[encoded data removed]",
      "text/plain": [
       "<Figure size 720x504 with 1 Axes>"
      ]
     },
     "metadata": {},
     "output_type": "display_data"
    }
   ],
   "source": [
    "# visualizing the trend of year/Month and average prices of the listing\n",
    "\n",
    "%matplotlib inline\n",
    "\n",
    "import matplotlib\n",
    "import matplotlib.pyplot as plt\n",
    "matplotlib.style.use('ggplot')\n",
    "\n",
    "objects = dataFrameYear['year-Month']\n",
    "y_pos = dataFrameYear['average_Price']\n",
    "\n",
    "#https://matplotlib.org/gallery/color/named_colors.html\n",
    "\n",
    "dataFrameYear.plot(kind='bar', x='year-Month', y='average_Price', color = 'yellowgreen', figsize =(10,7), \n",
    "           title = 'Month wise price trend of AirBnb-Berlin', \n",
    "           legend = False)\n",
    "\n",
    "plt.ylabel('Average of Price')"
   ]
  },
  {
   "cell_type": "markdown",
   "metadata": {},
   "source": [
    "#https://towardsdatascience.com/5-minute-guide-to-detecting-holidays-in-python-c270f8479387\n",
    "\n",
    "https://pypi.org/project/holidays/"
   ]
  },
  {
   "cell_type": "code",
   "execution_count": 17,
   "metadata": {},
   "outputs": [
    {
     "name": "stderr",
     "output_type": "stream",
     "text": [
      "C:\\Users\\Raghvendra\\Anaconda3\\lib\\site-packages\\ipykernel_launcher.py:19: FutureWarning: set_value is deprecated and will be removed in a future release. Please use .at[] or .iat[] accessors instead\n",
      "C:\\Users\\Raghvendra\\Anaconda3\\lib\\site-packages\\ipykernel_launcher.py:20: FutureWarning: set_value is deprecated and will be removed in a future release. Please use .at[] or .iat[] accessors instead\n",
      "C:\\Users\\Raghvendra\\Anaconda3\\lib\\site-packages\\ipykernel_launcher.py:21: FutureWarning: set_value is deprecated and will be removed in a future release. Please use .at[] or .iat[] accessors instead\n"
     ]
    },
    {
     "data": {
      "text/html": [
       "<div>\n",
       "<style scoped>\n",
       "    .dataframe tbody tr th:only-of-type {\n",
       "        vertical-align: middle;\n",
       "    }\n",
       "\n",
       "    .dataframe tbody tr th {\n",
       "        vertical-align: top;\n",
       "    }\n",
       "\n",
       "    .dataframe thead th {\n",
       "        text-align: right;\n",
       "    }\n",
       "</style>\n",
       "<table border=\"1\" class=\"dataframe\">\n",
       "  <thead>\n",
       "    <tr style=\"text-align: right;\">\n",
       "      <th></th>\n",
       "      <th>listing_id</th>\n",
       "      <th>date</th>\n",
       "      <th>available</th>\n",
       "      <th>price</th>\n",
       "      <th>adjusted_price</th>\n",
       "      <th>minimum_nights</th>\n",
       "      <th>maximum_nights</th>\n",
       "      <th>Year</th>\n",
       "      <th>Month</th>\n",
       "      <th>Day</th>\n",
       "      <th>day_Name</th>\n",
       "      <th>holiday</th>\n",
       "      <th>german_holiday_names</th>\n",
       "    </tr>\n",
       "  </thead>\n",
       "  <tbody>\n",
       "    <tr>\n",
       "      <td>0</td>\n",
       "      <td>355227</td>\n",
       "      <td>2020-02-19</td>\n",
       "      <td>f</td>\n",
       "      <td>60.0</td>\n",
       "      <td>$60.00</td>\n",
       "      <td>45</td>\n",
       "      <td>400</td>\n",
       "      <td>2020</td>\n",
       "      <td>02</td>\n",
       "      <td>19</td>\n",
       "      <td>Wednesday</td>\n",
       "      <td>False</td>\n",
       "      <td>None</td>\n",
       "    </tr>\n",
       "    <tr>\n",
       "      <td>1</td>\n",
       "      <td>267951</td>\n",
       "      <td>2020-02-18</td>\n",
       "      <td>f</td>\n",
       "      <td>60.0</td>\n",
       "      <td>$60.00</td>\n",
       "      <td>2</td>\n",
       "      <td>300</td>\n",
       "      <td>2020</td>\n",
       "      <td>02</td>\n",
       "      <td>18</td>\n",
       "      <td>Tuesday</td>\n",
       "      <td>False</td>\n",
       "      <td>None</td>\n",
       "    </tr>\n",
       "    <tr>\n",
       "      <td>2</td>\n",
       "      <td>267951</td>\n",
       "      <td>2020-02-19</td>\n",
       "      <td>f</td>\n",
       "      <td>60.0</td>\n",
       "      <td>$60.00</td>\n",
       "      <td>2</td>\n",
       "      <td>300</td>\n",
       "      <td>2020</td>\n",
       "      <td>02</td>\n",
       "      <td>19</td>\n",
       "      <td>Wednesday</td>\n",
       "      <td>False</td>\n",
       "      <td>None</td>\n",
       "    </tr>\n",
       "    <tr>\n",
       "      <td>3</td>\n",
       "      <td>267951</td>\n",
       "      <td>2020-02-20</td>\n",
       "      <td>f</td>\n",
       "      <td>65.0</td>\n",
       "      <td>$65.00</td>\n",
       "      <td>2</td>\n",
       "      <td>300</td>\n",
       "      <td>2020</td>\n",
       "      <td>02</td>\n",
       "      <td>20</td>\n",
       "      <td>Thursday</td>\n",
       "      <td>False</td>\n",
       "      <td>None</td>\n",
       "    </tr>\n",
       "    <tr>\n",
       "      <td>4</td>\n",
       "      <td>267951</td>\n",
       "      <td>2020-02-21</td>\n",
       "      <td>f</td>\n",
       "      <td>65.0</td>\n",
       "      <td>$65.00</td>\n",
       "      <td>2</td>\n",
       "      <td>300</td>\n",
       "      <td>2020</td>\n",
       "      <td>02</td>\n",
       "      <td>21</td>\n",
       "      <td>Friday</td>\n",
       "      <td>False</td>\n",
       "      <td>None</td>\n",
       "    </tr>\n",
       "  </tbody>\n",
       "</table>\n",
       "</div>"
      ],
      "text/plain": [
       "   listing_id        date available  price adjusted_price minimum_nights  \\\n",
       "0      355227  2020-02-19         f   60.0         $60.00             45   \n",
       "1      267951  2020-02-18         f   60.0         $60.00              2   \n",
       "2      267951  2020-02-19         f   60.0         $60.00              2   \n",
       "3      267951  2020-02-20         f   65.0         $65.00              2   \n",
       "4      267951  2020-02-21         f   65.0         $65.00              2   \n",
       "\n",
       "  maximum_nights  Year Month Day   day_Name holiday german_holiday_names  \n",
       "0            400  2020    02  19  Wednesday   False                 None  \n",
       "1            300  2020    02  18    Tuesday   False                 None  \n",
       "2            300  2020    02  19  Wednesday   False                 None  \n",
       "3            300  2020    02  20   Thursday   False                 None  \n",
       "4            300  2020    02  21     Friday   False                 None  "
      ]
     },
     "execution_count": 17,
     "metadata": {},
     "output_type": "execute_result"
    }
   ],
   "source": [
    "#getting day name from date data and holidays\n",
    "\n",
    "from datetime import date\n",
    "import datetime\n",
    "import calendar\n",
    "import holidays\n",
    "\n",
    "dataFrameCalendar.fillna(0, inplace=True)\n",
    "\n",
    "#https://pypi.org/project/holidays/\n",
    "german_holidays = holidays.Germany()\n",
    "\n",
    "dataFrameCalendar['day_Name']='default'\n",
    "dataFrameCalendar['holiday']='False'\n",
    "dataFrameCalendar['german_holiday_names']='working'\n",
    "for index,row in dataFrameCalendar.iterrows():\n",
    "    sdate = datetime.date(int(row['Year']),int(row['Month']),int(row['Day']))\n",
    "    vall=date(int(row['Year']),int(row['Month']),int(row['Day'])) in german_holidays\n",
    "    dataFrameCalendar.set_value(index,'day_Name',calendar.day_name[sdate.weekday()])\n",
    "    dataFrameCalendar.set_value(index,'holiday',vall)\n",
    "    dataFrameCalendar.set_value(index,'german_holiday_names',german_holidays.get(sdate))\n",
    "#calendarDF.to_csv('holidays_data.csv')\n",
    "dataFrameCalendar.head()"
   ]
  },
  {
   "cell_type": "code",
   "execution_count": 18,
   "metadata": {},
   "outputs": [
    {
     "name": "stderr",
     "output_type": "stream",
     "text": [
      "C:\\Users\\Raghvendra\\Anaconda3\\lib\\site-packages\\ipykernel_launcher.py:17: FutureWarning: set_value is deprecated and will be removed in a future release. Please use .at[] or .iat[] accessors instead\n",
      "C:\\Users\\Raghvendra\\Anaconda3\\lib\\site-packages\\ipykernel_launcher.py:9: FutureWarning: set_value is deprecated and will be removed in a future release. Please use .at[] or .iat[] accessors instead\n",
      "  if __name__ == '__main__':\n",
      "C:\\Users\\Raghvendra\\Anaconda3\\lib\\site-packages\\ipykernel_launcher.py:19: FutureWarning: set_value is deprecated and will be removed in a future release. Please use .at[] or .iat[] accessors instead\n",
      "C:\\Users\\Raghvendra\\Anaconda3\\lib\\site-packages\\ipykernel_launcher.py:21: FutureWarning: set_value is deprecated and will be removed in a future release. Please use .at[] or .iat[] accessors instead\n",
      "C:\\Users\\Raghvendra\\Anaconda3\\lib\\site-packages\\ipykernel_launcher.py:15: FutureWarning: set_value is deprecated and will be removed in a future release. Please use .at[] or .iat[] accessors instead\n",
      "  from ipykernel import kernelapp as app\n",
      "C:\\Users\\Raghvendra\\Anaconda3\\lib\\site-packages\\ipykernel_launcher.py:11: FutureWarning: set_value is deprecated and will be removed in a future release. Please use .at[] or .iat[] accessors instead\n",
      "  # This is added back by InteractiveShellApp.init_path()\n",
      "C:\\Users\\Raghvendra\\Anaconda3\\lib\\site-packages\\ipykernel_launcher.py:13: FutureWarning: set_value is deprecated and will be removed in a future release. Please use .at[] or .iat[] accessors instead\n",
      "  del sys.path[0]\n"
     ]
    },
    {
     "data": {
      "text/html": [
       "<div>\n",
       "<style scoped>\n",
       "    .dataframe tbody tr th:only-of-type {\n",
       "        vertical-align: middle;\n",
       "    }\n",
       "\n",
       "    .dataframe tbody tr th {\n",
       "        vertical-align: top;\n",
       "    }\n",
       "\n",
       "    .dataframe thead th {\n",
       "        text-align: right;\n",
       "    }\n",
       "</style>\n",
       "<table border=\"1\" class=\"dataframe\">\n",
       "  <thead>\n",
       "    <tr style=\"text-align: right;\">\n",
       "      <th></th>\n",
       "      <th>day_Name</th>\n",
       "      <th>Average_Price</th>\n",
       "      <th>day_num</th>\n",
       "    </tr>\n",
       "  </thead>\n",
       "  <tbody>\n",
       "    <tr>\n",
       "      <td>1</td>\n",
       "      <td>Monday</td>\n",
       "      <td>69.291058</td>\n",
       "      <td>1</td>\n",
       "    </tr>\n",
       "    <tr>\n",
       "      <td>5</td>\n",
       "      <td>Tuesday</td>\n",
       "      <td>69.331959</td>\n",
       "      <td>2</td>\n",
       "    </tr>\n",
       "    <tr>\n",
       "      <td>6</td>\n",
       "      <td>Wednesday</td>\n",
       "      <td>69.268131</td>\n",
       "      <td>3</td>\n",
       "    </tr>\n",
       "    <tr>\n",
       "      <td>4</td>\n",
       "      <td>Thursday</td>\n",
       "      <td>69.559435</td>\n",
       "      <td>4</td>\n",
       "    </tr>\n",
       "    <tr>\n",
       "      <td>0</td>\n",
       "      <td>Friday</td>\n",
       "      <td>106.562470</td>\n",
       "      <td>5</td>\n",
       "    </tr>\n",
       "    <tr>\n",
       "      <td>2</td>\n",
       "      <td>Saturday</td>\n",
       "      <td>106.583259</td>\n",
       "      <td>6</td>\n",
       "    </tr>\n",
       "    <tr>\n",
       "      <td>3</td>\n",
       "      <td>Sunday</td>\n",
       "      <td>69.265595</td>\n",
       "      <td>7</td>\n",
       "    </tr>\n",
       "  </tbody>\n",
       "</table>\n",
       "</div>"
      ],
      "text/plain": [
       "    day_Name  Average_Price  day_num\n",
       "1     Monday      69.291058        1\n",
       "5    Tuesday      69.331959        2\n",
       "6  Wednesday      69.268131        3\n",
       "4   Thursday      69.559435        4\n",
       "0     Friday     106.562470        5\n",
       "2   Saturday     106.583259        6\n",
       "3     Sunday      69.265595        7"
      ]
     },
     "execution_count": 18,
     "metadata": {},
     "output_type": "execute_result"
    }
   ],
   "source": [
    "#calculating Average price for each day\n",
    "\n",
    "dataFrameDay=dataFrameCalendar.groupby('day_Name').price.mean()\n",
    "dataFrameDay=dataFrameDay.reset_index()\n",
    "dataFrameDay['day_num']=0\n",
    "\n",
    "for index,row in dataFrameDay.iterrows():\n",
    "    if row['day_Name']=='Monday':\n",
    "        dataFrameDay.set_value(index,'day_num',1)\n",
    "    if row['day_Name']=='Tuesday':\n",
    "        dataFrameDay.set_value(index,'day_num',2)\n",
    "    if row['day_Name']=='Wednesday':\n",
    "        dataFrameDay.set_value(index,'day_num',3)\n",
    "    if row['day_Name']=='Thursday':\n",
    "        dataFrameDay.set_value(index,'day_num',4)\n",
    "    if row['day_Name']=='Friday':\n",
    "        dataFrameDay.set_value(index,'day_num',5)\n",
    "    if row['day_Name']=='Saturday':\n",
    "        dataFrameDay.set_value(index,'day_num',6)\n",
    "    if row['day_Name']=='Sunday':\n",
    "        dataFrameDay.set_value(index,'day_num',7)\n",
    "dataFrameDay=dataFrameDay.sort_values('day_num',ascending=[1])\n",
    "dataFrameDay=dataFrameDay.rename(columns={'price':'Average_Price'})\n",
    "dataFrameDay"
   ]
  },
  {
   "cell_type": "code",
   "execution_count": 20,
   "metadata": {},
   "outputs": [
    {
     "data": {
      "image/png": "[encoded data removed]",
      "text/plain": [
       "<Figure size 432x288 with 1 Axes>"
      ]
     },
     "metadata": {
      "needs_background": "light"
     },
     "output_type": "display_data"
    }
   ],
   "source": [
    "#https://www.tutorialspoint.com/matplotlib/matplotlib_scatter_plot.htm\n",
    "\n",
    "import matplotlib.pyplot as plt\n",
    "fig=plt.figure()\n",
    "ax=fig.add_axes([0,0,1,1])\n",
    "ax.scatter(dataFrameDay[\"day_Name\"], dataFrameDay[\"Average_Price\"], color='green')\n",
    "ax.set_xlabel('Name of Day')\n",
    "ax.set_ylabel('Average price of property')\n",
    "ax.set_title('Scatter plot')\n",
    "plt.show()"
   ]
  },
  {
   "cell_type": "code",
   "execution_count": 21,
   "metadata": {},
   "outputs": [
    {
     "data": {
      "text/html": [
       "<div>\n",
       "<style scoped>\n",
       "    .dataframe tbody tr th:only-of-type {\n",
       "        vertical-align: middle;\n",
       "    }\n",
       "\n",
       "    .dataframe tbody tr th {\n",
       "        vertical-align: top;\n",
       "    }\n",
       "\n",
       "    .dataframe thead th {\n",
       "        text-align: right;\n",
       "    }\n",
       "</style>\n",
       "<table border=\"1\" class=\"dataframe\">\n",
       "  <thead>\n",
       "    <tr style=\"text-align: right;\">\n",
       "      <th></th>\n",
       "      <th>german_holiday_names</th>\n",
       "      <th>listing_id</th>\n",
       "    </tr>\n",
       "  </thead>\n",
       "  <tbody>\n",
       "    <tr>\n",
       "      <td>0</td>\n",
       "      <td>Christi Himmelfahrt</td>\n",
       "      <td>25197</td>\n",
       "    </tr>\n",
       "    <tr>\n",
       "      <td>1</td>\n",
       "      <td>Erster Mai</td>\n",
       "      <td>25197</td>\n",
       "    </tr>\n",
       "    <tr>\n",
       "      <td>2</td>\n",
       "      <td>Erster Weihnachtstag</td>\n",
       "      <td>25197</td>\n",
       "    </tr>\n",
       "    <tr>\n",
       "      <td>3</td>\n",
       "      <td>Karfreitag</td>\n",
       "      <td>25197</td>\n",
       "    </tr>\n",
       "    <tr>\n",
       "      <td>4</td>\n",
       "      <td>Neujahr</td>\n",
       "      <td>25197</td>\n",
       "    </tr>\n",
       "    <tr>\n",
       "      <td>5</td>\n",
       "      <td>Ostermontag</td>\n",
       "      <td>25197</td>\n",
       "    </tr>\n",
       "    <tr>\n",
       "      <td>6</td>\n",
       "      <td>Pfingstmontag</td>\n",
       "      <td>25197</td>\n",
       "    </tr>\n",
       "    <tr>\n",
       "      <td>7</td>\n",
       "      <td>Tag der Deutschen Einheit</td>\n",
       "      <td>25197</td>\n",
       "    </tr>\n",
       "    <tr>\n",
       "      <td>8</td>\n",
       "      <td>Zweiter Weihnachtstag</td>\n",
       "      <td>25197</td>\n",
       "    </tr>\n",
       "  </tbody>\n",
       "</table>\n",
       "</div>"
      ],
      "text/plain": [
       "        german_holiday_names  listing_id\n",
       "0        Christi Himmelfahrt       25197\n",
       "1                 Erster Mai       25197\n",
       "2       Erster Weihnachtstag       25197\n",
       "3                 Karfreitag       25197\n",
       "4                    Neujahr       25197\n",
       "5                Ostermontag       25197\n",
       "6              Pfingstmontag       25197\n",
       "7  Tag der Deutschen Einheit       25197\n",
       "8      Zweiter Weihnachtstag       25197"
      ]
     },
     "execution_count": 21,
     "metadata": {},
     "output_type": "execute_result"
    }
   ],
   "source": [
    "#checking which holiday has maximum listings\n",
    "\n",
    "dataFrameHoliday=dataFrameCalendar.groupby('german_holiday_names').listing_id.count()\n",
    "dataFrameHoliday=dataFrameHoliday.reset_index()\n",
    "dataFrameHoliday=dataFrameHoliday.sort_values('listing_id',ascending=[0])\n",
    "dataFrameHoliday"
   ]
  },
  {
   "cell_type": "code",
   "execution_count": 22,
   "metadata": {},
   "outputs": [
    {
     "data": {
      "text/plain": [
       "[Text(0, 0.5, 'Overall listings'), Text(0.5, 0, 'German holiday names')]"
      ]
     },
     "execution_count": 22,
     "metadata": {},
     "output_type": "execute_result"
    },
    {
     "data": {
      "image/png": "[encoded data removed]",
      "text/plain": [
       "<Figure size 1368x576 with 1 Axes>"
      ]
     },
     "metadata": {
      "needs_background": "light"
     },
     "output_type": "display_data"
    }
   ],
   "source": [
    "# visualizing\n",
    "\n",
    "import seaborn as sns\n",
    "import matplotlib.pyplot as plt\n",
    "\n",
    "plt.figure(figsize=(19,8))\n",
    "\n",
    "#https://seaborn.pydata.org/tutorial/color_palettes.html\n",
    "\n",
    "ax = sns.barplot(\"german_holiday_names\", y=\"listing_id\", data=dataFrameHoliday,palette=\"BuGn_r\")\n",
    "ax.set(xlabel='German holiday names', ylabel='Overall listings')"
   ]
  },
  {
   "cell_type": "code",
   "execution_count": 23,
   "metadata": {},
   "outputs": [
    {
     "data": {
      "text/html": [
       "<div>\n",
       "<style scoped>\n",
       "    .dataframe tbody tr th:only-of-type {\n",
       "        vertical-align: middle;\n",
       "    }\n",
       "\n",
       "    .dataframe tbody tr th {\n",
       "        vertical-align: top;\n",
       "    }\n",
       "\n",
       "    .dataframe thead th {\n",
       "        text-align: right;\n",
       "    }\n",
       "</style>\n",
       "<table border=\"1\" class=\"dataframe\">\n",
       "  <thead>\n",
       "    <tr style=\"text-align: right;\">\n",
       "      <th></th>\n",
       "      <th>german_holiday_names</th>\n",
       "      <th>price</th>\n",
       "    </tr>\n",
       "  </thead>\n",
       "  <tbody>\n",
       "    <tr>\n",
       "      <td>4</td>\n",
       "      <td>Neujahr</td>\n",
       "      <td>111.014446</td>\n",
       "    </tr>\n",
       "    <tr>\n",
       "      <td>7</td>\n",
       "      <td>Tag der Deutschen Einheit</td>\n",
       "      <td>106.432194</td>\n",
       "    </tr>\n",
       "    <tr>\n",
       "      <td>1</td>\n",
       "      <td>Erster Mai</td>\n",
       "      <td>106.284875</td>\n",
       "    </tr>\n",
       "  </tbody>\n",
       "</table>\n",
       "</div>"
      ],
      "text/plain": [
       "        german_holiday_names       price\n",
       "4                    Neujahr  111.014446\n",
       "7  Tag der Deutschen Einheit  106.432194\n",
       "1                 Erster Mai  106.284875"
      ]
     },
     "execution_count": 23,
     "metadata": {},
     "output_type": "execute_result"
    }
   ],
   "source": [
    "DataFrameHolidayPrice=dataFrameCalendar.groupby('german_holiday_names').price.mean()\n",
    "DataFrameHolidayPrice=DataFrameHolidayPrice.reset_index()\n",
    "DataFrameHolidayPrice=DataFrameHolidayPrice.sort_values('price',ascending=[0])\n",
    "\n",
    "DataFrameHolidayPrice.head(3)"
   ]
  },
  {
   "cell_type": "code",
   "execution_count": 24,
   "metadata": {},
   "outputs": [
    {
     "data": {
      "text/plain": [
       "[Text(0, 0.5, 'Average Price'), Text(0.5, 0, 'German holiday names')]"
      ]
     },
     "execution_count": 24,
     "metadata": {},
     "output_type": "execute_result"
    },
    {
     "data": {
      "image/png": "[encoded data removed]",
      "text/plain": [
       "<Figure size 1368x576 with 1 Axes>"
      ]
     },
     "metadata": {
      "needs_background": "light"
     },
     "output_type": "display_data"
    }
   ],
   "source": [
    "# visualizing\n",
    "\n",
    "import seaborn as sns\n",
    "import matplotlib.pyplot as plt\n",
    "\n",
    "plt.figure(figsize=(19,8))\n",
    "\n",
    "#https://seaborn.pydata.org/tutorial/color_palettes.html\n",
    "\n",
    "ax = sns.barplot(\"german_holiday_names\", y=\"price\", data=DataFrameHolidayPrice,palette=\"GnBu_d\")\n",
    "ax.set(xlabel='German holiday names', ylabel='Average Price')"
   ]
  },
  {
   "cell_type": "code",
   "execution_count": 25,
   "metadata": {},
   "outputs": [
    {
     "data": {
      "text/html": [
       "<div>\n",
       "<style scoped>\n",
       "    .dataframe tbody tr th:only-of-type {\n",
       "        vertical-align: middle;\n",
       "    }\n",
       "\n",
       "    .dataframe tbody tr th {\n",
       "        vertical-align: top;\n",
       "    }\n",
       "\n",
       "    .dataframe thead th {\n",
       "        text-align: right;\n",
       "    }\n",
       "</style>\n",
       "<table border=\"1\" class=\"dataframe\">\n",
       "  <thead>\n",
       "    <tr style=\"text-align: right;\">\n",
       "      <th></th>\n",
       "      <th>german_holiday_names</th>\n",
       "      <th>number_Of_Listings</th>\n",
       "      <th>average_Price</th>\n",
       "    </tr>\n",
       "  </thead>\n",
       "  <tbody>\n",
       "    <tr>\n",
       "      <td>0</td>\n",
       "      <td>Christi Himmelfahrt</td>\n",
       "      <td>25197</td>\n",
       "      <td>70.379251</td>\n",
       "    </tr>\n",
       "    <tr>\n",
       "      <td>1</td>\n",
       "      <td>Erster Mai</td>\n",
       "      <td>25197</td>\n",
       "      <td>106.284875</td>\n",
       "    </tr>\n",
       "    <tr>\n",
       "      <td>2</td>\n",
       "      <td>Erster Weihnachtstag</td>\n",
       "      <td>25197</td>\n",
       "      <td>106.152161</td>\n",
       "    </tr>\n",
       "    <tr>\n",
       "      <td>3</td>\n",
       "      <td>Karfreitag</td>\n",
       "      <td>25197</td>\n",
       "      <td>106.189784</td>\n",
       "    </tr>\n",
       "    <tr>\n",
       "      <td>4</td>\n",
       "      <td>Neujahr</td>\n",
       "      <td>25197</td>\n",
       "      <td>111.014446</td>\n",
       "    </tr>\n",
       "    <tr>\n",
       "      <td>5</td>\n",
       "      <td>Ostermontag</td>\n",
       "      <td>25197</td>\n",
       "      <td>68.108307</td>\n",
       "    </tr>\n",
       "    <tr>\n",
       "      <td>6</td>\n",
       "      <td>Pfingstmontag</td>\n",
       "      <td>25197</td>\n",
       "      <td>69.642656</td>\n",
       "    </tr>\n",
       "    <tr>\n",
       "      <td>7</td>\n",
       "      <td>Tag der Deutschen Einheit</td>\n",
       "      <td>25197</td>\n",
       "      <td>106.432194</td>\n",
       "    </tr>\n",
       "    <tr>\n",
       "      <td>8</td>\n",
       "      <td>Zweiter Weihnachtstag</td>\n",
       "      <td>25197</td>\n",
       "      <td>106.181331</td>\n",
       "    </tr>\n",
       "  </tbody>\n",
       "</table>\n",
       "</div>"
      ],
      "text/plain": [
       "        german_holiday_names  number_Of_Listings  average_Price\n",
       "0        Christi Himmelfahrt               25197      70.379251\n",
       "1                 Erster Mai               25197     106.284875\n",
       "2       Erster Weihnachtstag               25197     106.152161\n",
       "3                 Karfreitag               25197     106.189784\n",
       "4                    Neujahr               25197     111.014446\n",
       "5                Ostermontag               25197      68.108307\n",
       "6              Pfingstmontag               25197      69.642656\n",
       "7  Tag der Deutschen Einheit               25197     106.432194\n",
       "8      Zweiter Weihnachtstag               25197     106.181331"
      ]
     },
     "execution_count": 25,
     "metadata": {},
     "output_type": "execute_result"
    }
   ],
   "source": [
    "DataFrameMerged=pd.merge(dataFrameHoliday,DataFrameHolidayPrice,on='german_holiday_names')\n",
    "DataFrameMerged=DataFrameMerged.rename(columns={'listing_id':'number_Of_Listings'})\n",
    "DataFrameMerged=DataFrameMerged.rename(columns={'price':'average_Price'})\n",
    "DataFrameMerged"
   ]
  },
  {
   "cell_type": "markdown",
   "metadata": {},
   "source": [
    "We can see that the prices in January and February 2021 are higher. Let us check"
   ]
  },
  {
   "cell_type": "code",
   "execution_count": 26,
   "metadata": {},
   "outputs": [
    {
     "data": {
      "text/html": [
       "<div>\n",
       "<style scoped>\n",
       "    .dataframe tbody tr th:only-of-type {\n",
       "        vertical-align: middle;\n",
       "    }\n",
       "\n",
       "    .dataframe tbody tr th {\n",
       "        vertical-align: top;\n",
       "    }\n",
       "\n",
       "    .dataframe thead th {\n",
       "        text-align: right;\n",
       "    }\n",
       "</style>\n",
       "<table border=\"1\" class=\"dataframe\">\n",
       "  <thead>\n",
       "    <tr style=\"text-align: right;\">\n",
       "      <th></th>\n",
       "      <th>Year</th>\n",
       "      <th>Month</th>\n",
       "      <th>holiday</th>\n",
       "      <th>price</th>\n",
       "    </tr>\n",
       "  </thead>\n",
       "  <tbody>\n",
       "    <tr>\n",
       "      <td>0</td>\n",
       "      <td>2021</td>\n",
       "      <td>01</td>\n",
       "      <td>False</td>\n",
       "      <td>83.281311</td>\n",
       "    </tr>\n",
       "    <tr>\n",
       "      <td>1</td>\n",
       "      <td>2021</td>\n",
       "      <td>01</td>\n",
       "      <td>True</td>\n",
       "      <td>111.014446</td>\n",
       "    </tr>\n",
       "    <tr>\n",
       "      <td>2</td>\n",
       "      <td>2021</td>\n",
       "      <td>02</td>\n",
       "      <td>False</td>\n",
       "      <td>82.988975</td>\n",
       "    </tr>\n",
       "  </tbody>\n",
       "</table>\n",
       "</div>"
      ],
      "text/plain": [
       "   Year Month  holiday       price\n",
       "0  2021    01    False   83.281311\n",
       "1  2021    01     True  111.014446\n",
       "2  2021    02    False   82.988975"
      ]
     },
     "execution_count": 26,
     "metadata": {},
     "output_type": "execute_result"
    }
   ],
   "source": [
    "#analyzing data of January and February\n",
    "\n",
    "DataFrameCheckHolidays=dataFrameCalendar[(dataFrameCalendar['Year'] == '2021') & ((dataFrameCalendar['Month'] == '01') |(dataFrameCalendar['Month'] == '02'))]\n",
    "DataFrameCheckHolidays=DataFrameCheckHolidays.groupby(['Year','Month','holiday']).price.mean()\n",
    "DataFrameCheckHolidays=DataFrameCheckHolidays.reset_index()\n",
    "DataFrameCheckHolidays.head()"
   ]
  },
  {
   "cell_type": "code",
   "execution_count": 27,
   "metadata": {},
   "outputs": [
    {
     "data": {
      "text/plain": [
       "Month\n",
       "01    97.027252\n",
       "Name: price, dtype: float64"
      ]
     },
     "execution_count": 27,
     "metadata": {},
     "output_type": "execute_result"
    }
   ],
   "source": [
    "#analyzing longweekednd holiday days\n",
    "\n",
    "columbusDF=dataFrameCalendar[(dataFrameCalendar['Year'] == '2021') & (dataFrameCalendar['Month'] == '01' ) & ((dataFrameCalendar['Day'] == '01') | (dataFrameCalendar['Day'] == '02') | (dataFrameCalendar['Day'] == '03'))]\n",
    "columbusDF.groupby('Month').price.mean()"
   ]
  },
  {
   "cell_type": "code",
   "execution_count": 28,
   "metadata": {},
   "outputs": [
    {
     "data": {
      "text/plain": [
       "Month\n",
       "01    84.175929\n",
       "Name: price, dtype: float64"
      ]
     },
     "execution_count": 28,
     "metadata": {},
     "output_type": "execute_result"
    }
   ],
   "source": [
    "#analyzing rest of the days\n",
    "\n",
    "NocolumbusDF=dataFrameCalendar[(dataFrameCalendar['Year'] == '2021') & (dataFrameCalendar['Month'] == '01' ) & ((dataFrameCalendar['Day'] != '01') | (dataFrameCalendar['Day'] != '02') | (dataFrameCalendar['Day'] != '03'))]\n",
    "NocolumbusDF.groupby('Month').price.mean()"
   ]
  },
  {
   "cell_type": "code",
   "execution_count": 29,
   "metadata": {},
   "outputs": [
    {
     "data": {
      "text/html": [
       "<div>\n",
       "<style scoped>\n",
       "    .dataframe tbody tr th:only-of-type {\n",
       "        vertical-align: middle;\n",
       "    }\n",
       "\n",
       "    .dataframe tbody tr th {\n",
       "        vertical-align: top;\n",
       "    }\n",
       "\n",
       "    .dataframe thead th {\n",
       "        text-align: right;\n",
       "    }\n",
       "</style>\n",
       "<table border=\"1\" class=\"dataframe\">\n",
       "  <thead>\n",
       "    <tr style=\"text-align: right;\">\n",
       "      <th></th>\n",
       "      <th>Day</th>\n",
       "      <th>Average_Price</th>\n",
       "    </tr>\n",
       "  </thead>\n",
       "  <tbody>\n",
       "    <tr>\n",
       "      <td>0</td>\n",
       "      <td>01</td>\n",
       "      <td>111.014446</td>\n",
       "    </tr>\n",
       "    <tr>\n",
       "      <td>1</td>\n",
       "      <td>02</td>\n",
       "      <td>108.735008</td>\n",
       "    </tr>\n",
       "    <tr>\n",
       "      <td>2</td>\n",
       "      <td>03</td>\n",
       "      <td>71.332301</td>\n",
       "    </tr>\n",
       "    <tr>\n",
       "      <td>3</td>\n",
       "      <td>04</td>\n",
       "      <td>72.398460</td>\n",
       "    </tr>\n",
       "    <tr>\n",
       "      <td>4</td>\n",
       "      <td>05</td>\n",
       "      <td>72.665000</td>\n",
       "    </tr>\n",
       "    <tr>\n",
       "      <td>5</td>\n",
       "      <td>06</td>\n",
       "      <td>72.642180</td>\n",
       "    </tr>\n",
       "    <tr>\n",
       "      <td>6</td>\n",
       "      <td>07</td>\n",
       "      <td>71.390364</td>\n",
       "    </tr>\n",
       "    <tr>\n",
       "      <td>7</td>\n",
       "      <td>08</td>\n",
       "      <td>109.489423</td>\n",
       "    </tr>\n",
       "    <tr>\n",
       "      <td>8</td>\n",
       "      <td>09</td>\n",
       "      <td>109.492162</td>\n",
       "    </tr>\n",
       "    <tr>\n",
       "      <td>9</td>\n",
       "      <td>10</td>\n",
       "      <td>71.139064</td>\n",
       "    </tr>\n",
       "  </tbody>\n",
       "</table>\n",
       "</div>"
      ],
      "text/plain": [
       "  Day  Average_Price\n",
       "0  01     111.014446\n",
       "1  02     108.735008\n",
       "2  03      71.332301\n",
       "3  04      72.398460\n",
       "4  05      72.665000\n",
       "5  06      72.642180\n",
       "6  07      71.390364\n",
       "7  08     109.489423\n",
       "8  09     109.492162\n",
       "9  10      71.139064"
      ]
     },
     "execution_count": 29,
     "metadata": {},
     "output_type": "execute_result"
    }
   ],
   "source": [
    "# analyzing data from date 1st of January to date 10th of January which includes both long weekend and normal workdays\n",
    "\n",
    "janDF=dataFrameCalendar[(dataFrameCalendar['Year'] == '2021') & (dataFrameCalendar['Month'] == '01' )& ((dataFrameCalendar['Day'] == '01' )| (dataFrameCalendar['Day'] == '02' )| (dataFrameCalendar['Day'] == '03' )| (dataFrameCalendar['Day'] == '04' )| (dataFrameCalendar['Day'] == '05' )| (dataFrameCalendar['Day'] == '06' )| (dataFrameCalendar['Day'] == '07' )| (dataFrameCalendar['Day'] == '08' )| (dataFrameCalendar['Day'] == '09' )| (dataFrameCalendar['Day'] == '10' ))]\n",
    "janDF=janDF.groupby('Day').price.mean()\n",
    "janDF=janDF.reset_index()\n",
    "janDF=janDF.sort_values('Day',ascending=[1])\n",
    "janDF=janDF.rename(columns={'price':'Average_Price'})\n",
    "janDF.head(10)"
   ]
  },
  {
   "cell_type": "code",
   "execution_count": 30,
   "metadata": {},
   "outputs": [
    {
     "data": {
      "image/png": "[encoded data removed]",
      "text/plain": [
       "<Figure size 432x288 with 1 Axes>"
      ]
     },
     "metadata": {
      "needs_background": "light"
     },
     "output_type": "display_data"
    }
   ],
   "source": [
    "import numpy as np\n",
    "import matplotlib.pyplot as plt\n",
    "\n",
    "x=janDF['Day'].tolist()\n",
    "y=janDF['Average_Price'].tolist()\n",
    "\n",
    "plt.plot(x,y, 'go-')\n",
    "plt.ylabel('Average Price')\n",
    "plt.xlabel('Days')\n",
    "plt.show()"
   ]
  },
  {
   "cell_type": "code",
   "execution_count": null,
   "metadata": {},
   "outputs": [],
   "source": []
  },
  {
   "cell_type": "code",
   "execution_count": null,
   "metadata": {},
   "outputs": [],
   "source": []
  }
 ],
 "metadata": {
  "kernelspec": {
   "display_name": "Python 3",
   "language": "python",
   "name": "python3"
  },
  "language_info": {
   "codemirror_mode": {
    "name": "ipython",
    "version": 3
   },
   "file_extension": ".py",
   "mimetype": "text/x-python",
   "name": "python",
   "nbconvert_exporter": "python",
   "pygments_lexer": "ipython3",
   "version": "3.6.9"
  }
 },
 "nbformat": 4,
 "nbformat_minor": 2
}
