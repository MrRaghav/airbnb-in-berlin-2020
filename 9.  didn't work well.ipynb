{
 "cells": [
  {
   "cell_type": "code",
   "execution_count": null,
   "metadata": {},
   "outputs": [],
   "source": []
  },
  {
   "cell_type": "code",
   "execution_count": 170,
   "metadata": {},
   "outputs": [],
   "source": [
    "import pandas as pd\n",
    "#https://github.com/shouvikmani/AirbnbDataAnalysis/blob/master/Analyzing_Airbnb_in_New_York_City.ipynb"
   ]
  },
  {
   "cell_type": "code",
   "execution_count": 171,
   "metadata": {},
   "outputs": [
    {
     "name": "stderr",
     "output_type": "stream",
     "text": [
      "C:\\Users\\Raghvendra\\Anaconda3\\lib\\site-packages\\IPython\\core\\interactiveshell.py:3058: DtypeWarning: Columns (43,61,62) have mixed types. Specify dtype option on import or set low_memory=False.\n",
      "  interactivity=interactivity, compiler=compiler, result=result)\n"
     ]
    }
   ],
   "source": [
    "listingsSummary = pd.read_csv(\"D:/Raghvendra/Masters/Irish Applications/DCU/DCU subjects study/Sem2_CA683 data analytics and data mining/Main Assignment/berlin airbnb 2020/listings_summary.csv\")"
   ]
  },
  {
   "cell_type": "code",
   "execution_count": 172,
   "metadata": {},
   "outputs": [
    {
     "data": {
      "text/html": [
       "<div>\n",
       "<style scoped>\n",
       "    .dataframe tbody tr th:only-of-type {\n",
       "        vertical-align: middle;\n",
       "    }\n",
       "\n",
       "    .dataframe tbody tr th {\n",
       "        vertical-align: top;\n",
       "    }\n",
       "\n",
       "    .dataframe thead th {\n",
       "        text-align: right;\n",
       "    }\n",
       "</style>\n",
       "<table border=\"1\" class=\"dataframe\">\n",
       "  <thead>\n",
       "    <tr style=\"text-align: right;\">\n",
       "      <th></th>\n",
       "      <th>id</th>\n",
       "      <th>listing_url</th>\n",
       "      <th>scrape_id</th>\n",
       "      <th>last_scraped</th>\n",
       "      <th>name</th>\n",
       "      <th>summary</th>\n",
       "      <th>space</th>\n",
       "      <th>description</th>\n",
       "      <th>experiences_offered</th>\n",
       "      <th>neighborhood_overview</th>\n",
       "      <th>...</th>\n",
       "      <th>instant_bookable</th>\n",
       "      <th>is_business_travel_ready</th>\n",
       "      <th>cancellation_policy</th>\n",
       "      <th>require_guest_profile_picture</th>\n",
       "      <th>require_guest_phone_verification</th>\n",
       "      <th>calculated_host_listings_count</th>\n",
       "      <th>calculated_host_listings_count_entire_homes</th>\n",
       "      <th>calculated_host_listings_count_private_rooms</th>\n",
       "      <th>calculated_host_listings_count_shared_rooms</th>\n",
       "      <th>reviews_per_month</th>\n",
       "    </tr>\n",
       "  </thead>\n",
       "  <tbody>\n",
       "    <tr>\n",
       "      <td>0</td>\n",
       "      <td>3176</td>\n",
       "      <td>https://www.airbnb.com/rooms/3176</td>\n",
       "      <td>20200218053611</td>\n",
       "      <td>2020-02-18</td>\n",
       "      <td>Fabulous Flat in great Location</td>\n",
       "      <td>This beautiful first floor apartment  is situa...</td>\n",
       "      <td>1st floor (68m2) apartment on Kollwitzplatz/ P...</td>\n",
       "      <td>This beautiful first floor apartment  is situa...</td>\n",
       "      <td>none</td>\n",
       "      <td>The neighbourhood is famous for its variety of...</td>\n",
       "      <td>...</td>\n",
       "      <td>f</td>\n",
       "      <td>f</td>\n",
       "      <td>strict_14_with_grace_period</td>\n",
       "      <td>f</td>\n",
       "      <td>f</td>\n",
       "      <td>1</td>\n",
       "      <td>1</td>\n",
       "      <td>0</td>\n",
       "      <td>0</td>\n",
       "      <td>1.12</td>\n",
       "    </tr>\n",
       "    <tr>\n",
       "      <td>1</td>\n",
       "      <td>3309</td>\n",
       "      <td>https://www.airbnb.com/rooms/3309</td>\n",
       "      <td>20200218053611</td>\n",
       "      <td>2020-02-19</td>\n",
       "      <td>BerlinSpot Schöneberg near KaDeWe</td>\n",
       "      <td>First of all: I prefer short-notice bookings. ...</td>\n",
       "      <td>Your room is really big and has 26 sqm, is ver...</td>\n",
       "      <td>First of all: I prefer short-notice bookings. ...</td>\n",
       "      <td>none</td>\n",
       "      <td>My flat is in the middle of West-Berlin, direc...</td>\n",
       "      <td>...</td>\n",
       "      <td>f</td>\n",
       "      <td>f</td>\n",
       "      <td>strict_14_with_grace_period</td>\n",
       "      <td>f</td>\n",
       "      <td>f</td>\n",
       "      <td>1</td>\n",
       "      <td>0</td>\n",
       "      <td>1</td>\n",
       "      <td>0</td>\n",
       "      <td>0.34</td>\n",
       "    </tr>\n",
       "    <tr>\n",
       "      <td>2</td>\n",
       "      <td>6883</td>\n",
       "      <td>https://www.airbnb.com/rooms/6883</td>\n",
       "      <td>20200218053611</td>\n",
       "      <td>2020-02-19</td>\n",
       "      <td>Stylish East Side Loft in Center with AC &amp; 2 b...</td>\n",
       "      <td>NaN</td>\n",
       "      <td>Stay in a stylish loft on the second floor and...</td>\n",
       "      <td>Stay in a stylish loft on the second floor and...</td>\n",
       "      <td>none</td>\n",
       "      <td>The emerging and upcoming East of the new hip ...</td>\n",
       "      <td>...</td>\n",
       "      <td>f</td>\n",
       "      <td>f</td>\n",
       "      <td>moderate</td>\n",
       "      <td>f</td>\n",
       "      <td>t</td>\n",
       "      <td>1</td>\n",
       "      <td>1</td>\n",
       "      <td>0</td>\n",
       "      <td>0</td>\n",
       "      <td>1.08</td>\n",
       "    </tr>\n",
       "  </tbody>\n",
       "</table>\n",
       "<p>3 rows × 106 columns</p>\n",
       "</div>"
      ],
      "text/plain": [
       "     id                        listing_url       scrape_id last_scraped  \\\n",
       "0  3176  https://www.airbnb.com/rooms/3176  20200218053611   2020-02-18   \n",
       "1  3309  https://www.airbnb.com/rooms/3309  20200218053611   2020-02-19   \n",
       "2  6883  https://www.airbnb.com/rooms/6883  20200218053611   2020-02-19   \n",
       "\n",
       "                                                name  \\\n",
       "0                    Fabulous Flat in great Location   \n",
       "1                  BerlinSpot Schöneberg near KaDeWe   \n",
       "2  Stylish East Side Loft in Center with AC & 2 b...   \n",
       "\n",
       "                                             summary  \\\n",
       "0  This beautiful first floor apartment  is situa...   \n",
       "1  First of all: I prefer short-notice bookings. ...   \n",
       "2                                                NaN   \n",
       "\n",
       "                                               space  \\\n",
       "0  1st floor (68m2) apartment on Kollwitzplatz/ P...   \n",
       "1  Your room is really big and has 26 sqm, is ver...   \n",
       "2  Stay in a stylish loft on the second floor and...   \n",
       "\n",
       "                                         description experiences_offered  \\\n",
       "0  This beautiful first floor apartment  is situa...                none   \n",
       "1  First of all: I prefer short-notice bookings. ...                none   \n",
       "2  Stay in a stylish loft on the second floor and...                none   \n",
       "\n",
       "                               neighborhood_overview  ... instant_bookable  \\\n",
       "0  The neighbourhood is famous for its variety of...  ...                f   \n",
       "1  My flat is in the middle of West-Berlin, direc...  ...                f   \n",
       "2  The emerging and upcoming East of the new hip ...  ...                f   \n",
       "\n",
       "  is_business_travel_ready          cancellation_policy  \\\n",
       "0                        f  strict_14_with_grace_period   \n",
       "1                        f  strict_14_with_grace_period   \n",
       "2                        f                     moderate   \n",
       "\n",
       "  require_guest_profile_picture require_guest_phone_verification  \\\n",
       "0                             f                                f   \n",
       "1                             f                                f   \n",
       "2                             f                                t   \n",
       "\n",
       "   calculated_host_listings_count  \\\n",
       "0                               1   \n",
       "1                               1   \n",
       "2                               1   \n",
       "\n",
       "   calculated_host_listings_count_entire_homes  \\\n",
       "0                                            1   \n",
       "1                                            0   \n",
       "2                                            1   \n",
       "\n",
       "  calculated_host_listings_count_private_rooms  \\\n",
       "0                                            0   \n",
       "1                                            1   \n",
       "2                                            0   \n",
       "\n",
       "   calculated_host_listings_count_shared_rooms  reviews_per_month  \n",
       "0                                            0               1.12  \n",
       "1                                            0               0.34  \n",
       "2                                            0               1.08  \n",
       "\n",
       "[3 rows x 106 columns]"
      ]
     },
     "execution_count": 172,
     "metadata": {},
     "output_type": "execute_result"
    }
   ],
   "source": [
    "listingsSummary.head(3)"
   ]
  },
  {
   "cell_type": "markdown",
   "metadata": {},
   "source": [
    "Let's clean the price column"
   ]
  },
  {
   "cell_type": "code",
   "execution_count": 173,
   "metadata": {},
   "outputs": [
    {
     "data": {
      "text/plain": [
       "count    25197.000000\n",
       "mean        73.849863\n",
       "std        225.236453\n",
       "min          0.000000\n",
       "25%         35.000000\n",
       "50%         50.000000\n",
       "75%         79.000000\n",
       "max       9000.000000\n",
       "Name: price, dtype: float64"
      ]
     },
     "execution_count": 173,
     "metadata": {},
     "output_type": "execute_result"
    }
   ],
   "source": [
    "priceUpdated = listingsSummary['price'].map(lambda p: int(p[1:-3].replace(\",\", \"\")))\n",
    "listingsSummary['price'] = priceUpdated\n",
    "listingsSummary['price'].describe()"
   ]
  },
  {
   "cell_type": "code",
   "execution_count": 174,
   "metadata": {},
   "outputs": [
    {
     "data": {
      "text/plain": [
       "0     90\n",
       "1     28\n",
       "2    125\n",
       "3     33\n",
       "4    180\n",
       "Name: price, dtype: int64"
      ]
     },
     "execution_count": 174,
     "metadata": {},
     "output_type": "execute_result"
    }
   ],
   "source": [
    "listingsSummary['price'].head()"
   ]
  },
  {
   "cell_type": "code",
   "execution_count": 175,
   "metadata": {},
   "outputs": [
    {
     "data": {
      "text/plain": [
       "73.84986307893797"
      ]
     },
     "execution_count": 175,
     "metadata": {},
     "output_type": "execute_result"
    }
   ],
   "source": [
    "listingsSummary.price.mean()"
   ]
  },
  {
   "cell_type": "code",
   "execution_count": 176,
   "metadata": {},
   "outputs": [
    {
     "data": {
      "text/plain": [
       "50.0"
      ]
     },
     "execution_count": 176,
     "metadata": {},
     "output_type": "execute_result"
    }
   ],
   "source": [
    "listingsSummary.price.median()"
   ]
  },
  {
   "cell_type": "markdown",
   "metadata": {},
   "source": [
    "Factors affecting prices:"
   ]
  },
  {
   "cell_type": "code",
   "execution_count": 177,
   "metadata": {},
   "outputs": [],
   "source": [
    "import matplotlib.pyplot as plt"
   ]
  },
  {
   "cell_type": "code",
   "execution_count": 178,
   "metadata": {},
   "outputs": [
    {
     "data": {
      "image/png": "[encoded data removed]",
      "text/plain": [
       "<Figure size 936x360 with 2 Axes>"
      ]
     },
     "metadata": {
      "needs_background": "light"
     },
     "output_type": "display_data"
    }
   ],
   "source": [
    "def plotHistogram(listingsSummary, name, xlabel):\n",
    "    allValues = listingsSummary[name].dropna()\n",
    "    plt.hist(allValues)\n",
    "    plt.xlabel(xlabel)\n",
    "    plt.ylabel('Count')\n",
    "    \n",
    "plt.figure(figsize=(13,5))\n",
    "plt.subplot(1, 2, 1)\n",
    "name = 'price'\n",
    "xlabel = 'Price (including outliers)'\n",
    "plotHistogram(listingsSummary, name, xlabel)\n",
    "\n",
    "plt.subplot(1, 2, 2)\n",
    "# Removing the outliers having prices over $100\n",
    "outliersDF = listingsSummary[listingsSummary['price'] > 100]\n",
    "listingsSummary = listingsSummary[listingsSummary['price'] < 100]\n",
    "listingsSummary = listingsSummary.reset_index(drop=True)\n",
    "\n",
    "xlabel = 'Price (without outliers)'\n",
    "plotHistogram(listingsSummary, name, xlabel)\n"
   ]
  },
  {
   "cell_type": "markdown",
   "metadata": {},
   "source": [
    "Let's check the relationship between categorical variables and price"
   ]
  },
  {
   "cell_type": "code",
   "execution_count": 179,
   "metadata": {},
   "outputs": [],
   "source": [
    "from collections import Counter"
   ]
  },
  {
   "cell_type": "code",
   "execution_count": 180,
   "metadata": {},
   "outputs": [
    {
     "data": {
      "text/plain": [
       "0       Fabulous Flat in great Location\n",
       "1     BerlinSpot Schöneberg near KaDeWe\n",
       "2      BrightRoom with sunny greenview!\n",
       "3          Apartment in Prenzlauer Berg\n",
       "4    In the Heart of Berlin - Kreuzberg\n",
       "Name: name, dtype: object"
      ]
     },
     "execution_count": 180,
     "metadata": {},
     "output_type": "execute_result"
    }
   ],
   "source": [
    "listingsSummary['name'].head()"
   ]
  },
  {
   "cell_type": "code",
   "execution_count": 181,
   "metadata": {},
   "outputs": [],
   "source": [
    "listingsSummary = listingsSummary.rename(columns={'name': 'nameUpdated'})"
   ]
  },
  {
   "cell_type": "code",
   "execution_count": 182,
   "metadata": {},
   "outputs": [
    {
     "data": {
      "text/plain": [
       "0       Fabulous Flat in great Location\n",
       "1     BerlinSpot Schöneberg near KaDeWe\n",
       "2      BrightRoom with sunny greenview!\n",
       "3          Apartment in Prenzlauer Berg\n",
       "4    In the Heart of Berlin - Kreuzberg\n",
       "Name: nameUpdated, dtype: object"
      ]
     },
     "execution_count": 182,
     "metadata": {},
     "output_type": "execute_result"
    }
   ],
   "source": [
    "listingsSummary['nameUpdated'].head()"
   ]
  },
  {
   "cell_type": "code",
   "execution_count": null,
   "metadata": {},
   "outputs": [],
   "source": []
  },
  {
   "cell_type": "code",
   "execution_count": 183,
   "metadata": {},
   "outputs": [
    {
     "data": {
      "text/plain": [
       "0    4\n",
       "1    1\n",
       "2    2\n",
       "3    1\n",
       "4    5\n",
       "Name: accommodates, dtype: int64"
      ]
     },
     "execution_count": 183,
     "metadata": {},
     "output_type": "execute_result"
    }
   ],
   "source": [
    "listingsSummary['accommodates'].head()"
   ]
  },
  {
   "cell_type": "code",
   "execution_count": 184,
   "metadata": {},
   "outputs": [
    {
     "data": {
      "text/plain": [
       "0    93.0\n",
       "1    89.0\n",
       "2    97.0\n",
       "3    93.0\n",
       "4    94.0\n",
       "Name: review_scores_rating, dtype: float64"
      ]
     },
     "execution_count": 184,
     "metadata": {},
     "output_type": "execute_result"
    }
   ],
   "source": [
    "listingsSummary['review_scores_rating'].head()"
   ]
  },
  {
   "cell_type": "code",
   "execution_count": 185,
   "metadata": {},
   "outputs": [],
   "source": [
    "import math\n",
    "#import sys"
   ]
  },
  {
   "cell_type": "code",
   "execution_count": 186,
   "metadata": {},
   "outputs": [
    {
     "data": {
      "text/html": [
       "<div>\n",
       "<style scoped>\n",
       "    .dataframe tbody tr th:only-of-type {\n",
       "        vertical-align: middle;\n",
       "    }\n",
       "\n",
       "    .dataframe tbody tr th {\n",
       "        vertical-align: top;\n",
       "    }\n",
       "\n",
       "    .dataframe thead th {\n",
       "        text-align: right;\n",
       "    }\n",
       "</style>\n",
       "<table border=\"1\" class=\"dataframe\">\n",
       "  <thead>\n",
       "    <tr style=\"text-align: right;\">\n",
       "      <th></th>\n",
       "      <th>price</th>\n",
       "      <th>bathrooms_1orFewer</th>\n",
       "      <th>bathrooms_2orMore</th>\n",
       "      <th>bedrooms_0</th>\n",
       "      <th>bedrooms_1</th>\n",
       "      <th>bedrooms_2orMore</th>\n",
       "      <th>beds_1</th>\n",
       "      <th>beds_2</th>\n",
       "      <th>beds_3orMore</th>\n",
       "      <th>capacity_1</th>\n",
       "      <th>capacity_2</th>\n",
       "      <th>capacity_3</th>\n",
       "      <th>capacity_4</th>\n",
       "      <th>capacity_5orMore</th>\n",
       "      <th>review_scores_rating_80orLess</th>\n",
       "      <th>review_scores_rating_90</th>\n",
       "      <th>review_scores_rating_100</th>\n",
       "      <th>property_apartment</th>\n",
       "      <th>property_house</th>\n",
       "      <th>property_other</th>\n",
       "    </tr>\n",
       "  </thead>\n",
       "  <tbody>\n",
       "    <tr>\n",
       "      <td>0</td>\n",
       "      <td>90</td>\n",
       "      <td>1</td>\n",
       "      <td>0</td>\n",
       "      <td>0</td>\n",
       "      <td>1</td>\n",
       "      <td>0</td>\n",
       "      <td>0</td>\n",
       "      <td>1</td>\n",
       "      <td>0</td>\n",
       "      <td>0</td>\n",
       "      <td>0</td>\n",
       "      <td>0</td>\n",
       "      <td>1</td>\n",
       "      <td>0</td>\n",
       "      <td>0</td>\n",
       "      <td>0</td>\n",
       "      <td>0</td>\n",
       "      <td>1</td>\n",
       "      <td>0</td>\n",
       "      <td>0</td>\n",
       "    </tr>\n",
       "    <tr>\n",
       "      <td>1</td>\n",
       "      <td>28</td>\n",
       "      <td>1</td>\n",
       "      <td>0</td>\n",
       "      <td>0</td>\n",
       "      <td>1</td>\n",
       "      <td>0</td>\n",
       "      <td>1</td>\n",
       "      <td>0</td>\n",
       "      <td>0</td>\n",
       "      <td>1</td>\n",
       "      <td>0</td>\n",
       "      <td>0</td>\n",
       "      <td>0</td>\n",
       "      <td>0</td>\n",
       "      <td>0</td>\n",
       "      <td>0</td>\n",
       "      <td>0</td>\n",
       "      <td>1</td>\n",
       "      <td>0</td>\n",
       "      <td>0</td>\n",
       "    </tr>\n",
       "    <tr>\n",
       "      <td>2</td>\n",
       "      <td>33</td>\n",
       "      <td>1</td>\n",
       "      <td>0</td>\n",
       "      <td>0</td>\n",
       "      <td>1</td>\n",
       "      <td>0</td>\n",
       "      <td>0</td>\n",
       "      <td>1</td>\n",
       "      <td>0</td>\n",
       "      <td>0</td>\n",
       "      <td>1</td>\n",
       "      <td>0</td>\n",
       "      <td>0</td>\n",
       "      <td>0</td>\n",
       "      <td>0</td>\n",
       "      <td>0</td>\n",
       "      <td>0</td>\n",
       "      <td>1</td>\n",
       "      <td>0</td>\n",
       "      <td>0</td>\n",
       "    </tr>\n",
       "    <tr>\n",
       "      <td>3</td>\n",
       "      <td>70</td>\n",
       "      <td>1</td>\n",
       "      <td>0</td>\n",
       "      <td>1</td>\n",
       "      <td>0</td>\n",
       "      <td>0</td>\n",
       "      <td>1</td>\n",
       "      <td>0</td>\n",
       "      <td>0</td>\n",
       "      <td>1</td>\n",
       "      <td>0</td>\n",
       "      <td>0</td>\n",
       "      <td>0</td>\n",
       "      <td>0</td>\n",
       "      <td>0</td>\n",
       "      <td>0</td>\n",
       "      <td>0</td>\n",
       "      <td>1</td>\n",
       "      <td>0</td>\n",
       "      <td>0</td>\n",
       "    </tr>\n",
       "    <tr>\n",
       "      <td>4</td>\n",
       "      <td>90</td>\n",
       "      <td>1</td>\n",
       "      <td>0</td>\n",
       "      <td>0</td>\n",
       "      <td>1</td>\n",
       "      <td>0</td>\n",
       "      <td>0</td>\n",
       "      <td>0</td>\n",
       "      <td>1</td>\n",
       "      <td>0</td>\n",
       "      <td>0</td>\n",
       "      <td>0</td>\n",
       "      <td>0</td>\n",
       "      <td>1</td>\n",
       "      <td>0</td>\n",
       "      <td>0</td>\n",
       "      <td>0</td>\n",
       "      <td>1</td>\n",
       "      <td>0</td>\n",
       "      <td>0</td>\n",
       "    </tr>\n",
       "  </tbody>\n",
       "</table>\n",
       "</div>"
      ],
      "text/plain": [
       "   price  bathrooms_1orFewer  bathrooms_2orMore  bedrooms_0  bedrooms_1  \\\n",
       "0     90                   1                  0           0           1   \n",
       "1     28                   1                  0           0           1   \n",
       "2     33                   1                  0           0           1   \n",
       "3     70                   1                  0           1           0   \n",
       "4     90                   1                  0           0           1   \n",
       "\n",
       "   bedrooms_2orMore  beds_1  beds_2  beds_3orMore  capacity_1  capacity_2  \\\n",
       "0                 0       0       1             0           0           0   \n",
       "1                 0       1       0             0           1           0   \n",
       "2                 0       0       1             0           0           1   \n",
       "3                 0       1       0             0           1           0   \n",
       "4                 0       0       0             1           0           0   \n",
       "\n",
       "   capacity_3  capacity_4  capacity_5orMore  review_scores_rating_80orLess  \\\n",
       "0           0           1                 0                              0   \n",
       "1           0           0                 0                              0   \n",
       "2           0           0                 0                              0   \n",
       "3           0           0                 0                              0   \n",
       "4           0           0                 1                              0   \n",
       "\n",
       "   review_scores_rating_90  review_scores_rating_100  property_apartment  \\\n",
       "0                        0                         0                   1   \n",
       "1                        0                         0                   1   \n",
       "2                        0                         0                   1   \n",
       "3                        0                         0                   1   \n",
       "4                        0                         0                   1   \n",
       "\n",
       "   property_house  property_other  \n",
       "0               0               0  \n",
       "1               0               0  \n",
       "2               0               0  \n",
       "3               0               0  \n",
       "4               0               0  "
      ]
     },
     "execution_count": 186,
     "metadata": {},
     "output_type": "execute_result"
    }
   ],
   "source": [
    "regressionDF = pd.DataFrame(listingsSummary['price'])\n",
    "\n",
    "# Bathrooms\n",
    "bathroomsMode = listingsSummary['bathrooms'].mode()[0]\n",
    "listingsSummary['bathrooms'] = listingsSummary['bathrooms'].fillna(bathroomsMode)\n",
    "listingsSummary['bathrooms'] = listingsSummary['bathrooms'].apply(lambda x: math.ceil(x))\n",
    "regressionDF['bathrooms_1orFewer'] = (listingsSummary['bathrooms'] <= 1).astype(int)\n",
    "regressionDF['bathrooms_2orMore'] = (listingsSummary['bathrooms'] >= 2).astype(int)\n",
    "\n",
    "# Bedrooms\n",
    "bedroomsMode = listingsSummary['bedrooms'].mode()[0]\n",
    "listingsSummary['bedrooms'] = listingsSummary['bedrooms'].fillna(bedroomsMode)\n",
    "regressionDF['bedrooms_0'] = (listingsSummary['bedrooms'] == 0.0).astype(int)\n",
    "regressionDF['bedrooms_1'] = (listingsSummary['bedrooms'] == 1.0).astype(int)\n",
    "regressionDF['bedrooms_2orMore'] = (listingsSummary['bedrooms'] >= 2).astype(int)\n",
    "\n",
    "# Beds\n",
    "bedsMode = listingsSummary['beds'].mode()[0]\n",
    "listingsSummary['beds'] = listingsSummary['beds'].fillna(bedsMode)\n",
    "regressionDF['beds_1'] = (listingsSummary['beds'] == 1.0).astype(int)\n",
    "regressionDF['beds_2'] = (listingsSummary['beds'] == 2.0).astype(int)\n",
    "regressionDF['beds_3orMore'] = (listingsSummary['beds'] >= 3).astype(int)\n",
    "\n",
    "# Capacity\n",
    "for i in range(1, 5):\n",
    "    regressionDF['capacity_' + str(i)] = (listingsSummary['accommodates'] == i).astype(int)\n",
    "regressionDF['capacity_5orMore'] = (listingsSummary['accommodates'] >= 5).astype(int)\n",
    "\n",
    "# Star Rating\n",
    "starRatingMode = listingsSummary['review_scores_rating'].mode()[0]\n",
    "listingsSummary['review_scores_rating'] = listingsSummary['review_scores_rating'].fillna(starRatingMode)\n",
    "regressionDF['review_scores_rating_80orLess'] = (listingsSummary['review_scores_rating'] <= 80).astype(int)\n",
    "regressionDF['review_scores_rating_90'] = (listingsSummary['review_scores_rating'] == 90).astype(int)\n",
    "regressionDF['review_scores_rating_100'] = (listingsSummary['review_scores_rating'] == 100).astype(int)\n",
    "\n",
    "# Property Type\n",
    "regressionDF['property_apartment'] = (listingsSummary['property_type'] == 'Apartment').astype(int)\n",
    "regressionDF['property_house'] = (listingsSummary['property_type'] == 'House').astype(int)\n",
    "regressionDF['property_other'] = (~listingsSummary['property_type'].isin(['Apartment', 'House'])).astype(int)\n",
    "\n",
    "# Average Neighborhood Rent\n",
    "#regressionDF['avg_neighborhood_rent'] = listingsSummary['avg_neighborhood_rent']\n",
    "\n",
    "# Design matrix used for regression\n",
    "regressionDF.head()"
   ]
  },
  {
   "cell_type": "markdown",
   "metadata": {},
   "source": [
    "Multivariate linear regression"
   ]
  },
  {
   "cell_type": "code",
   "execution_count": 187,
   "metadata": {},
   "outputs": [],
   "source": [
    "import numpy as np\n",
    "import statsmodels.api as sm"
   ]
  },
  {
   "cell_type": "code",
   "execution_count": 188,
   "metadata": {},
   "outputs": [
    {
     "name": "stdout",
     "output_type": "stream",
     "text": [
      "                       Results: Ordinary least squares\n",
      "=============================================================================\n",
      "Model:                 OLS                 Adj. R-squared:        0.204      \n",
      "Dependent Variable:    price               AIC:                   130705.9956\n",
      "Date:                  2020-04-14 16:40    BIC:                   130812.6355\n",
      "No. Observations:      15020               Log-Likelihood:        -65339.    \n",
      "Df Model:              13                  F-statistic:           297.2      \n",
      "Df Residuals:          15006               Prob (F-statistic):    0.00       \n",
      "R-squared:             0.205               Scale:                 351.89     \n",
      "-----------------------------------------------------------------------------\n",
      "                               Coef.  Std.Err.    t    P>|t|   [0.025  0.975]\n",
      "-----------------------------------------------------------------------------\n",
      "const                         33.3967   0.4260 78.3970 0.0000 32.5617 34.2317\n",
      "bathrooms_2orMore             -2.7246   0.5254 -5.1861 0.0000 -3.7543 -1.6948\n",
      "bedrooms_0                     5.1520   0.5600  9.2004 0.0000  4.0544  6.2496\n",
      "bedrooms_2orMore               8.5441   0.6194 13.7941 0.0000  7.3300  9.7582\n",
      "beds_2                        -0.6276   0.4549 -1.3796 0.1677 -1.5194  0.2641\n",
      "beds_3orMore                   0.8454   0.8063  1.0484 0.2945 -0.7352  2.4259\n",
      "capacity_2                    12.5299   0.4611 27.1718 0.0000 11.6260 13.4337\n",
      "capacity_3                    20.2614   0.6729 30.1107 0.0000 18.9424 21.5803\n",
      "capacity_4                    27.0327   0.7204 37.5263 0.0000 25.6207 28.4447\n",
      "capacity_5orMore              27.8326   1.1069 25.1445 0.0000 25.6630 30.0023\n",
      "review_scores_rating_80orLess -4.3137   0.6529 -6.6072 0.0000 -5.5934 -3.0339\n",
      "review_scores_rating_90       -2.2728   0.7535 -3.0164 0.0026 -3.7496 -0.7959\n",
      "property_house                -2.2774   1.2480 -1.8248 0.0680 -4.7236  0.1689\n",
      "property_other                 3.3659   0.6050  5.5630 0.0000  2.1799  4.5519\n",
      "-----------------------------------------------------------------------------\n",
      "Omnibus:                  550.420          Durbin-Watson:             1.976  \n",
      "Prob(Omnibus):            0.000            Jarque-Bera (JB):          609.366\n",
      "Skew:                     0.490            Prob(JB):                  0.000  \n",
      "Kurtosis:                 2.878            Condition No.:             11     \n",
      "=============================================================================\n",
      "\n"
     ]
    },
    {
     "name": "stderr",
     "output_type": "stream",
     "text": [
      "C:\\Users\\Raghvendra\\Anaconda3\\lib\\site-packages\\numpy\\core\\fromnumeric.py:2389: FutureWarning: Method .ptp is deprecated and will be removed in a future version. Use numpy.ptp instead.\n",
      "  return ptp(axis=axis, out=out, **kwargs)\n"
     ]
    }
   ],
   "source": [
    "# Source: http://datasciencecourse.org/nonlinear_modeling.pdf\n",
    "np.random.seed(0)\n",
    "perm = np.random.permutation(len(regressionDF))\n",
    "trainIndices = perm[:int(len(perm) * 0.7)]\n",
    "testIndices = perm[int(len(perm) * 0.7):]\n",
    "\n",
    "y_train = regressionDF.loc[trainIndices, 'price']\n",
    "X_train = regressionDF.loc[trainIndices, \n",
    "                            ['bathrooms_2orMore',  'bedrooms_0', 'bedrooms_2orMore',\n",
    "                             'beds_2', 'beds_3orMore','capacity_2', 'capacity_3', \n",
    "                             'capacity_4', 'capacity_5orMore','review_scores_rating_80orLess', \n",
    "                             'review_scores_rating_90','property_house', 'property_other']]\n",
    "X_train = sm.add_constant(X_train)\n",
    "\n",
    "model = sm.OLS(y_train, X_train)\n",
    "reg = model.fit()\n",
    "print(reg.summary2())"
   ]
  },
  {
   "cell_type": "markdown",
   "metadata": {},
   "source": [
    "We get an adjusted R2 value of .20 which is a measure of goodness of fit (between 0 and 1)"
   ]
  },
  {
   "cell_type": "code",
   "execution_count": null,
   "metadata": {},
   "outputs": [],
   "source": []
  },
  {
   "cell_type": "code",
   "execution_count": 189,
   "metadata": {},
   "outputs": [
    {
     "name": "stdout",
     "output_type": "stream",
     "text": [
      "                  Results: Ordinary least squares\n",
      "====================================================================\n",
      "Model:              OLS              Adj. R-squared:     0.200      \n",
      "Dependent Variable: price            AIC:                130777.3633\n",
      "Date:               2020-04-14 16:40 BIC:                130853.5347\n",
      "No. Observations:   15020            Log-Likelihood:     -65379.    \n",
      "Df Model:           9                F-statistic:        418.4      \n",
      "Df Residuals:       15010            Prob (F-statistic): 0.00       \n",
      "R-squared:          0.201            Scale:              353.66     \n",
      "--------------------------------------------------------------------\n",
      "                      Coef.  Std.Err.    t    P>|t|   [0.025  0.975]\n",
      "--------------------------------------------------------------------\n",
      "const                32.7263   0.4196 78.0004 0.0000 31.9039 33.5487\n",
      "bedrooms_0            5.2679   0.5603  9.4012 0.0000  4.1695  6.3662\n",
      "bedrooms_2orMore      8.5817   0.6053 14.1783 0.0000  7.3953  9.7681\n",
      "beds_2               -0.8087   0.4210 -1.9210 0.0548 -1.6339  0.0165\n",
      "capacity_2           12.6735   0.4618 27.4467 0.0000 11.7684 13.5786\n",
      "capacity_3           20.5161   0.6586 31.1494 0.0000 19.2251 21.8071\n",
      "capacity_4           27.3284   0.6875 39.7489 0.0000 25.9807 28.6760\n",
      "capacity_5orMore     28.2617   0.9666 29.2395 0.0000 26.3672 30.1563\n",
      "property_house       -2.7261   1.2457 -2.1884 0.0287 -5.1678 -0.2843\n",
      "property_other        3.1892   0.6040  5.2805 0.0000  2.0053  4.3730\n",
      "--------------------------------------------------------------------\n",
      "Omnibus:               555.715       Durbin-Watson:          1.978  \n",
      "Prob(Omnibus):         0.000         Jarque-Bera (JB):       615.403\n",
      "Skew:                  0.492         Prob(JB):               0.000  \n",
      "Kurtosis:              2.871         Condition No.:          10     \n",
      "====================================================================\n",
      "\n"
     ]
    }
   ],
   "source": [
    "X_train = regressionDF.loc[trainIndices, \n",
    "                            ['bedrooms_0', 'bedrooms_2orMore', 'beds_2',\n",
    "                             'capacity_2', 'capacity_3', 'capacity_4', 'capacity_5orMore',\n",
    "                             'property_house', 'property_other']]\n",
    "X_train = sm.add_constant(X_train)\n",
    "\n",
    "model = sm.OLS(y_train, X_train)\n",
    "reg = model.fit()\n",
    "print(reg.summary2())"
   ]
  },
  {
   "cell_type": "code",
   "execution_count": null,
   "metadata": {},
   "outputs": [],
   "source": []
  },
  {
   "cell_type": "code",
   "execution_count": 190,
   "metadata": {},
   "outputs": [
    {
     "data": {
      "text/plain": [
       "Text(0, 0.5, 'Residuals')"
      ]
     },
     "execution_count": 190,
     "metadata": {},
     "output_type": "execute_result"
    },
    {
     "data": {
      "image/png": "[encoded data removed]",
      "text/plain": [
       "<Figure size 576x432 with 1 Axes>"
      ]
     },
     "metadata": {
      "needs_background": "light"
     },
     "output_type": "display_data"
    }
   ],
   "source": [
    "plt.figure(figsize=(8,6))\n",
    "\n",
    "predictions = reg.predict()\n",
    "residuals = reg.resid\n",
    "plt.plot(predictions, residuals, '.')\n",
    "plt.title('Residuals vs. Price Predictions')\n",
    "plt.xlabel('Prediction')\n",
    "plt.ylabel('Residuals')"
   ]
  },
  {
   "cell_type": "code",
   "execution_count": null,
   "metadata": {},
   "outputs": [],
   "source": []
  },
  {
   "cell_type": "code",
   "execution_count": 191,
   "metadata": {},
   "outputs": [],
   "source": [
    "import scipy.stats as stats"
   ]
  },
  {
   "cell_type": "code",
   "execution_count": 192,
   "metadata": {},
   "outputs": [
    {
     "data": {
      "text/plain": [
       "0    90\n",
       "1    28\n",
       "2    33\n",
       "3    70\n",
       "4    90\n",
       "Name: price, dtype: int64"
      ]
     },
     "execution_count": 192,
     "metadata": {},
     "output_type": "execute_result"
    }
   ],
   "source": [
    "regressionDF['price'].head()"
   ]
  },
  {
   "cell_type": "code",
   "execution_count": 193,
   "metadata": {},
   "outputs": [
    {
     "name": "stderr",
     "output_type": "stream",
     "text": [
      "C:\\Users\\Raghvendra\\Anaconda3\\lib\\site-packages\\pandas\\core\\series.py:853: RuntimeWarning: divide by zero encountered in log\n",
      "  result = getattr(ufunc, method)(*inputs, **kwargs)\n"
     ]
    }
   ],
   "source": [
    "regressionDF['log_price'] = np.log(listingsSummary['price'])"
   ]
  },
  {
   "cell_type": "code",
   "execution_count": 194,
   "metadata": {},
   "outputs": [
    {
     "data": {
      "text/plain": [
       "0    4.499810\n",
       "1    3.332205\n",
       "2    3.496508\n",
       "3    4.248495\n",
       "4    4.499810\n",
       "Name: log_price, dtype: float64"
      ]
     },
     "execution_count": 194,
     "metadata": {},
     "output_type": "execute_result"
    }
   ],
   "source": [
    "regressionDF['log_price'].head()"
   ]
  },
  {
   "cell_type": "code",
   "execution_count": 196,
   "metadata": {},
   "outputs": [
    {
     "name": "stdout",
     "output_type": "stream",
     "text": [
      "              Results: Ordinary least squares\n",
      "============================================================\n",
      "Model:              OLS              Adj. R-squared:     nan\n",
      "Dependent Variable: log_price        AIC:                nan\n",
      "Date:               2020-04-14 16:42 BIC:                nan\n",
      "No. Observations:   15020            Log-Likelihood:     nan\n",
      "Df Model:           9                F-statistic:        nan\n",
      "Df Residuals:       15010            Prob (F-statistic): nan\n",
      "R-squared:          nan              Scale:              nan\n",
      "-------------------------------------------------------------\n",
      "                  Coef.  Std.Err.   t   P>|t|  [0.025  0.975]\n",
      "-------------------------------------------------------------\n",
      "const               nan       nan  nan    nan     nan     nan\n",
      "bedrooms_0          inf       nan  nan    nan     nan     nan\n",
      "bedrooms_2orMore    nan       nan  nan    nan     nan     nan\n",
      "beds_2              inf       nan  nan    nan     nan     nan\n",
      "capacity_2         -inf       nan  nan    nan     nan     nan\n",
      "capacity_3          nan       nan  nan    nan     nan     nan\n",
      "capacity_4          nan       nan  nan    nan     nan     nan\n",
      "capacity_5orMore    nan       nan  nan    nan     nan     nan\n",
      "property_house      nan       nan  nan    nan     nan     nan\n",
      "property_other      nan       nan  nan    nan     nan     nan\n",
      "------------------------------------------------------------\n",
      "Omnibus:               nan       Durbin-Watson:          nan\n",
      "Prob(Omnibus):         nan       Jarque-Bera (JB):       nan\n",
      "Skew:                  nan       Prob(JB):               nan\n",
      "Kurtosis:              nan       Condition No.:          10 \n",
      "============================================================\n",
      "\n"
     ]
    },
    {
     "name": "stderr",
     "output_type": "stream",
     "text": [
      "C:\\Users\\Raghvendra\\Anaconda3\\lib\\site-packages\\numpy\\core\\fromnumeric.py:2389: FutureWarning: Method .ptp is deprecated and will be removed in a future version. Use numpy.ptp instead.\n",
      "  return ptp(axis=axis, out=out, **kwargs)\n"
     ]
    }
   ],
   "source": [
    "X_train = regressionDF.loc[trainIndices, \n",
    "                            ['bedrooms_0', 'bedrooms_2orMore', 'beds_2',\n",
    "                             'capacity_2', 'capacity_3', 'capacity_4', 'capacity_5orMore',\n",
    "                             'property_house', 'property_other']]\n",
    "X_train = sm.add_constant(X_train)\n",
    "\n",
    "y_train = regressionDF.loc[trainIndices, 'log_price']\n",
    "model = sm.OLS(y_train, X_train)\n",
    "reg = model.fit()\n",
    "#residuals = reg.resid\n",
    "print(reg.summary2())"
   ]
  },
  {
   "cell_type": "code",
   "execution_count": null,
   "metadata": {},
   "outputs": [],
   "source": []
  },
  {
   "cell_type": "code",
   "execution_count": 198,
   "metadata": {},
   "outputs": [
    {
     "name": "stderr",
     "output_type": "stream",
     "text": [
      "C:\\Users\\Raghvendra\\Anaconda3\\lib\\site-packages\\sklearn\\ensemble\\forest.py:245: FutureWarning: The default value of n_estimators will change from 10 in version 0.20 to 100 in 0.22.\n",
      "  \"10 in version 0.20 to 100 in 0.22.\", FutureWarning)\n"
     ]
    },
    {
     "ename": "ValueError",
     "evalue": "Input contains NaN, infinity or a value too large for dtype('float64').",
     "output_type": "error",
     "traceback": [
      "\u001b[1;31m---------------------------------------------------------------------------\u001b[0m",
      "\u001b[1;31mValueError\u001b[0m                                Traceback (most recent call last)",
      "\u001b[1;32m<ipython-input-198-55e3442ed211>\u001b[0m in \u001b[0;36m<module>\u001b[1;34m\u001b[0m\n\u001b[0;32m      3\u001b[0m \u001b[1;33m\u001b[0m\u001b[0m\n\u001b[0;32m      4\u001b[0m \u001b[0mclf\u001b[0m \u001b[1;33m=\u001b[0m \u001b[0mRandomForestRegressor\u001b[0m\u001b[1;33m(\u001b[0m\u001b[0mrandom_state\u001b[0m\u001b[1;33m=\u001b[0m\u001b[1;36m0\u001b[0m\u001b[1;33m)\u001b[0m\u001b[1;33m\u001b[0m\u001b[1;33m\u001b[0m\u001b[0m\n\u001b[1;32m----> 5\u001b[1;33m \u001b[0mclf\u001b[0m\u001b[1;33m.\u001b[0m\u001b[0mfit\u001b[0m\u001b[1;33m(\u001b[0m\u001b[0mX_train\u001b[0m\u001b[1;33m,\u001b[0m \u001b[0my_train\u001b[0m\u001b[1;33m)\u001b[0m\u001b[1;33m\u001b[0m\u001b[1;33m\u001b[0m\u001b[0m\n\u001b[0m\u001b[0;32m      6\u001b[0m \u001b[0mpredictions\u001b[0m \u001b[1;33m=\u001b[0m \u001b[0mclf\u001b[0m\u001b[1;33m.\u001b[0m\u001b[0mpredict\u001b[0m\u001b[1;33m(\u001b[0m\u001b[0mX_test\u001b[0m\u001b[1;33m)\u001b[0m\u001b[1;33m\u001b[0m\u001b[1;33m\u001b[0m\u001b[0m\n\u001b[0;32m      7\u001b[0m \u001b[1;33m\u001b[0m\u001b[0m\n",
      "\u001b[1;32m~\\Anaconda3\\lib\\site-packages\\sklearn\\ensemble\\forest.py\u001b[0m in \u001b[0;36mfit\u001b[1;34m(self, X, y, sample_weight)\u001b[0m\n\u001b[0;32m    248\u001b[0m         \u001b[1;31m# Validate or convert input data\u001b[0m\u001b[1;33m\u001b[0m\u001b[1;33m\u001b[0m\u001b[1;33m\u001b[0m\u001b[0m\n\u001b[0;32m    249\u001b[0m         \u001b[0mX\u001b[0m \u001b[1;33m=\u001b[0m \u001b[0mcheck_array\u001b[0m\u001b[1;33m(\u001b[0m\u001b[0mX\u001b[0m\u001b[1;33m,\u001b[0m \u001b[0maccept_sparse\u001b[0m\u001b[1;33m=\u001b[0m\u001b[1;34m\"csc\"\u001b[0m\u001b[1;33m,\u001b[0m \u001b[0mdtype\u001b[0m\u001b[1;33m=\u001b[0m\u001b[0mDTYPE\u001b[0m\u001b[1;33m)\u001b[0m\u001b[1;33m\u001b[0m\u001b[1;33m\u001b[0m\u001b[0m\n\u001b[1;32m--> 250\u001b[1;33m         \u001b[0my\u001b[0m \u001b[1;33m=\u001b[0m \u001b[0mcheck_array\u001b[0m\u001b[1;33m(\u001b[0m\u001b[0my\u001b[0m\u001b[1;33m,\u001b[0m \u001b[0maccept_sparse\u001b[0m\u001b[1;33m=\u001b[0m\u001b[1;34m'csc'\u001b[0m\u001b[1;33m,\u001b[0m \u001b[0mensure_2d\u001b[0m\u001b[1;33m=\u001b[0m\u001b[1;32mFalse\u001b[0m\u001b[1;33m,\u001b[0m \u001b[0mdtype\u001b[0m\u001b[1;33m=\u001b[0m\u001b[1;32mNone\u001b[0m\u001b[1;33m)\u001b[0m\u001b[1;33m\u001b[0m\u001b[1;33m\u001b[0m\u001b[0m\n\u001b[0m\u001b[0;32m    251\u001b[0m         \u001b[1;32mif\u001b[0m \u001b[0msample_weight\u001b[0m \u001b[1;32mis\u001b[0m \u001b[1;32mnot\u001b[0m \u001b[1;32mNone\u001b[0m\u001b[1;33m:\u001b[0m\u001b[1;33m\u001b[0m\u001b[1;33m\u001b[0m\u001b[0m\n\u001b[0;32m    252\u001b[0m             \u001b[0msample_weight\u001b[0m \u001b[1;33m=\u001b[0m \u001b[0mcheck_array\u001b[0m\u001b[1;33m(\u001b[0m\u001b[0msample_weight\u001b[0m\u001b[1;33m,\u001b[0m \u001b[0mensure_2d\u001b[0m\u001b[1;33m=\u001b[0m\u001b[1;32mFalse\u001b[0m\u001b[1;33m)\u001b[0m\u001b[1;33m\u001b[0m\u001b[1;33m\u001b[0m\u001b[0m\n",
      "\u001b[1;32m~\\Anaconda3\\lib\\site-packages\\sklearn\\utils\\validation.py\u001b[0m in \u001b[0;36mcheck_array\u001b[1;34m(array, accept_sparse, accept_large_sparse, dtype, order, copy, force_all_finite, ensure_2d, allow_nd, ensure_min_samples, ensure_min_features, warn_on_dtype, estimator)\u001b[0m\n\u001b[0;32m    540\u001b[0m         \u001b[1;32mif\u001b[0m \u001b[0mforce_all_finite\u001b[0m\u001b[1;33m:\u001b[0m\u001b[1;33m\u001b[0m\u001b[1;33m\u001b[0m\u001b[0m\n\u001b[0;32m    541\u001b[0m             _assert_all_finite(array,\n\u001b[1;32m--> 542\u001b[1;33m                                allow_nan=force_all_finite == 'allow-nan')\n\u001b[0m\u001b[0;32m    543\u001b[0m \u001b[1;33m\u001b[0m\u001b[0m\n\u001b[0;32m    544\u001b[0m     \u001b[1;32mif\u001b[0m \u001b[0mensure_min_samples\u001b[0m \u001b[1;33m>\u001b[0m \u001b[1;36m0\u001b[0m\u001b[1;33m:\u001b[0m\u001b[1;33m\u001b[0m\u001b[1;33m\u001b[0m\u001b[0m\n",
      "\u001b[1;32m~\\Anaconda3\\lib\\site-packages\\sklearn\\utils\\validation.py\u001b[0m in \u001b[0;36m_assert_all_finite\u001b[1;34m(X, allow_nan)\u001b[0m\n\u001b[0;32m     54\u001b[0m                 not allow_nan and not np.isfinite(X).all()):\n\u001b[0;32m     55\u001b[0m             \u001b[0mtype_err\u001b[0m \u001b[1;33m=\u001b[0m \u001b[1;34m'infinity'\u001b[0m \u001b[1;32mif\u001b[0m \u001b[0mallow_nan\u001b[0m \u001b[1;32melse\u001b[0m \u001b[1;34m'NaN, infinity'\u001b[0m\u001b[1;33m\u001b[0m\u001b[1;33m\u001b[0m\u001b[0m\n\u001b[1;32m---> 56\u001b[1;33m             \u001b[1;32mraise\u001b[0m \u001b[0mValueError\u001b[0m\u001b[1;33m(\u001b[0m\u001b[0mmsg_err\u001b[0m\u001b[1;33m.\u001b[0m\u001b[0mformat\u001b[0m\u001b[1;33m(\u001b[0m\u001b[0mtype_err\u001b[0m\u001b[1;33m,\u001b[0m \u001b[0mX\u001b[0m\u001b[1;33m.\u001b[0m\u001b[0mdtype\u001b[0m\u001b[1;33m)\u001b[0m\u001b[1;33m)\u001b[0m\u001b[1;33m\u001b[0m\u001b[1;33m\u001b[0m\u001b[0m\n\u001b[0m\u001b[0;32m     57\u001b[0m     \u001b[1;31m# for object dtype data, we only check for NaNs (GH-13254)\u001b[0m\u001b[1;33m\u001b[0m\u001b[1;33m\u001b[0m\u001b[1;33m\u001b[0m\u001b[0m\n\u001b[0;32m     58\u001b[0m     \u001b[1;32melif\u001b[0m \u001b[0mX\u001b[0m\u001b[1;33m.\u001b[0m\u001b[0mdtype\u001b[0m \u001b[1;33m==\u001b[0m \u001b[0mnp\u001b[0m\u001b[1;33m.\u001b[0m\u001b[0mdtype\u001b[0m\u001b[1;33m(\u001b[0m\u001b[1;34m'object'\u001b[0m\u001b[1;33m)\u001b[0m \u001b[1;32mand\u001b[0m \u001b[1;32mnot\u001b[0m \u001b[0mallow_nan\u001b[0m\u001b[1;33m:\u001b[0m\u001b[1;33m\u001b[0m\u001b[1;33m\u001b[0m\u001b[0m\n",
      "\u001b[1;31mValueError\u001b[0m: Input contains NaN, infinity or a value too large for dtype('float64')."
     ]
    }
   ],
   "source": [
    "from sklearn import tree\n",
    "from sklearn.ensemble import RandomForestRegressor\n",
    "\n",
    "clf = RandomForestRegressor(random_state=0)\n",
    "clf.fit(X_train, y_train)\n",
    "predictions = clf.predict(X_test)\n",
    "\n",
    "print(\"---- Log Price Predictions ---\")\n",
    "print(\"Predicted:\", reg.predict(X_test)[:10])\n",
    "print(\"Actual:\", y_test[:10].as_matrix())\n",
    "#print\n",
    "print(\"---- Actual Price Predictions ---\")\n",
    "print(\"Predicted:\", np.round(np.exp(reg.predict(X_test))[:10]))\n",
    "print(\"Actual:\", np.exp(y_test)[:10].as_matrix())\n",
    "#print\n",
    "\n",
    "# Mean Squared Errors (of log price)\n",
    "print(\"---- Mean Squared Errors (of log price) ---\")\n",
    "trainMeanMSE = np.mean((np.mean(y_train) - y_train) ** 2)\n",
    "trainMSE = np.mean((reg.predict(X_train) - y_train) ** 2)\n",
    "print('Training MSE for predicting mean on every example:', trainMeanMSE)\n",
    "print('Training MSE:', trainMSE)\n",
    "#print\n",
    "testMeanMSE = np.mean((np.mean(y_train) - y_test) ** 2)\n",
    "testMSE = np.mean((reg.predict(X_test) - y_test) ** 2)\n",
    "print('Test MSE for predicting mean on every example:', testMeanMSE)\n",
    "print('Test MSE:', testMSE)"
   ]
  },
  {
   "cell_type": "code",
   "execution_count": 197,
   "metadata": {},
   "outputs": [
    {
     "name": "stdout",
     "output_type": "stream",
     "text": [
      "---- Log Price Predictions ---\n"
     ]
    },
    {
     "name": "stderr",
     "output_type": "stream",
     "text": [
      "C:\\Users\\Raghvendra\\Anaconda3\\lib\\site-packages\\pandas\\core\\indexing.py:1418: FutureWarning: \n",
      "Passing list-likes to .loc or [] with any missing label will raise\n",
      "KeyError in the future, you can use .reindex() as an alternative.\n",
      "\n",
      "See the documentation here:\n",
      "https://pandas.pydata.org/pandas-docs/stable/user_guide/indexing.html#deprecate-loc-reindex-listlike\n",
      "  return self._getitem_tuple(key)\n"
     ]
    },
    {
     "ename": "ValueError",
     "evalue": "shapes (6438,11) and (10,) not aligned: 11 (dim 1) != 10 (dim 0)",
     "output_type": "error",
     "traceback": [
      "\u001b[1;31m---------------------------------------------------------------------------\u001b[0m",
      "\u001b[1;31mValueError\u001b[0m                                Traceback (most recent call last)",
      "\u001b[1;32m<ipython-input-197-72468f310bb6>\u001b[0m in \u001b[0;36m<module>\u001b[1;34m\u001b[0m\n\u001b[0;32m      8\u001b[0m \u001b[1;33m\u001b[0m\u001b[0m\n\u001b[0;32m      9\u001b[0m \u001b[0mprint\u001b[0m\u001b[1;33m(\u001b[0m\u001b[1;34m\"---- Log Price Predictions ---\"\u001b[0m\u001b[1;33m)\u001b[0m\u001b[1;33m\u001b[0m\u001b[1;33m\u001b[0m\u001b[0m\n\u001b[1;32m---> 10\u001b[1;33m \u001b[0mprint\u001b[0m\u001b[1;33m(\u001b[0m\u001b[1;34m\"Predicted:\"\u001b[0m\u001b[1;33m,\u001b[0m \u001b[0mreg\u001b[0m\u001b[1;33m.\u001b[0m\u001b[0mpredict\u001b[0m\u001b[1;33m(\u001b[0m\u001b[0mX_test\u001b[0m\u001b[1;33m)\u001b[0m\u001b[1;33m[\u001b[0m\u001b[1;33m:\u001b[0m\u001b[1;36m10\u001b[0m\u001b[1;33m]\u001b[0m\u001b[1;33m)\u001b[0m\u001b[1;33m\u001b[0m\u001b[1;33m\u001b[0m\u001b[0m\n\u001b[0m\u001b[0;32m     11\u001b[0m \u001b[0mprint\u001b[0m\u001b[1;33m(\u001b[0m\u001b[1;34m\"Actual:\"\u001b[0m\u001b[1;33m,\u001b[0m \u001b[0my_test\u001b[0m\u001b[1;33m[\u001b[0m\u001b[1;33m:\u001b[0m\u001b[1;36m10\u001b[0m\u001b[1;33m]\u001b[0m\u001b[1;33m.\u001b[0m\u001b[0mas_matrix\u001b[0m\u001b[1;33m(\u001b[0m\u001b[1;33m)\u001b[0m\u001b[1;33m)\u001b[0m\u001b[1;33m\u001b[0m\u001b[1;33m\u001b[0m\u001b[0m\n\u001b[0;32m     12\u001b[0m \u001b[1;31m#print\u001b[0m\u001b[1;33m\u001b[0m\u001b[1;33m\u001b[0m\u001b[1;33m\u001b[0m\u001b[0m\n",
      "\u001b[1;32m~\\Anaconda3\\lib\\site-packages\\statsmodels\\base\\model.py\u001b[0m in \u001b[0;36mpredict\u001b[1;34m(self, exog, transform, *args, **kwargs)\u001b[0m\n\u001b[0;32m   1036\u001b[0m \u001b[1;33m\u001b[0m\u001b[0m\n\u001b[0;32m   1037\u001b[0m         predict_results = self.model.predict(self.params, exog, *args,\n\u001b[1;32m-> 1038\u001b[1;33m                                              **kwargs)\n\u001b[0m\u001b[0;32m   1039\u001b[0m \u001b[1;33m\u001b[0m\u001b[0m\n\u001b[0;32m   1040\u001b[0m         if exog_index is not None and not hasattr(predict_results,\n",
      "\u001b[1;32m~\\Anaconda3\\lib\\site-packages\\statsmodels\\regression\\linear_model.py\u001b[0m in \u001b[0;36mpredict\u001b[1;34m(self, params, exog)\u001b[0m\n\u001b[0;32m    362\u001b[0m             \u001b[0mexog\u001b[0m \u001b[1;33m=\u001b[0m \u001b[0mself\u001b[0m\u001b[1;33m.\u001b[0m\u001b[0mexog\u001b[0m\u001b[1;33m\u001b[0m\u001b[1;33m\u001b[0m\u001b[0m\n\u001b[0;32m    363\u001b[0m \u001b[1;33m\u001b[0m\u001b[0m\n\u001b[1;32m--> 364\u001b[1;33m         \u001b[1;32mreturn\u001b[0m \u001b[0mnp\u001b[0m\u001b[1;33m.\u001b[0m\u001b[0mdot\u001b[0m\u001b[1;33m(\u001b[0m\u001b[0mexog\u001b[0m\u001b[1;33m,\u001b[0m \u001b[0mparams\u001b[0m\u001b[1;33m)\u001b[0m\u001b[1;33m\u001b[0m\u001b[1;33m\u001b[0m\u001b[0m\n\u001b[0m\u001b[0;32m    365\u001b[0m \u001b[1;33m\u001b[0m\u001b[0m\n\u001b[0;32m    366\u001b[0m     \u001b[1;32mdef\u001b[0m \u001b[0mget_distribution\u001b[0m\u001b[1;33m(\u001b[0m\u001b[0mself\u001b[0m\u001b[1;33m,\u001b[0m \u001b[0mparams\u001b[0m\u001b[1;33m,\u001b[0m \u001b[0mscale\u001b[0m\u001b[1;33m,\u001b[0m \u001b[0mexog\u001b[0m\u001b[1;33m=\u001b[0m\u001b[1;32mNone\u001b[0m\u001b[1;33m,\u001b[0m \u001b[0mdist_class\u001b[0m\u001b[1;33m=\u001b[0m\u001b[1;32mNone\u001b[0m\u001b[1;33m)\u001b[0m\u001b[1;33m:\u001b[0m\u001b[1;33m\u001b[0m\u001b[1;33m\u001b[0m\u001b[0m\n",
      "\u001b[1;31mValueError\u001b[0m: shapes (6438,11) and (10,) not aligned: 11 (dim 1) != 10 (dim 0)"
     ]
    }
   ],
   "source": [
    "y_test = regressionDF.loc[testIndices, 'log_price']\n",
    "X_test = regressionDF.loc[testIndices, \n",
    "                            ['bedrooms_0', 'bedrooms_2orMore', 'beds_2',\n",
    "                             'capacity_2', 'capacity_3', 'capacity_4', 'capacity_5orMore',\n",
    "                             'property_house', 'property_other',\n",
    "                             'avg_neighborhood_rent']]\n",
    "X_test = sm.add_constant(X_test)\n",
    "\n",
    "print(\"---- Log Price Predictions ---\")\n",
    "print(\"Predicted:\", reg.predict(X_test)[:10])\n",
    "print(\"Actual:\", y_test[:10].as_matrix())\n",
    "#print\n",
    "print(\"---- Actual Price Predictions ---\")\n",
    "print(\"Predicted:\", np.round(np.exp(reg.predict(X_test))[:10]))\n",
    "print(\"Actual:\", np.exp(y_test)[:10].as_matrix())\n",
    "#print\n",
    "\n",
    "# Mean Squared Errors (of log price)\n",
    "print(\"---- Mean Squared Errors (of log price) ---\")\n",
    "trainMeanMSE = np.mean((np.mean(y_train) - y_train) ** 2)\n",
    "trainMSE = np.mean((reg.predict(X_train) - y_train) ** 2)\n",
    "print('Training MSE for predicting mean on every example:', trainMeanMSE)\n",
    "print('Training MSE:', trainMSE)\n",
    "#print\n",
    "testMeanMSE = np.mean((np.mean(y_train) - y_test) ** 2)\n",
    "testMSE = np.mean((reg.predict(X_test) - y_test) ** 2)\n",
    "print('Test MSE for predicting mean on every example:', testMeanMSE)\n",
    "print('Test MSE:', testMSE)"
   ]
  },
  {
   "cell_type": "code",
   "execution_count": null,
   "metadata": {},
   "outputs": [],
   "source": []
  },
  {
   "cell_type": "code",
   "execution_count": null,
   "metadata": {},
   "outputs": [],
   "source": []
  },
  {
   "cell_type": "code",
   "execution_count": null,
   "metadata": {},
   "outputs": [],
   "source": [
    "def plotBarPlot(listingsSummary, name, xlabel, includeXTicks=True):\n",
    "    counts = Counter(listingsSummary[nameUpdated])\n",
    "    countValuesSortedByKeys = map(lambda key: counts[key], sorted(counts.keys()))\n",
    "    plt.bar(range(len(countValuesSortedByKeys)), countValuesSortedByKeys)\n",
    "    if includeXTicks:\n",
    "        plt.xticks(np.arange(len(counts))+0.4, sorted(counts.keys()))\n",
    "    plt.axis('tight')\n",
    "    plt.xlabel(xlabel)\n",
    "    plt.ylabel('Count')\n",
    "    \n",
    "def plotBoxPlot(listingsSummary, name, xlabel, includeXTicks=True):\n",
    "    varPrices = []   # will contain grouped prices for each value of name\n",
    "    for value, group in listingsSummary.groupby([nameUpdated]):\n",
    "        varPrices.append(group['price'].as_matrix())\n",
    "    plt.boxplot(varPrices)\n",
    "    allValues = listingsSummary[nameUpdated].dropna()\n",
    "    if includeXTicks:\n",
    "        plt.xticks(range(1, len(allValues.unique()) + 1),\n",
    "                   sorted(allValues.unique()))\n",
    "    plt.xlabel(xlabel)\n",
    "    plt.ylabel('Price')\n",
    "\n",
    "# Categorical variables except property type\n",
    "variables = [\n",
    "    {'name': 'bathrooms', 'xlabel': 'Number of Bathrooms'},\n",
    "    {'name': 'bedrooms', 'xlabel': 'Number of Bedrooms'},\n",
    "    {'name': 'beds', 'xlabel': 'Number of Beds'},\n",
    "    #{'name': 'person_capacity', 'xlabel': 'Capacity (people)'},\n",
    "    {'name': 'host_has_profile_pic', 'xlabel': 'Host has Profile Picture?'},\n",
    "    {'name': 'host_is_superhost', 'xlabel': 'Is Superhost?'},\n",
    "    #{'name': 'star_rating', 'xlabel': 'Star Rating'}\n",
    "]\n",
    "\n",
    "plt.figure(figsize=(12,32))\n",
    "for i, var in enumerate(variables):\n",
    "    name = var['name']\n",
    "    xlabel = var['xlabel']\n",
    "    # Plot histogram\n",
    "    plt.subplot(5, 2, 2*i+1)\n",
    "    plotHistogram(listingsSummary, name, xlabel)\n",
    "    # Plot box plot\n",
    "    plt.subplot(5, 2, 2*i+2)\n",
    "    plotBoxPlot(listingsSummary, name, xlabel)\n",
    "    \n",
    "# Property type categorical variable\n",
    "name = 'property_type'\n",
    "xlabel = 'Property Type'\n",
    "plt.figure(figsize=(12,8))\n",
    "plt.subplot(2, 1, 1)\n",
    "plotBarPlot(listingsSummary, name, xlabel)\n",
    "plt.subplot(2, 1, 2)\n",
    "plotBoxPlot(listingsSummary, name, xlabel)"
   ]
  },
  {
   "cell_type": "code",
   "execution_count": null,
   "metadata": {},
   "outputs": [],
   "source": [
    "plt.figure(figsize=(8,4))\n",
    "regularizationParams = np.logspace(-5,5,11)\n",
    "model = sm.OLS(y_train, X_train)\n",
    "rSquaredValues = [model.fit_regularized(alpha=param) for param in regularizationParams]\n",
    "plt.semilogx(regularizationParams, rSquaredValues)\n",
    "plt.title('R Squared vs. Regularization Parameter')\n",
    "plt.xlabel('Regularization Parameter')\n",
    "plt.ylabel('R Squared')\n",
    "print('Best adjusted R-squared:', max(rSquaredValues))"
   ]
  },
  {
   "cell_type": "code",
   "execution_count": null,
   "metadata": {},
   "outputs": [],
   "source": [
    "plt.figure(figsize=(12,10))\n",
    "\n",
    "plt.subplot(2, 2, 1)\n",
    "plt.hist(residuals)\n",
    "plt.title(\"Distribution of Residuals\")\n",
    "plt.xlabel('Residual')\n",
    "plt.ylabel('Count')\n",
    "\n",
    "plt.subplot(2, 2, 2)\n",
    "stats.probplot(residuals, plot=plt)\n",
    "plt.title(\"Probability Plot (Residuals)\")\n",
    "\n",
    "# Log transform response variable and refit model\n",
    "regressionDF['log_price'] = np.log(listingsSummary['price'])\n",
    "y_train = regressionDF.loc[trainIndices, 'log_price']\n",
    "model = sm.OLS(y_train, X_train)\n",
    "reg = model.fit()\n",
    "residuals = reg.resid\n",
    "\n",
    "# Residuals after log transform\n",
    "plt.subplot(2, 2, 3)\n",
    "plt.hist(residuals)\n",
    "plt.title(\"Distribution of Residuals (after log transform)\")\n",
    "plt.xlabel('Residual')\n",
    "plt.ylabel('Count')\n",
    "\n",
    "# QQ Plot\n",
    "plt.subplot(2, 2, 4)\n",
    "stats.probplot(residuals, plot=plt)\n",
    "plt.title(\"Probability Plot (Residuals after log transform)\")"
   ]
  }
 ],
 "metadata": {
  "kernelspec": {
   "display_name": "Python 3",
   "language": "python",
   "name": "python3"
  },
  "language_info": {
   "codemirror_mode": {
    "name": "ipython",
    "version": 3
   },
   "file_extension": ".py",
   "mimetype": "text/x-python",
   "name": "python",
   "nbconvert_exporter": "python",
   "pygments_lexer": "ipython3",
   "version": "3.6.9"
  }
 },
 "nbformat": 4,
 "nbformat_minor": 2
}
